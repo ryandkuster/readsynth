{
 "cells": [
  {
   "cell_type": "code",
   "execution_count": 1,
   "metadata": {},
   "outputs": [],
   "source": [
    "import pandas as pd\n",
    "import numpy as np\n",
    "import matplotlib.pyplot as plt\n",
    "import random\n",
    "import time\n",
    "\n",
    "from collections import Counter"
   ]
  },
  {
   "cell_type": "code",
   "execution_count": 2,
   "metadata": {},
   "outputs": [
    {
     "name": "stdout",
     "output_type": "stream",
     "text": [
      "32\n",
      "45\n"
     ]
    }
   ],
   "source": [
    "dup_file = '/Users/ryankuster/github/readsynth/tests/test_project3/output/copies_GCF_000005845.2_ASM584v2_genomic.fna.csv'\n",
    "\n",
    "start = time.time()\n",
    "\n",
    "mean = 400\n",
    "upper_bound = 490\n",
    "diff = upper_bound - mean\n",
    "sd = int(round(0.08*mean, 0)) # using Sage Science CV of 8%\n",
    "print(sd)\n",
    "sd = max(sd, int(round(diff/2, 0)))\n",
    "print(sd)"
   ]
  },
  {
   "cell_type": "code",
   "execution_count": 3,
   "metadata": {},
   "outputs": [],
   "source": [
    "def gauss_pdf(mean, sd, x):\n",
    "    pdf = (1/sd*np.sqrt(2*np.pi))*np.exp((-1/2)*((x-mean)/sd)**2)\n",
    "    return pdf\n",
    "\n",
    "\n",
    "def length_dict(df, mean, sd):\n",
    "    '''\n",
    "    create a len_dt, storing the count for each length\n",
    "    '''\n",
    "    len_dt = {}\n",
    "    for i in range(0, mean + sd*6 + 1):\n",
    "        len_dt[i] = df[df.full_length == i]['copies'].sum()\n",
    "\n",
    "    return len_dt\n",
    "\n",
    "\n",
    "def draw_dict(df, draw_ls):\n",
    "    '''\n",
    "    create a dictionary of draw numbers\n",
    "    '''\n",
    "    draw_dt = {}\n",
    "    draw_ls = Counter(draw_ls)\n",
    "    for i in range(min(draw_ls), max(draw_ls)+1):\n",
    "        draw_counts = int(round(draw_ls[i] * .6, 0))\n",
    "        data_counts = int(round(df[df.full_length == i]['copies'].sum() * 0.6, 0))\n",
    "        draw_dt[i] = min(draw_counts, data_counts)\n",
    "\n",
    "    return draw_dt\n",
    "\n",
    "\n",
    "def draw_reads(df, col_names, draw_dt):\n",
    "    '''\n",
    "    for each fragment length, randomly draw reads\n",
    "    '''\n",
    "    sampled_df = pd.DataFrame(columns=col_names)\n",
    "    counts = []\n",
    "\n",
    "    for length, draws in draw_dt.items():\n",
    "        tmp_df = df.loc[df['full_length'] == length]\n",
    "        if len(tmp_df) == 0:\n",
    "            continue\n",
    "        indices = [i for i in range(len(tmp_df))]\n",
    "        sampled_idx = random.choices(indices, k=draws)\n",
    "        counts += [sampled_idx.count(idx) for idx in indices]\n",
    "        sampled_df = pd.concat([sampled_df, tmp_df])\n",
    "\n",
    "    sampled_df['counts'] = counts\n",
    "\n",
    "    return sampled_df"
   ]
  },
  {
   "cell_type": "code",
   "execution_count": 4,
   "metadata": {},
   "outputs": [],
   "source": [
    "df = pd.read_csv(dup_file)\n",
    "col_names = [col for col in df.columns]\n",
    "\n",
    "if len(df) == 0:\n",
    "    sys.exit('no fragments produced with current settings')\n",
    "\n",
    "modifier = 0\n",
    "\n",
    "df['full_length'] = df['length'] + modifier\n",
    "df.sort_values(['full_length'], ascending=[True], inplace=True)\n",
    "df.reset_index(inplace=True, drop=True)\n",
    "\n",
    "len_dt = length_dict(df, mean, sd)"
   ]
  },
  {
   "cell_type": "code",
   "execution_count": 5,
   "metadata": {},
   "outputs": [],
   "source": [
    "a = [len_dt[i] for i in range(mean, (upper_bound+(upper_bound-mean))+1)]\n",
    "\n",
    "avg_upper = sum(a)/len(a)\n",
    "scale_by = avg_upper/gauss_pdf(mean, sd, upper_bound)"
   ]
  },
  {
   "cell_type": "code",
   "execution_count": 6,
   "metadata": {},
   "outputs": [],
   "source": [
    "answers = [gauss_pdf(mean, sd, x)*scale_by for x in range(0, mean + 6*sd + 1)]\n",
    "total_reads = int(round(sum(answers), 0))"
   ]
  },
  {
   "cell_type": "code",
   "execution_count": 7,
   "metadata": {},
   "outputs": [],
   "source": [
    "def new_approach(mean, sd, len_dt, scale_by):\n",
    "    draw_dt = {}\n",
    "    \n",
    "    for x in range(0, mean + 6*sd + 1):\n",
    "        draw_counts = int(round(gauss_pdf(mean, sd, x)*scale_by, 0))\n",
    "        data_counts = len_dt[x]\n",
    "        draw_dt[x] = min(draw_counts, data_counts)\n",
    "        \n",
    "    return draw_dt\n",
    "\n",
    "draw_dt = new_approach(mean, sd, len_dt, scale_by)"
   ]
  },
  {
   "cell_type": "code",
   "execution_count": 8,
   "metadata": {},
   "outputs": [
    {
     "name": "stdout",
     "output_type": "stream",
     "text": [
      "0.35935401916503906\n"
     ]
    }
   ],
   "source": [
    "# draw_ls = np.array(np.random.normal(loc=mean,scale=sd,size=total_reads))\n",
    "# draw_ls = np.rint(draw_ls).astype(np.int32)\n",
    "# draw_ls = draw_ls.tolist()\n",
    "# draw_dt = draw_dict(df, draw_ls)\n",
    "# print(sum(draw_dt.values()))\n",
    "print(time.time() - start)"
   ]
  },
  {
   "cell_type": "code",
   "execution_count": 9,
   "metadata": {},
   "outputs": [],
   "source": [
    "# sampled_df = draw_reads(df, col_names, draw_dt)"
   ]
  },
  {
   "cell_type": "code",
   "execution_count": 10,
   "metadata": {
    "scrolled": false
   },
   "outputs": [
    {
     "data": {
      "text/plain": [
       "[<matplotlib.lines.Line2D at 0x11716a0d0>]"
      ]
     },
     "execution_count": 10,
     "metadata": {},
     "output_type": "execute_result"
    },
    {
     "data": {
      "image/png": "[encoded data removed]",
      "text/plain": [
       "<Figure size 1080x576 with 1 Axes>"
      ]
     },
     "metadata": {
      "needs_background": "light"
     },
     "output_type": "display_data"
    }
   ],
   "source": [
    "from pylab import rcParams\n",
    "rcParams['figure.figsize'] = 15, 8\n",
    "\n",
    "xls, yls = [], []\n",
    "\n",
    "for x in range(0, (mean+(6*sd))):\n",
    "    xls.append(x)\n",
    "    yls.append(gauss_pdf(mean, sd, x)* scale_by)\n",
    "\n",
    "plt.hist(df['length'], weights=df['copies'], bins=(df['length'].max() - df['length'].min()), alpha=0.5)\n",
    "plt.hist(list(len_dt.keys()), weights=list(len_dt.values()), bins=(max(len_dt.keys())-min(len_dt.keys())), alpha=0.95, color='purple')\n",
    "plt.hist(list(draw_dt.keys()), weights=list(draw_dt.values()), bins=(max(draw_dt.keys())-min(draw_dt.keys())), alpha=0.95, color='orange')\n",
    "plt.plot(xls, yls, c=\"green\")\n"
   ]
  },
  {
   "cell_type": "code",
   "execution_count": 6,
   "metadata": {
    "scrolled": false
   },
   "outputs": [
    {
     "data": {
      "text/plain": [
       "(array([1.000e+00, 1.000e+00, 1.000e+00, 1.000e+00, 1.000e+00, 1.000e+00,\n",
       "        1.000e+00, 1.000e+00, 1.000e+00, 1.000e+00, 1.000e+00, 1.000e+00,\n",
       "        1.000e+00, 1.000e+00, 1.000e+00, 1.000e+00, 1.000e+00, 2.000e+00,\n",
       "        2.000e+00, 2.000e+00, 2.000e+00, 3.000e+00, 3.000e+00, 3.000e+00,\n",
       "        3.000e+00, 3.000e+00, 3.000e+00, 4.000e+00, 4.000e+00, 5.000e+00,\n",
       "        5.000e+00, 5.000e+00, 6.000e+00, 6.000e+00, 7.000e+00, 7.000e+00,\n",
       "        8.000e+00, 8.000e+00, 9.000e+00, 1.000e+01, 1.100e+01, 1.200e+01,\n",
       "        1.300e+01, 1.400e+01, 1.500e+01, 1.600e+01, 1.800e+01, 1.900e+01,\n",
       "        2.000e+01, 2.200e+01, 2.300e+01, 2.500e+01, 2.700e+01, 2.900e+01,\n",
       "        3.200e+01, 3.400e+01, 3.600e+01, 3.900e+01, 4.200e+01, 4.500e+01,\n",
       "        4.800e+01, 5.200e+01, 5.600e+01, 6.000e+01, 6.400e+01, 6.800e+01,\n",
       "        7.300e+01, 7.800e+01, 8.400e+01, 9.000e+01, 9.600e+01, 1.020e+02,\n",
       "        1.090e+02, 1.160e+02, 1.240e+02, 1.320e+02, 1.410e+02, 1.500e+02,\n",
       "        1.600e+02, 1.700e+02, 1.810e+02, 1.920e+02, 2.050e+02, 2.180e+02,\n",
       "        2.310e+02, 2.460e+02, 2.610e+02, 2.770e+02, 2.940e+02, 3.110e+02,\n",
       "        3.300e+02, 3.500e+02, 3.700e+02, 3.920e+02, 4.150e+02, 4.390e+02,\n",
       "        4.640e+02, 4.910e+02, 5.180e+02, 5.470e+02, 5.780e+02, 6.100e+02,\n",
       "        6.440e+02, 6.790e+02, 7.150e+02, 7.530e+02, 7.940e+02, 8.350e+02,\n",
       "        8.790e+02, 9.240e+02, 9.720e+02, 1.022e+03, 1.074e+03, 1.127e+03,\n",
       "        1.184e+03, 1.242e+03, 1.303e+03, 1.366e+03, 1.432e+03, 1.500e+03,\n",
       "        1.571e+03, 1.644e+03, 1.721e+03, 1.800e+03, 1.882e+03, 1.968e+03,\n",
       "        2.055e+03, 2.147e+03, 2.241e+03, 2.339e+03, 2.439e+03, 2.543e+03,\n",
       "        2.651e+03, 2.762e+03, 2.876e+03, 2.995e+03, 3.116e+03, 3.241e+03,\n",
       "        3.370e+03, 3.379e+03, 3.284e+03, 3.373e+03, 3.920e+03, 3.799e+03,\n",
       "        3.313e+03, 3.319e+03, 2.897e+03, 3.589e+03, 3.892e+03, 2.439e+03,\n",
       "        3.011e+03, 3.890e+03, 3.532e+03, 3.310e+03, 3.238e+03, 3.737e+03,\n",
       "        3.112e+03, 3.699e+03, 3.690e+03, 3.372e+03, 3.314e+03, 3.317e+03,\n",
       "        3.822e+03, 3.330e+03, 3.383e+03, 3.470e+03, 3.623e+03, 3.554e+03,\n",
       "        3.146e+03, 3.515e+03, 3.114e+03, 3.409e+03, 3.381e+03, 3.303e+03,\n",
       "        3.527e+03, 3.388e+03, 3.498e+03, 3.535e+03, 2.982e+03, 3.768e+03,\n",
       "        3.121e+03, 3.489e+03, 3.672e+03, 3.282e+03, 3.125e+03, 2.829e+03,\n",
       "        3.409e+03, 2.993e+03, 3.490e+03, 3.322e+03, 2.627e+03, 4.105e+03,\n",
       "        4.060e+03, 3.270e+03, 4.006e+03, 3.646e+03, 3.258e+03, 3.193e+03,\n",
       "        3.401e+03, 3.404e+03, 3.216e+03, 3.077e+03, 3.192e+03, 3.593e+03,\n",
       "        3.359e+03, 3.210e+03, 2.785e+03, 2.978e+03, 3.467e+03, 3.329e+03,\n",
       "        3.063e+03, 3.075e+03, 2.967e+03, 2.840e+03, 2.965e+03, 3.224e+03,\n",
       "        3.247e+03, 3.736e+03, 3.199e+03, 3.409e+03, 3.054e+03, 3.045e+03,\n",
       "        3.414e+03, 2.702e+03, 3.166e+03, 2.488e+03, 2.656e+03, 3.088e+03,\n",
       "        2.976e+03, 2.742e+03, 3.234e+03, 2.774e+03, 2.982e+03, 3.255e+03,\n",
       "        3.137e+03, 2.367e+03, 3.271e+03, 3.810e+03, 3.058e+03, 2.937e+03,\n",
       "        3.398e+03, 3.168e+03, 3.318e+03, 2.965e+03, 2.543e+03, 3.052e+03,\n",
       "        2.800e+03, 2.747e+03, 2.978e+03, 3.498e+03, 3.018e+03, 2.669e+03,\n",
       "        2.978e+03, 3.446e+03, 3.444e+03, 2.883e+03, 2.653e+03, 3.724e+03,\n",
       "        2.929e+03, 3.059e+03, 3.089e+03, 3.198e+03, 3.302e+03, 2.625e+03,\n",
       "        2.960e+03, 2.822e+03, 3.535e+03, 3.264e+03, 3.009e+03, 3.380e+03,\n",
       "        2.859e+03, 2.258e+03, 3.290e+03, 3.752e+03, 2.754e+03, 2.643e+03,\n",
       "        2.534e+03, 3.334e+03, 3.600e+03, 3.085e+03, 2.728e+03, 2.967e+03,\n",
       "        2.963e+03, 3.449e+03, 2.416e+03, 3.015e+03, 3.607e+03, 2.902e+03,\n",
       "        2.705e+03, 2.751e+03, 2.762e+03, 3.151e+03, 3.416e+03, 2.824e+03,\n",
       "        3.381e+03, 3.394e+03, 2.486e+03, 2.981e+03, 2.923e+03, 3.162e+03,\n",
       "        3.238e+03, 2.972e+03, 2.528e+03, 2.898e+03, 2.387e+03, 2.842e+03,\n",
       "        3.397e+03, 2.666e+03, 3.003e+03, 2.850e+03, 2.579e+03, 3.097e+03,\n",
       "        2.671e+03, 3.569e+03, 3.202e+03, 3.018e+03, 2.966e+03, 2.943e+03,\n",
       "        2.609e+03, 3.288e+03, 2.969e+03, 4.105e+03, 2.762e+03, 2.906e+03,\n",
       "        3.174e+03, 2.614e+03, 2.823e+03, 3.994e+03, 3.228e+03, 3.453e+03,\n",
       "        2.809e+03, 2.941e+03, 3.370e+03, 2.976e+03, 2.821e+03, 2.995e+03,\n",
       "        2.876e+03, 2.762e+03, 2.651e+03, 2.543e+03, 2.439e+03, 2.339e+03,\n",
       "        2.241e+03, 2.147e+03, 2.055e+03, 1.968e+03, 1.882e+03, 1.800e+03,\n",
       "        1.721e+03, 1.644e+03, 1.571e+03, 1.500e+03, 1.432e+03, 1.366e+03,\n",
       "        1.303e+03, 1.242e+03, 1.184e+03, 1.127e+03, 1.074e+03, 1.022e+03,\n",
       "        9.720e+02, 9.240e+02, 8.790e+02, 8.350e+02, 7.940e+02, 7.530e+02,\n",
       "        7.150e+02, 6.790e+02, 6.440e+02, 6.100e+02, 5.780e+02, 5.470e+02,\n",
       "        5.180e+02, 4.910e+02, 4.640e+02, 4.390e+02, 4.150e+02, 3.920e+02,\n",
       "        3.700e+02, 3.500e+02, 3.300e+02, 3.110e+02, 2.940e+02, 2.770e+02,\n",
       "        2.610e+02, 2.460e+02, 2.310e+02, 2.180e+02, 2.050e+02, 1.920e+02,\n",
       "        1.810e+02, 1.700e+02, 1.600e+02, 1.500e+02, 1.410e+02, 1.320e+02,\n",
       "        1.240e+02, 1.160e+02, 1.090e+02, 1.020e+02, 9.600e+01, 9.000e+01,\n",
       "        8.400e+01, 7.800e+01, 7.300e+01, 6.800e+01, 6.400e+01, 6.000e+01,\n",
       "        5.600e+01, 5.200e+01, 4.800e+01, 4.500e+01, 4.200e+01, 3.900e+01,\n",
       "        3.600e+01, 3.400e+01, 3.200e+01, 2.900e+01, 2.700e+01, 2.500e+01,\n",
       "        2.300e+01, 2.200e+01, 2.000e+01, 1.900e+01, 1.800e+01, 1.600e+01,\n",
       "        1.500e+01, 1.400e+01, 1.300e+01, 1.200e+01, 1.100e+01, 1.000e+01,\n",
       "        9.000e+00, 8.000e+00, 8.000e+00, 7.000e+00, 7.000e+00, 6.000e+00,\n",
       "        6.000e+00, 5.000e+00, 5.000e+00, 5.000e+00, 4.000e+00, 4.000e+00,\n",
       "        3.000e+00, 3.000e+00, 3.000e+00, 3.000e+00, 3.000e+00, 3.000e+00,\n",
       "        2.000e+00, 2.000e+00, 2.000e+00, 2.000e+00, 1.000e+00, 1.000e+00,\n",
       "        1.000e+00, 1.000e+00, 1.000e+00, 1.000e+00, 1.000e+00, 1.000e+00,\n",
       "        1.000e+00, 1.000e+00, 1.000e+00, 1.000e+00, 1.000e+00, 1.000e+00,\n",
       "        1.000e+00, 2.000e+00]),\n",
       " array([123., 124., 125., 126., 127., 128., 129., 130., 131., 132., 133.,\n",
       "        134., 135., 136., 137., 138., 139., 140., 141., 142., 143., 144.,\n",
       "        145., 146., 147., 148., 149., 150., 151., 152., 153., 154., 155.,\n",
       "        156., 157., 158., 159., 160., 161., 162., 163., 164., 165., 166.,\n",
       "        167., 168., 169., 170., 171., 172., 173., 174., 175., 176., 177.,\n",
       "        178., 179., 180., 181., 182., 183., 184., 185., 186., 187., 188.,\n",
       "        189., 190., 191., 192., 193., 194., 195., 196., 197., 198., 199.,\n",
       "        200., 201., 202., 203., 204., 205., 206., 207., 208., 209., 210.,\n",
       "        211., 212., 213., 214., 215., 216., 217., 218., 219., 220., 221.,\n",
       "        222., 223., 224., 225., 226., 227., 228., 229., 230., 231., 232.,\n",
       "        233., 234., 235., 236., 237., 238., 239., 240., 241., 242., 243.,\n",
       "        244., 245., 246., 247., 248., 249., 250., 251., 252., 253., 254.,\n",
       "        255., 256., 257., 258., 259., 260., 261., 262., 263., 264., 265.,\n",
       "        266., 267., 268., 269., 270., 271., 272., 273., 274., 275., 276.,\n",
       "        277., 278., 279., 280., 281., 282., 283., 284., 285., 286., 287.,\n",
       "        288., 289., 290., 291., 292., 293., 294., 295., 296., 297., 298.,\n",
       "        299., 300., 301., 302., 303., 304., 305., 306., 307., 308., 309.,\n",
       "        310., 311., 312., 313., 314., 315., 316., 317., 318., 319., 320.,\n",
       "        321., 322., 323., 324., 325., 326., 327., 328., 329., 330., 331.,\n",
       "        332., 333., 334., 335., 336., 337., 338., 339., 340., 341., 342.,\n",
       "        343., 344., 345., 346., 347., 348., 349., 350., 351., 352., 353.,\n",
       "        354., 355., 356., 357., 358., 359., 360., 361., 362., 363., 364.,\n",
       "        365., 366., 367., 368., 369., 370., 371., 372., 373., 374., 375.,\n",
       "        376., 377., 378., 379., 380., 381., 382., 383., 384., 385., 386.,\n",
       "        387., 388., 389., 390., 391., 392., 393., 394., 395., 396., 397.,\n",
       "        398., 399., 400., 401., 402., 403., 404., 405., 406., 407., 408.,\n",
       "        409., 410., 411., 412., 413., 414., 415., 416., 417., 418., 419.,\n",
       "        420., 421., 422., 423., 424., 425., 426., 427., 428., 429., 430.,\n",
       "        431., 432., 433., 434., 435., 436., 437., 438., 439., 440., 441.,\n",
       "        442., 443., 444., 445., 446., 447., 448., 449., 450., 451., 452.,\n",
       "        453., 454., 455., 456., 457., 458., 459., 460., 461., 462., 463.,\n",
       "        464., 465., 466., 467., 468., 469., 470., 471., 472., 473., 474.,\n",
       "        475., 476., 477., 478., 479., 480., 481., 482., 483., 484., 485.,\n",
       "        486., 487., 488., 489., 490., 491., 492., 493., 494., 495., 496.,\n",
       "        497., 498., 499., 500., 501., 502., 503., 504., 505., 506., 507.,\n",
       "        508., 509., 510., 511., 512., 513., 514., 515., 516., 517., 518.,\n",
       "        519., 520., 521., 522., 523., 524., 525., 526., 527., 528., 529.,\n",
       "        530., 531., 532., 533., 534., 535., 536., 537., 538., 539., 540.,\n",
       "        541., 542., 543., 544., 545., 546., 547., 548., 549., 550., 551.,\n",
       "        552., 553., 554., 555., 556., 557., 558., 559., 560., 561., 562.,\n",
       "        563., 564., 565., 566., 567., 568., 569., 570., 571., 572., 573.,\n",
       "        574., 575., 576., 577., 578., 579., 580., 581., 582., 583., 584.,\n",
       "        585., 586., 587., 588., 589., 590., 591., 592., 593.]),\n",
       " <BarContainer object of 470 artists>)"
      ]
     },
     "execution_count": 6,
     "metadata": {},
     "output_type": "execute_result"
    },
    {
     "data": {
      "image/png": "[encoded data removed]",
      "text/plain": [
       "<Figure size 1080x576 with 1 Axes>"
      ]
     },
     "metadata": {
      "needs_background": "light"
     },
     "output_type": "display_data"
    }
   ],
   "source": [
    "from pylab import rcParams\n",
    "rcParams['figure.figsize'] = 15, 8\n",
    "\n",
    "cop_file = '/Users/ryankuster/github/readsynth/tests/test_project4/output/sampled_chr_1.fna.csv'\n",
    "df = pd.read_csv(cop_file)\n",
    "\n",
    "plt.hist(df['full_length'], weights=df['counts'], bins=(df['full_length'].max() - df['full_length'].min()), alpha=0.5)"
   ]
  }
 ],
 "metadata": {
  "kernelspec": {
   "display_name": "Python 3",
   "language": "python",
   "name": "python3"
  },
  "language_info": {
   "codemirror_mode": {
    "name": "ipython",
    "version": 3
   },
   "file_extension": ".py",
   "mimetype": "text/x-python",
   "name": "python",
   "nbconvert_exporter": "python",
   "pygments_lexer": "ipython3",
   "version": "3.8.6"
  }
 },
 "nbformat": 4,
 "nbformat_minor": 4
}
