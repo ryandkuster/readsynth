{
 "cells": [
  {
   "cell_type": "code",
   "execution_count": 1,
   "metadata": {},
   "outputs": [],
   "source": [
    "import pandas as pd\n",
    "import numpy as np\n",
    "import matplotlib.pyplot as plt\n",
    "import random"
   ]
  },
  {
   "cell_type": "code",
   "execution_count": 2,
   "metadata": {},
   "outputs": [],
   "source": [
    "def gauss_pdf(mean, sd, x):\n",
    "    pdf = (1/sd*np.sqrt(2*np.pi))*np.exp((-1/2)*((x-mean)/sd)**2)\n",
    "    return pdf"
   ]
  },
  {
   "cell_type": "code",
   "execution_count": 3,
   "metadata": {},
   "outputs": [],
   "source": [
    "def length_dict(df, mean, sd):\n",
    "    '''\n",
    "    create a len_dt, storing the count for each length\n",
    "    '''\n",
    "    len_dt = {}\n",
    "    for i in range(mean, (mean + 2*sd)+1):\n",
    "        len_dt[i] = df[df.full_length == i]['copies'].sum()\n",
    "    total_reads = sum(len_dt.values()) * 2\n",
    "\n",
    "    return len_dt, total_reads"
   ]
  },
  {
   "cell_type": "code",
   "execution_count": 4,
   "metadata": {},
   "outputs": [],
   "source": [
    "def normal_distribution(mean, sd, len_dt, total_reads):\n",
    "    '''\n",
    "    produce a normal distribution that includes mean + 2sd counts\n",
    "    '''\n",
    "    keep_going = True\n",
    "\n",
    "    while keep_going is True:\n",
    "        keep_going = False\n",
    "        print(total_reads)\n",
    "        draw_ls = np.random.normal(loc=mean,scale=sd,size=total_reads)\n",
    "        draw_ls = [round(i) for i in draw_ls]\n",
    "        for i, len_count in len_dt.items():\n",
    "            if len_count > draw_ls.count(i):\n",
    "                total_reads = round(total_reads*1.1)\n",
    "                keep_going = True\n",
    "                break\n",
    "\n",
    "    return draw_ls\n",
    "\n",
    "def draw_dict(df, draw_ls):\n",
    "    '''\n",
    "    create a dictionary of draw numbers\n",
    "    '''\n",
    "    draw_dt = {}\n",
    "\n",
    "    for i in range(min(draw_ls), max(draw_ls)+1):\n",
    "        draw_counts = draw_ls.count(i)\n",
    "        data_counts = df[df.full_length == i]['copies'].sum()\n",
    "        draw_dt[i] = min(draw_counts, data_counts)\n",
    "\n",
    "    return draw_dt\n",
    "\n",
    "\n",
    "def draw_reads(df, col_names, draw_dt):\n",
    "    '''\n",
    "    for each fragment length, randomly draw reads\n",
    "    '''\n",
    "    sampled_df = pd.DataFrame(columns=col_names)\n",
    "    counts = []\n",
    "\n",
    "    for length, draws in draw_dt.items():\n",
    "        tmp_df = df.loc[df['full_length'] == length]\n",
    "        if len(tmp_df) == 0:\n",
    "            continue\n",
    "        indices = [i for i in range(len(tmp_df))]\n",
    "        sampled_idx = random.choices(indices, k=draws)\n",
    "        counts += [sampled_idx.count(idx) for idx in indices]\n",
    "        sampled_df = pd.concat([sampled_df, tmp_df])\n",
    "\n",
    "    sampled_df['counts'] = counts\n",
    "\n",
    "    return sampled_df"
   ]
  },
  {
   "cell_type": "code",
   "execution_count": 48,
   "metadata": {},
   "outputs": [
    {
     "name": "stdout",
     "output_type": "stream",
     "text": [
      "      seq    start      end      m1      m2  internal  length  reverse  \\\n",
      "0  AATTCT  3535543  3535547    TTAA  GAATTC         0      10        1   \n",
      "1  AATTCT  2561058  2561062    TTAA  GAATTC         0      10        1   \n",
      "2  AATTCT  2407284  2407290  GAATTC    TTAA         0      10        0   \n",
      "3  AATTCT   919313   919319  GAATTC    TTAA         0      10        0   \n",
      "4  AATTCT  3863925  3863929    TTAA  GAATTC         0      10        1   \n",
      "\n",
      "   copies  full_length  \n",
      "0      81           10  \n",
      "1      81           10  \n",
      "2      81           10  \n",
      "3      81           10  \n",
      "4      81           10  \n"
     ]
    }
   ],
   "source": [
    "dup_file = '/Users/ryankuster/github/readsynth/tests/test_project3/output/copies_GCF_000005845.2_ASM584v2_genomic.fna.csv'\n",
    "\n",
    "mean = 358\n",
    "sd = 100\n",
    "\n",
    "df = pd.read_csv(dup_file)\n",
    "col_names = [col for col in df.columns]\n",
    "\n",
    "if len(df) == 0:\n",
    "    sys.exit('no fragments produced with current settings')\n",
    "\n",
    "modifier = 0\n",
    "\n",
    "df['full_length'] = df['length'] + modifier\n",
    "df.sort_values(['full_length'], ascending=[True], inplace=True)\n",
    "df.reset_index(inplace=True, drop=True)\n",
    "\n",
    "len_dt, total_reads = length_dict(df, 358, 100)"
   ]
  },
  {
   "cell_type": "code",
   "execution_count": 7,
   "metadata": {},
   "outputs": [
    {
     "name": "stdout",
     "output_type": "stream",
     "text": [
      "103730\n",
      "114103\n",
      "125513\n",
      "138064\n",
      "151870\n",
      "167057\n",
      "183763\n",
      "202139\n",
      "222353\n",
      "244588\n",
      "269047\n",
      "295952\n",
      "325547\n",
      "358102\n",
      "393912\n",
      "433303\n",
      "476633\n",
      "524296\n",
      "576726\n",
      "634399\n",
      "697839\n",
      "767623\n",
      "844385\n"
     ]
    }
   ],
   "source": [
    "draw_ls = normal_distribution(mean, sd, len_dt, total_reads)"
   ]
  },
  {
   "cell_type": "code",
   "execution_count": 8,
   "metadata": {},
   "outputs": [],
   "source": [
    "draw_dt = draw_dict(df, draw_ls)\n",
    "sampled_df = draw_reads(df, col_names, draw_dt)"
   ]
  },
  {
   "cell_type": "code",
   "execution_count": 10,
   "metadata": {},
   "outputs": [
    {
     "data": {
      "text/plain": [
       "235.72727272727272"
      ]
     },
     "execution_count": 10,
     "metadata": {},
     "output_type": "execute_result"
    }
   ],
   "source": [
    "target = mean + (2*sd)\n",
    "a = [len_dt[i] for i in range(target-10, target+1)]\n",
    "sum(a)/len(a)"
   ]
  },
  {
   "cell_type": "code",
   "execution_count": 65,
   "metadata": {
    "scrolled": false
   },
   "outputs": [
    {
     "name": "stdout",
     "output_type": "stream",
     "text": [
      "206346.48230850554\n"
     ]
    },
    {
     "data": {
      "text/plain": [
       "<matplotlib.collections.PathCollection at 0x135b5b970>"
      ]
     },
     "execution_count": 65,
     "metadata": {},
     "output_type": "execute_result"
    },
    {
     "data": {
      "image/png": "[encoded data removed]",
      "text/plain": [
       "<Figure size 432x288 with 1 Axes>"
      ]
     },
     "metadata": {
      "needs_background": "light"
     },
     "output_type": "display_data"
    }
   ],
   "source": [
    "scale_by = 700/gauss_pdf(mean, sd, target)\n",
    "print(scale_by)\n",
    "xls, yls = [], []\n",
    "for x in range(0, (mean+(6*sd))):\n",
    "    xls.append(x)\n",
    "    yls.append(gauss_pdf(mean, sd, x)* scale_by)\n",
    "\n",
    "plt.hist(df['length'], weights=df['copies'], bins=(mean+(6*sd)), alpha=0.5)\n",
    "plt.hist(list(len_dt.keys()), weights=list(len_dt.values()), bins=(2*sd), alpha=0.95, color='purple')\n",
    "# plt.hist(draw_dt.keys(), weights=draw_dt.values(), bins=(mean+(6*sd)), alpha=0.5)\n",
    "plt.scatter(xls, yls, c=\"green\",s=1)"
   ]
  }
 ],
 "metadata": {
  "kernelspec": {
   "display_name": "Python 3",
   "language": "python",
   "name": "python3"
  },
  "language_info": {
   "codemirror_mode": {
    "name": "ipython",
    "version": 3
   },
   "file_extension": ".py",
   "mimetype": "text/x-python",
   "name": "python",
   "nbconvert_exporter": "python",
   "pygments_lexer": "ipython3",
   "version": "3.8.6"
  }
 },
 "nbformat": 4,
 "nbformat_minor": 4
}
