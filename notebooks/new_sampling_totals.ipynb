{
 "cells": [
  {
   "cell_type": "code",
   "execution_count": 1,
   "metadata": {},
   "outputs": [],
   "source": [
    "import pandas as pd\n",
    "import numpy as np\n",
    "import matplotlib.pyplot as plt\n",
    "import random\n",
    "import time\n",
    "\n",
    "from collections import Counter"
   ]
  },
  {
   "cell_type": "code",
   "execution_count": 2,
   "metadata": {},
   "outputs": [
    {
     "name": "stdout",
     "output_type": "stream",
     "text": [
      "32\n",
      "45\n"
     ]
    }
   ],
   "source": [
    "dup_file = '/Users/ryankuster/github/readsynth/tests/test_project3/output/copies_GCF_000005845.2_ASM584v2_genomic.fna.csv'\n",
    "\n",
    "start = time.time()\n",
    "\n",
    "mean = 400\n",
    "upper_bound = 490\n",
    "diff = upper_bound - mean\n",
    "sd = int(round(0.08*mean, 0)) # using Sage Science CV of 8%\n",
    "print(sd)\n",
    "sd = max(sd, int(round(diff/2, 0)))\n",
    "print(sd)"
   ]
  },
  {
   "cell_type": "code",
   "execution_count": 3,
   "metadata": {},
   "outputs": [],
   "source": [
    "def gauss_pdf(mean, sd, x):\n",
    "    pdf = (1/sd*np.sqrt(2*np.pi))*np.exp((-1/2)*((x-mean)/sd)**2)\n",
    "    return pdf\n",
    "\n",
    "\n",
    "def length_dict(df, mean, upper_bound):\n",
    "    '''\n",
    "    create a len_dt, storing the count for each length\n",
    "    '''\n",
    "    len_dt = {}\n",
    "    for i in range(0, mean + sd*6 + 1):\n",
    "        len_dt[i] = df[df.full_length == i]['copies'].sum()\n",
    "\n",
    "    return len_dt\n",
    "\n",
    "\n",
    "def draw_dict(df, draw_ls):\n",
    "    '''\n",
    "    create a dictionary of draw numbers\n",
    "    '''\n",
    "    draw_dt = {}\n",
    "    draw_ls = Counter(draw_ls)\n",
    "    for i in range(min(draw_ls), max(draw_ls)+1):\n",
    "        draw_counts = int(round(draw_ls[i] * .6, 0))\n",
    "        data_counts = int(round(df[df.full_length == i]['copies'].sum() * 0.6, 0))\n",
    "        draw_dt[i] = min(draw_counts, data_counts)\n",
    "\n",
    "    return draw_dt\n",
    "\n",
    "\n",
    "def draw_reads(df, col_names, draw_dt):\n",
    "    '''\n",
    "    for each fragment length, randomly draw reads\n",
    "    '''\n",
    "    sampled_df = pd.DataFrame(columns=col_names)\n",
    "    counts = []\n",
    "\n",
    "    for length, draws in draw_dt.items():\n",
    "        tmp_df = df.loc[df['full_length'] == length]\n",
    "        if len(tmp_df) == 0:\n",
    "            continue\n",
    "        indices = [i for i in range(len(tmp_df))]\n",
    "        sampled_idx = random.choices(indices, k=draws)\n",
    "        counts += [sampled_idx.count(idx) for idx in indices]\n",
    "        sampled_df = pd.concat([sampled_df, tmp_df])\n",
    "\n",
    "    sampled_df['counts'] = counts\n",
    "\n",
    "    return sampled_df"
   ]
  },
  {
   "cell_type": "code",
   "execution_count": 4,
   "metadata": {},
   "outputs": [],
   "source": [
    "df = pd.read_csv(dup_file)\n",
    "col_names = [col for col in df.columns]\n",
    "\n",
    "if len(df) == 0:\n",
    "    sys.exit('no fragments produced with current settings')\n",
    "\n",
    "modifier = 0\n",
    "\n",
    "df['full_length'] = df['length'] + modifier\n",
    "df.sort_values(['full_length'], ascending=[True], inplace=True)\n",
    "df.reset_index(inplace=True, drop=True)\n",
    "\n",
    "len_dt = length_dict(df, mean, upper_bound)"
   ]
  },
  {
   "cell_type": "code",
   "execution_count": 5,
   "metadata": {},
   "outputs": [],
   "source": [
    "a = [len_dt[i] for i in range(mean, (upper_bound+(upper_bound-mean))+1)]\n",
    "\n",
    "avg_upper = sum(a)/len(a)\n",
    "scale_by = avg_upper/gauss_pdf(mean, sd, upper_bound)"
   ]
  },
  {
   "cell_type": "code",
   "execution_count": 6,
   "metadata": {},
   "outputs": [],
   "source": [
    "answers = [gauss_pdf(mean, sd, x)*scale_by for x in range(0, mean + 6*sd + 1)]\n",
    "total_reads = int(round(sum(answers), 0))"
   ]
  },
  {
   "cell_type": "code",
   "execution_count": 7,
   "metadata": {},
   "outputs": [],
   "source": [
    "def new_approach(mean, sd, len_dt, scale_by):\n",
    "    draw_dt = {}\n",
    "    \n",
    "    for x in range(0, mean + 6*sd + 1):\n",
    "        draw_counts = int(round(gauss_pdf(mean, sd, x)*scale_by, 0))\n",
    "        data_counts = len_dt[x]\n",
    "        draw_dt[x] = min(draw_counts, data_counts)\n",
    "        \n",
    "    return draw_dt\n",
    "\n",
    "draw_dt = new_approach(mean, sd, len_dt, scale_by)"
   ]
  },
  {
   "cell_type": "code",
   "execution_count": 8,
   "metadata": {},
   "outputs": [
    {
     "name": "stdout",
     "output_type": "stream",
     "text": [
      "0.35927510261535645\n"
     ]
    }
   ],
   "source": [
    "# draw_ls = np.array(np.random.normal(loc=mean,scale=sd,size=total_reads))\n",
    "# draw_ls = np.rint(draw_ls).astype(np.int32)\n",
    "# draw_ls = draw_ls.tolist()\n",
    "# draw_dt = draw_dict(df, draw_ls)\n",
    "# print(sum(draw_dt.values()))\n",
    "print(time.time() - start)"
   ]
  },
  {
   "cell_type": "code",
   "execution_count": 9,
   "metadata": {},
   "outputs": [],
   "source": [
    "# sampled_df = draw_reads(df, col_names, draw_dt)"
   ]
  },
  {
   "cell_type": "code",
   "execution_count": 10,
   "metadata": {
    "scrolled": false
   },
   "outputs": [
    {
     "data": {
      "text/plain": [
       "[<matplotlib.lines.Line2D at 0x12316c100>]"
      ]
     },
     "execution_count": 10,
     "metadata": {},
     "output_type": "execute_result"
    },
    {
     "data": {
      "image/png": "[encoded data removed]",
      "text/plain": [
       "<Figure size 1080x576 with 1 Axes>"
      ]
     },
     "metadata": {
      "needs_background": "light"
     },
     "output_type": "display_data"
    }
   ],
   "source": [
    "from pylab import rcParams\n",
    "rcParams['figure.figsize'] = 15, 8\n",
    "\n",
    "xls, yls = [], []\n",
    "\n",
    "for x in range(0, (mean+(6*sd))):\n",
    "    xls.append(x)\n",
    "    yls.append(gauss_pdf(mean, sd, x)* scale_by)\n",
    "\n",
    "plt.hist(df['length'], weights=df['copies'], bins=(df['length'].max() - df['length'].min()), alpha=0.5)\n",
    "plt.hist(list(len_dt.keys()), weights=list(len_dt.values()), bins=(max(len_dt.keys())-min(len_dt.keys())), alpha=0.95, color='purple')\n",
    "plt.hist(list(draw_dt.keys()), weights=list(draw_dt.values()), bins=(max(draw_dt.keys())-min(draw_dt.keys())), alpha=0.95, color='orange')\n",
    "plt.plot(xls, yls, c=\"green\")\n"
   ]
  }
 ],
 "metadata": {
  "kernelspec": {
   "display_name": "Python 3",
   "language": "python",
   "name": "python3"
  },
  "language_info": {
   "codemirror_mode": {
    "name": "ipython",
    "version": 3
   },
   "file_extension": ".py",
   "mimetype": "text/x-python",
   "name": "python",
   "nbconvert_exporter": "python",
   "pygments_lexer": "ipython3",
   "version": "3.8.6"
  }
 },
 "nbformat": 4,
 "nbformat_minor": 4
}
