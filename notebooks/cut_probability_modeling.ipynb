{
 "cells": [
  {
   "cell_type": "code",
   "execution_count": 1,
   "metadata": {},
   "outputs": [],
   "source": [
    "import random\n",
    "import matplotlib.pyplot as plt\n",
    "import numpy as np\n",
    "\n",
    "from random import randint"
   ]
  },
  {
   "cell_type": "code",
   "execution_count": 2,
   "metadata": {},
   "outputs": [
    {
     "name": "stdout",
     "output_type": "stream",
     "text": [
      "0.41\n"
     ]
    }
   ],
   "source": [
    "def generate_list(n, cut_prob):\n",
    "    s = ''\n",
    "    for i in range(n):\n",
    "#         s += str(randint(0, 1))\n",
    "        s += str(random.choices([0, 1], [1-cut_prob, cut_prob])[0])\n",
    "    return s\n",
    "\n",
    "\n",
    "def and_gate(a, b):\n",
    "    c = bin(int(a, base=2) & int(b, base=2))[2:]\n",
    "    c = c.count('1')\n",
    "    return c\n",
    "\n",
    "\n",
    "n = 10\n",
    "cut_prob = .2\n",
    "a = generate_list(n, cut_prob)\n",
    "totes = []\n",
    "\n",
    "for i in range(100):\n",
    "    b = generate_list(n, cut_prob)\n",
    "    c = and_gate(a, b)\n",
    "    totes.append(c)\n",
    "    a = b\n",
    "print(sum(totes)/len(totes))"
   ]
  },
  {
   "cell_type": "code",
   "execution_count": 3,
   "metadata": {},
   "outputs": [
    {
     "name": "stdout",
     "output_type": "stream",
     "text": [
      "[['0010000000']\n",
      " ['1000000110']\n",
      " ['0100000000']\n",
      " ['0000011000']\n",
      " ['0000110000']\n",
      " ['1000000010']\n",
      " ['0010000000']\n",
      " ['0000010001']\n",
      " ['0000000000']\n",
      " ['0010101001']]\n"
     ]
    }
   ],
   "source": [
    "mx = []\n",
    "\n",
    "for i in range(10):\n",
    "    mx.append([generate_list(n, cut_prob)])\n",
    "mx = np.array(mx)\n",
    "print(mx)"
   ]
  },
  {
   "cell_type": "markdown",
   "metadata": {},
   "source": [
    "### new approach, based entirely on probability of fragment within a given window"
   ]
  },
  {
   "cell_type": "code",
   "execution_count": 4,
   "metadata": {},
   "outputs": [],
   "source": [
    "site_ls = [2, 45, 240, 500, 589, 678, 799, 1200, 1500, 1798, 2500, 2543, 2834]"
   ]
  },
  {
   "cell_type": "code",
   "execution_count": 5,
   "metadata": {},
   "outputs": [
    {
     "name": "stdout",
     "output_type": "stream",
     "text": [
      "(0, 1) : 6400.000000000001\n",
      "(0, 2) : 1280.0\n",
      "(0, 3) : 255.99999999999991\n",
      "(0, 4) : 51.19999999999998\n",
      "(0, 5) : 10.239999999999993\n",
      "(0, 6) : 2.047999999999998\n",
      "(0, 7) : 0.4095999999999995\n",
      "(0, 8) : 0.08191999999999988\n",
      "(0, 9) : 0.01638399999999997\n",
      "5.000000000000001\n",
      "5.000000000000002\n",
      "5.0\n",
      "5.000000000000002\n",
      "5.000000000000002\n",
      "5.000000000000001\n",
      "5.000000000000002\n",
      "5.000000000000002\n"
     ]
    }
   ],
   "source": [
    "def prob_dictionary(cut_prob, site_range):\n",
    "    '''\n",
    "    the probability for each site 0 to site i fragment surviving is\n",
    "    the product of the probability of the sites 0 and i being cut and\n",
    "    the intermediate sites not being cut\n",
    "    '''\n",
    "    prob_dt = {}\n",
    "    for i in range(1, site_range):\n",
    "        prob_dt[(0, i)] = (cut_prob ** 2) * ((1-cut_prob)**(i-1))\n",
    "\n",
    "    return prob_dt\n",
    "\n",
    "\n",
    "def get_read_counts(prob_dt, n):\n",
    "    read_counts = {}\n",
    "    for k, v in prob_dt.items():\n",
    "        counts = v*n\n",
    "        print(f'{k} : {counts}')\n",
    "        read_counts[k] = counts\n",
    "        \n",
    "    return read_counts\n",
    "\n",
    "\n",
    "def print_rations(read_counts):\n",
    "    for k, v in read_counts.items():\n",
    "        if k == (0, 1):\n",
    "            last =  v\n",
    "        else:\n",
    "            ratio = last / v\n",
    "            print(ratio)\n",
    "            last = v\n",
    "\n",
    "            \n",
    "def define_clusters(site_ls, window):\n",
    "    for idx, site in enumerate(site_ls):\n",
    "        cluster = [site]\n",
    "        for sub_site in site_ls[idx+1:]:\n",
    "            if sub_site - site <= window:\n",
    "                cluster.append(sub_site)\n",
    "                print(cluster)\n",
    "            else:\n",
    "                #TODO this is where you process the cluster\n",
    "                break\n",
    "\n",
    "\n",
    "site_range = 10 # expected neighboring sites in a 'cluster'\n",
    "window = 500\n",
    "cut_prob = 0.8\n",
    "n = 10000\n",
    "prob_dt = prob_dictionary(cut_prob, site_range)\n",
    "read_counts = get_read_counts(prob_dt, n)\n",
    "print_rations(read_counts)\n",
    "# define_clusters(site_ls, window)"
   ]
  },
  {
   "cell_type": "code",
   "execution_count": 6,
   "metadata": {},
   "outputs": [],
   "source": [
    "def define_clusters(site_ls, window):\n",
    "    for idx, site in enumerate(site_ls):\n",
    "        cluster = [site]\n",
    "        for sub_site in site_ls[idx+1:]:\n",
    "            if sub_site - site <= window:\n",
    "                cluster.append(sub_site)\n",
    "                print(cluster)\n",
    "            else:\n",
    "                #TODO this is where you process the cluster\n",
    "                break\n",
    "\n",
    "\n",
    "def prob_dictionary(cut_prob, site_range):\n",
    "    '''\n",
    "    the probability for each site 0 to site i fragment surviving is\n",
    "    the product of the probability of the sites 0 and i being cut and\n",
    "    the intermediate sites not being cut\n",
    "    '''\n",
    "    prob_dt = {}\n",
    "    for i in range(1, site_range):\n",
    "        prob_dt[(0, i)] = (cut_prob ** 2) * ((1-cut_prob)**(i-1))\n",
    "\n",
    "    return prob_dt\n",
    "\n",
    "\n",
    "def get_read_counts(prob_dt, n):\n",
    "    read_counts = {}\n",
    "    for k, v in prob_dt.items():\n",
    "        counts = v*n\n",
    "#         print(f'{k} : {counts}')\n",
    "        read_counts[k] = counts\n",
    "        \n",
    "    return read_counts\n",
    "\n",
    "\n",
    "def print_rations(read_counts):\n",
    "    for k, v in read_counts.items():\n",
    "        if k == (0, 1):\n",
    "            last =  v\n",
    "        else:\n",
    "            ratio = last / v\n",
    "#             print(ratio)\n",
    "            last = v\n",
    "    return ratio\n",
    "\n",
    "\n",
    "prob_ls, ratio_ls = [], []\n",
    "for cut_prob in np.arange(0.05, 1, 0.01):\n",
    "    prob_ls.append(cut_prob)\n",
    "    site_range = 10 # expected neighboring sites in a 'cluster'\n",
    "    window = 500\n",
    "    n = 10000\n",
    "    prob_dt = prob_dictionary(cut_prob, site_range)\n",
    "    read_counts = get_read_counts(prob_dt, n)\n",
    "    ratio_ls.append(print_rations(read_counts))\n",
    "    # define_clusters(site_ls, window)"
   ]
  },
  {
   "cell_type": "code",
   "execution_count": 7,
   "metadata": {},
   "outputs": [
    {
     "data": {
      "text/plain": [
       "Text(0, 0.5, 'ratio of small:large fragments')"
      ]
     },
     "execution_count": 7,
     "metadata": {},
     "output_type": "execute_result"
    },
    {
     "data": {
      "image/png": "[encoded data removed]",
      "text/plain": [
       "<Figure size 432x288 with 1 Axes>"
      ]
     },
     "metadata": {
      "needs_background": "light"
     },
     "output_type": "display_data"
    }
   ],
   "source": [
    "plt.plot(prob_ls, ratio_ls)\n",
    "plt.title('ratio of small:large fragments vs. cut site probability')\n",
    "plt.xlabel('cut probability')\n",
    "plt.ylabel('ratio of small:large fragments')"
   ]
  },
  {
   "cell_type": "code",
   "execution_count": 8,
   "metadata": {},
   "outputs": [
    {
     "data": {
      "text/plain": [
       "Text(0, 0.5, 'ratio of small:large fragments')"
      ]
     },
     "execution_count": 8,
     "metadata": {},
     "output_type": "execute_result"
    },
    {
     "data": {
      "image/png": "[encoded data removed]",
      "text/plain": [
       "<Figure size 432x288 with 1 Axes>"
      ]
     },
     "metadata": {
      "needs_background": "light"
     },
     "output_type": "display_data"
    }
   ],
   "source": [
    "y = [(i**2) / ((i ** 2) * (1-i)) for i in prob_ls]\n",
    "plt.plot(prob_ls, y)\n",
    "plt.title('ratio of small:large fragments vs. cut site probability')\n",
    "plt.xlabel('cut probability')\n",
    "plt.ylabel('ratio of small:large fragments')"
   ]
  },
  {
   "cell_type": "markdown",
   "metadata": {},
   "source": [
    "y = x^2 / (x^2 * (1-x))\n",
    "\n",
    "Let's say we have an observed ratio of 5, assume no PCR bias.\n",
    "\n",
    "5 = x^2 / (x^2 * (1-x))\n",
    "\n",
    "5 = 1 / (1-x)  \n",
    "5 - 5x = 1  \n",
    "-5x = -4  \n",
    "x = 4/5  \n",
    "x = 0.8"
   ]
  }
 ],
 "metadata": {
  "kernelspec": {
   "display_name": "Python 3",
   "language": "python",
   "name": "python3"
  },
  "language_info": {
   "codemirror_mode": {
    "name": "ipython",
    "version": 3
   },
   "file_extension": ".py",
   "mimetype": "text/x-python",
   "name": "python",
   "nbconvert_exporter": "python",
   "pygments_lexer": "ipython3",
   "version": "3.8.6"
  }
 },
 "nbformat": 4,
 "nbformat_minor": 4
}
