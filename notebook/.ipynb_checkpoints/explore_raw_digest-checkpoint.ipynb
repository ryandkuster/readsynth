{
 "cells": [
  {
   "cell_type": "markdown",
   "metadata": {},
   "source": [
    "## TODO:  \n",
    "- allow for total reads or coverage approach\n",
    "- for total reads, a per chromosome (fastq entry) estimate of progress will be made\n",
    "- calculate coverage as total reads x coverage value = total reads"
   ]
  },
  {
   "cell_type": "code",
   "execution_count": 13,
   "metadata": {},
   "outputs": [],
   "source": [
    "import matplotlib as plt\n",
    "import numpy as np\n",
    "import pandas as pd\n",
    "import random\n",
    "import seaborn as sns\n",
    "\n",
    "%matplotlib inline"
   ]
  },
  {
   "cell_type": "code",
   "execution_count": 2,
   "metadata": {},
   "outputs": [
    {
     "data": {
      "text/html": [
       "<div>\n",
       "<style scoped>\n",
       "    .dataframe tbody tr th:only-of-type {\n",
       "        vertical-align: middle;\n",
       "    }\n",
       "\n",
       "    .dataframe tbody tr th {\n",
       "        vertical-align: top;\n",
       "    }\n",
       "\n",
       "    .dataframe thead th {\n",
       "        text-align: right;\n",
       "    }\n",
       "</style>\n",
       "<table border=\"1\" class=\"dataframe\">\n",
       "  <thead>\n",
       "    <tr style=\"text-align: right;\">\n",
       "      <th></th>\n",
       "      <th>sequence</th>\n",
       "      <th>r1_id</th>\n",
       "      <th>r2_id</th>\n",
       "      <th>length</th>\n",
       "    </tr>\n",
       "  </thead>\n",
       "  <tbody>\n",
       "    <tr>\n",
       "      <th>0</th>\n",
       "      <td>ACACTCTTTCCCTACACGACGCTCTTCCGATCTAAGCCAGGTCTGT...</td>\n",
       "      <td>GGTCTGTGAA</td>\n",
       "      <td>GAACCAA</td>\n",
       "      <td>122</td>\n",
       "    </tr>\n",
       "    <tr>\n",
       "      <th>1</th>\n",
       "      <td>ACACTCTTTCCCTACACGACGCTCTTCCGATCTTCGCATGAGACTC...</td>\n",
       "      <td>GAGACTCAT</td>\n",
       "      <td>GTTGGAA</td>\n",
       "      <td>105</td>\n",
       "    </tr>\n",
       "    <tr>\n",
       "      <th>2</th>\n",
       "      <td>ACACTCTTTCCCTACACGACGCTCTTCCGATCTACCTGAGGTAAGG...</td>\n",
       "      <td>GGTAAGGAT</td>\n",
       "      <td>ATCTACTTC</td>\n",
       "      <td>231</td>\n",
       "    </tr>\n",
       "    <tr>\n",
       "      <th>3</th>\n",
       "      <td>ACACTCTTTCCCTACACGACGCTCTTCCGATCTTGATCGTGGTATC...</td>\n",
       "      <td>TGGTATC</td>\n",
       "      <td>ATATGCTTAC</td>\n",
       "      <td>1002</td>\n",
       "    </tr>\n",
       "    <tr>\n",
       "      <th>4</th>\n",
       "      <td>ACACTCTTTCCCTACACGACGCTCTTCCGATCTTGCTTCGTAGAGT...</td>\n",
       "      <td>GTAGAGTA</td>\n",
       "      <td>CAACCAG</td>\n",
       "      <td>940</td>\n",
       "    </tr>\n",
       "  </tbody>\n",
       "</table>\n",
       "</div>"
      ],
      "text/plain": [
       "                                            sequence       r1_id       r2_id  \\\n",
       "0  ACACTCTTTCCCTACACGACGCTCTTCCGATCTAAGCCAGGTCTGT...  GGTCTGTGAA     GAACCAA   \n",
       "1  ACACTCTTTCCCTACACGACGCTCTTCCGATCTTCGCATGAGACTC...   GAGACTCAT     GTTGGAA   \n",
       "2  ACACTCTTTCCCTACACGACGCTCTTCCGATCTACCTGAGGTAAGG...   GGTAAGGAT   ATCTACTTC   \n",
       "3  ACACTCTTTCCCTACACGACGCTCTTCCGATCTTGATCGTGGTATC...     TGGTATC  ATATGCTTAC   \n",
       "4  ACACTCTTTCCCTACACGACGCTCTTCCGATCTTGCTTCGTAGAGT...    GTAGAGTA     CAACCAG   \n",
       "\n",
       "   length  \n",
       "0     122  \n",
       "1     105  \n",
       "2     231  \n",
       "3    1002  \n",
       "4     940  "
      ]
     },
     "execution_count": 2,
     "metadata": {},
     "output_type": "execute_result"
    }
   ],
   "source": [
    "df = pd.read_csv('../raw_digest_df.csv')\n",
    "df.head()"
   ]
  },
  {
   "cell_type": "code",
   "execution_count": 3,
   "metadata": {},
   "outputs": [
    {
     "data": {
      "text/plain": [
       "<AxesSubplot:>"
      ]
     },
     "execution_count": 3,
     "metadata": {},
     "output_type": "execute_result"
    },
    {
     "data": {
      "image/png": "[encoded data removed]",
      "text/plain": [
       "<Figure size 432x288 with 1 Axes>"
      ]
     },
     "metadata": {
      "needs_background": "light"
     },
     "output_type": "display_data"
    }
   ],
   "source": [
    "read_count = len(df)\n",
    "df['length'].hist(bins=25)"
   ]
  },
  {
   "cell_type": "markdown",
   "metadata": {},
   "source": [
    "### define mean and sd (simulates size selection e.g., Blue-Pippin)"
   ]
  },
  {
   "cell_type": "code",
   "execution_count": 4,
   "metadata": {},
   "outputs": [],
   "source": [
    "mean = 400\n",
    "sd = 100\n",
    "#total_reads = read_count * 20\n",
    "total_reads = 300000"
   ]
  },
  {
   "cell_type": "code",
   "execution_count": 11,
   "metadata": {},
   "outputs": [
    {
     "name": "stdout",
     "output_type": "stream",
     "text": [
      "[407, 481, 413, 350, 390, 531, 308, 525, 449, 461, 460, 438, 506, 368, 92, 542, 360, 482, 323, 235, 352, 475, 203, 417, 543, 411, 220, 436, 440, 326, 471, 445, 369, 549, 346, 289, 530, 384, 292, 312, 648, 279, 396, 384, 206, 286, 521, 222, 409, 348]\n"
     ]
    },
    {
     "data": {
      "text/plain": [
       "array([[<AxesSubplot:title={'center':'0'}>]], dtype=object)"
      ]
     },
     "execution_count": 11,
     "metadata": {},
     "output_type": "execute_result"
    },
    {
     "data": {
      "image/png": "[encoded data removed]",
      "text/plain": [
       "<Figure size 432x288 with 1 Axes>"
      ]
     },
     "metadata": {
      "needs_background": "light"
     },
     "output_type": "display_data"
    }
   ],
   "source": [
    "draw_ls = np.random.normal(loc=mean,scale=sd,size=total_reads)\n",
    "draw_ls = [round(i) for i in draw_ls]\n",
    "print(draw_ls[:50])\n",
    "\n",
    "draw_dt = {}\n",
    "\n",
    "for i in range(max(min(df['length']), min(draw_ls)), min(max(df['length']), max(draw_ls))+1):\n",
    "    draw_dt[i] = draw_ls.count(i)\n",
    "\n",
    "tmp_df = pd.DataFrame(draw_ls)\n",
    "tmp_df.hist(bins=sd)"
   ]
  },
  {
   "cell_type": "markdown",
   "metadata": {},
   "source": [
    "### sort df by length"
   ]
  },
  {
   "cell_type": "code",
   "execution_count": 6,
   "metadata": {
    "scrolled": true
   },
   "outputs": [
    {
     "data": {
      "text/html": [
       "<div>\n",
       "<style scoped>\n",
       "    .dataframe tbody tr th:only-of-type {\n",
       "        vertical-align: middle;\n",
       "    }\n",
       "\n",
       "    .dataframe tbody tr th {\n",
       "        vertical-align: top;\n",
       "    }\n",
       "\n",
       "    .dataframe thead th {\n",
       "        text-align: right;\n",
       "    }\n",
       "</style>\n",
       "<table border=\"1\" class=\"dataframe\">\n",
       "  <thead>\n",
       "    <tr style=\"text-align: right;\">\n",
       "      <th></th>\n",
       "      <th>sequence</th>\n",
       "      <th>r1_id</th>\n",
       "      <th>r2_id</th>\n",
       "      <th>length</th>\n",
       "    </tr>\n",
       "  </thead>\n",
       "  <tbody>\n",
       "    <tr>\n",
       "      <th>0</th>\n",
       "      <td>ACACTCTTTCCCTACACGACGCTCTTCCGATCTCAACTGAAGCTGC...</td>\n",
       "      <td>AAGCTGC</td>\n",
       "      <td>CGATCAA</td>\n",
       "      <td>99</td>\n",
       "    </tr>\n",
       "    <tr>\n",
       "      <th>1</th>\n",
       "      <td>ACACTCTTTCCCTACACGACGCTCTTCCGATCTAAGCGATCACGTG...</td>\n",
       "      <td>TCACGTG</td>\n",
       "      <td>GAACCAA</td>\n",
       "      <td>99</td>\n",
       "    </tr>\n",
       "    <tr>\n",
       "      <th>2</th>\n",
       "      <td>ACACTCTTTCCCTACACGACGCTCTTCCGATCTCTCGTTCAATGAC...</td>\n",
       "      <td>CAATGAC</td>\n",
       "      <td>CTTGATC</td>\n",
       "      <td>99</td>\n",
       "    </tr>\n",
       "    <tr>\n",
       "      <th>3</th>\n",
       "      <td>ACACTCTTTCCCTACACGACGCTCTTCCGATCTAAGACGCTGGTTG...</td>\n",
       "      <td>CTGGTTG</td>\n",
       "      <td>GTATCCT</td>\n",
       "      <td>99</td>\n",
       "    </tr>\n",
       "    <tr>\n",
       "      <th>4</th>\n",
       "      <td>ACACTCTTTCCCTACACGACGCTCTTCCGATCTTAGTCGCATTCTG...</td>\n",
       "      <td>CATTCTG</td>\n",
       "      <td>CGAGAAC</td>\n",
       "      <td>99</td>\n",
       "    </tr>\n",
       "  </tbody>\n",
       "</table>\n",
       "</div>"
      ],
      "text/plain": [
       "                                            sequence    r1_id    r2_id  length\n",
       "0  ACACTCTTTCCCTACACGACGCTCTTCCGATCTCAACTGAAGCTGC...  AAGCTGC  CGATCAA      99\n",
       "1  ACACTCTTTCCCTACACGACGCTCTTCCGATCTAAGCGATCACGTG...  TCACGTG  GAACCAA      99\n",
       "2  ACACTCTTTCCCTACACGACGCTCTTCCGATCTCTCGTTCAATGAC...  CAATGAC  CTTGATC      99\n",
       "3  ACACTCTTTCCCTACACGACGCTCTTCCGATCTAAGACGCTGGTTG...  CTGGTTG  GTATCCT      99\n",
       "4  ACACTCTTTCCCTACACGACGCTCTTCCGATCTTAGTCGCATTCTG...  CATTCTG  CGAGAAC      99"
      ]
     },
     "execution_count": 6,
     "metadata": {},
     "output_type": "execute_result"
    }
   ],
   "source": [
    "df.sort_values(['length'], ascending=[True], inplace=True)\n",
    "df.reset_index(inplace=True, drop=True)\n",
    "df.head()"
   ]
  },
  {
   "cell_type": "markdown",
   "metadata": {},
   "source": [
    "### sample actual reads (good for visual, but data object can be large)"
   ]
  },
  {
   "cell_type": "code",
   "execution_count": 28,
   "metadata": {
    "scrolled": true
   },
   "outputs": [
    {
     "name": "stdout",
     "output_type": "stream",
     "text": [
      "the length of sample_seqs is 299597\n",
      "                                              sequence     r1_id     r2_id  \\\n",
      "35   ACACTCTTTCCCTACACGACGCTCTTCCGATCTGAGAACAAGGTCG...   AAGGTCG   ATTGGCA   \n",
      "73   ACACTCTTTCCCTACACGACGCTCTTCCGATCTGTGCTTAACTGTG...   AACTGTG   GGCGTTA   \n",
      "3    ACACTCTTTCCCTACACGACGCTCTTCCGATCTAAGACGCTGGTTG...   CTGGTTG   GTATCCT   \n",
      "14   ACACTCTTTCCCTACACGACGCTCTTCCGATCTGTGACTAATCAGG...   AATCAGG   CACAGTT   \n",
      "70   ACACTCTTTCCCTACACGACGCTCTTCCGATCTTGATCGTGGTATC...   TGGTATC   CATCGAC   \n",
      "22   ACACTCTTTCCCTACACGACGCTCTTCCGATCTTAGTCGCATTCTG...   CATTCTG   GAACCAA   \n",
      "78   ACACTCTTTCCCTACACGACGCTCTTCCGATCTAAGACGCTGGTTG...   CTGGTTG   GTTGGAA   \n",
      "46   ACACTCTTTCCCTACACGACGCTCTTCCGATCTGAGTGAGATCAAG...   GATCAAG   GTCATTG   \n",
      "52   ACACTCTTTCCCTACACGACGCTCTTCCGATCTTGATCGTGGTATC...   TGGTATC   GCAGCTT   \n",
      "64   ACACTCTTTCCCTACACGACGCTCTTCCGATCTGATGAGTCACCAC...   TCACCAC   CGAGAAC   \n",
      "64   ACACTCTTTCCCTACACGACGCTCTTCCGATCTGATGAGTCACCAC...   TCACCAC   CGAGAAC   \n",
      "85   ACACTCTTTCCCTACACGACGCTCTTCCGATCTCGGTATGTCGATG...   GTCGATG   GTTGGAA   \n",
      "63   ACACTCTTTCCCTACACGACGCTCTTCCGATCTGTAAGCTAACGCC...   TAACGCC   CTTGATC   \n",
      "58   ACACTCTTTCCCTACACGACGCTCTTCCGATCTAAGACGCTGGTTG...   CTGGTTG   CACAGTT   \n",
      "1    ACACTCTTTCCCTACACGACGCTCTTCCGATCTAAGCGATCACGTG...   TCACGTG   GAACCAA   \n",
      "62   ACACTCTTTCCCTACACGACGCTCTTCCGATCTCTGAGTAACAACC...   AACAACC   CACGTGA   \n",
      "186  ACACTCTTTCCCTACACGACGCTCTTCCGATCTTCACTCTTCAGGT...  TTCAGGTG   CGACCTT   \n",
      "110  ACACTCTTTCCCTACACGACGCTCTTCCGATCTAATCGCGCAGTTA...  GCAGTTAG   GGCGTTA   \n",
      "328  ACACTCTTTCCCTACACGACGCTCTTCCGATCTGTAAGCTAACGCC...   TAACGCC  TACTCTAC   \n",
      "173  ACACTCTTTCCCTACACGACGCTCTTCCGATCTACACACGGAGAAC...  GGAGAACT   CTTGATC   \n",
      "\n",
      "    length  \n",
      "35      99  \n",
      "73      99  \n",
      "3       99  \n",
      "14      99  \n",
      "70      99  \n",
      "22      99  \n",
      "78      99  \n",
      "46      99  \n",
      "52      99  \n",
      "64      99  \n",
      "64      99  \n",
      "85      99  \n",
      "63      99  \n",
      "58      99  \n",
      "1       99  \n",
      "62      99  \n",
      "186    100  \n",
      "110    100  \n",
      "328    100  \n",
      "173    100  \n"
     ]
    },
    {
     "data": {
      "text/plain": [
       "<AxesSubplot:>"
      ]
     },
     "execution_count": 28,
     "metadata": {},
     "output_type": "execute_result"
    },
    {
     "data": {
      "image/png": "[encoded data removed]",
      "text/plain": [
       "<Figure size 432x288 with 1 Axes>"
      ]
     },
     "metadata": {
      "needs_background": "light"
     },
     "output_type": "display_data"
    }
   ],
   "source": [
    "sampled_seqs = pd.DataFrame(columns=['sequence', 'r1_id', 'r2_id', 'length'])\n",
    "\n",
    "for length, draws in draw_dt.items():\n",
    "    tmp_df =  df.loc[df['length'] == length]\n",
    "    if len(tmp_df) == 0:\n",
    "        continue\n",
    "    sampled_df = tmp_df.sample(n=draws, replace=True)\n",
    "    sampled_seqs = pd.concat([sampled_seqs, sampled_df])\n",
    "\n",
    "print(f'the length of sample_seqs is {len(sampled_seqs)}')\n",
    "sampled_seqs['length'].hist(bins=sd)"
   ]
  },
  {
   "cell_type": "markdown",
   "metadata": {},
   "source": [
    "### sample idices (more compact)"
   ]
  },
  {
   "cell_type": "code",
   "execution_count": 46,
   "metadata": {
    "scrolled": true
   },
   "outputs": [
    {
     "name": "stdout",
     "output_type": "stream",
     "text": [
      "the length of sample_seqs is 140527\n",
      "299597\n"
     ]
    },
    {
     "data": {
      "text/plain": [
       "<AxesSubplot:>"
      ]
     },
     "execution_count": 46,
     "metadata": {},
     "output_type": "execute_result"
    },
    {
     "data": {
      "image/png": "[encoded data removed]",
      "text/plain": [
       "<Figure size 432x288 with 1 Axes>"
      ]
     },
     "metadata": {
      "needs_background": "light"
     },
     "output_type": "display_data"
    }
   ],
   "source": [
    "sampled_seqs = pd.DataFrame(columns=['sequence', 'r1_id', 'r2_id', 'length'])\n",
    "counts = []\n",
    "\n",
    "for length, draws in draw_dt.items():\n",
    "    tmp_df =  df.loc[df['length'] == length]\n",
    "    if len(tmp_df) == 0:\n",
    "        continue\n",
    "    indices = [i for i in range(len(tmp_df))]\n",
    "    sampled_idx = random.choices(indices, k=draws)\n",
    "    counts += [sampled_idx.count(idx) for idx in indices]\n",
    "    #tmp_df['counts'] = new_col\n",
    "    sampled_seqs = pd.concat([sampled_seqs, tmp_df])\n",
    "\n",
    "sampled_seqs['counts'] = counts\n",
    "\n",
    "print(f'the length of sample_seqs is {len(sampled_seqs)}')\n",
    "print(sampled_seqs['counts'].sum())"
   ]
  },
  {
   "cell_type": "markdown",
   "metadata": {},
   "source": [
    "### drop the unused reads"
   ]
  },
  {
   "cell_type": "code",
   "execution_count": 47,
   "metadata": {},
   "outputs": [
    {
     "name": "stdout",
     "output_type": "stream",
     "text": [
      "the length of sample_seqs is 62829\n",
      "299597\n"
     ]
    },
    {
     "data": {
      "text/html": [
       "<div>\n",
       "<style scoped>\n",
       "    .dataframe tbody tr th:only-of-type {\n",
       "        vertical-align: middle;\n",
       "    }\n",
       "\n",
       "    .dataframe tbody tr th {\n",
       "        vertical-align: top;\n",
       "    }\n",
       "\n",
       "    .dataframe thead th {\n",
       "        text-align: right;\n",
       "    }\n",
       "</style>\n",
       "<table border=\"1\" class=\"dataframe\">\n",
       "  <thead>\n",
       "    <tr style=\"text-align: right;\">\n",
       "      <th></th>\n",
       "      <th>sequence</th>\n",
       "      <th>r1_id</th>\n",
       "      <th>r2_id</th>\n",
       "      <th>length</th>\n",
       "      <th>counts</th>\n",
       "    </tr>\n",
       "  </thead>\n",
       "  <tbody>\n",
       "    <tr>\n",
       "      <th>3</th>\n",
       "      <td>ACACTCTTTCCCTACACGACGCTCTTCCGATCTAAGACGCTGGTTG...</td>\n",
       "      <td>CTGGTTG</td>\n",
       "      <td>GTATCCT</td>\n",
       "      <td>99</td>\n",
       "      <td>2</td>\n",
       "    </tr>\n",
       "    <tr>\n",
       "      <th>13</th>\n",
       "      <td>ACACTCTTTCCCTACACGACGCTCTTCCGATCTGTGACTAATCAGG...</td>\n",
       "      <td>AATCAGG</td>\n",
       "      <td>CAACCAG</td>\n",
       "      <td>99</td>\n",
       "      <td>1</td>\n",
       "    </tr>\n",
       "    <tr>\n",
       "      <th>19</th>\n",
       "      <td>ACACTCTTTCCCTACACGACGCTCTTCCGATCTGATGTCGGAATTC...</td>\n",
       "      <td>GGAATTC</td>\n",
       "      <td>GATACCA</td>\n",
       "      <td>99</td>\n",
       "      <td>1</td>\n",
       "    </tr>\n",
       "    <tr>\n",
       "      <th>21</th>\n",
       "      <td>ACACTCTTTCCCTACACGACGCTCTTCCGATCTGAGAACAAGGTCG...</td>\n",
       "      <td>AAGGTCG</td>\n",
       "      <td>CGATCAA</td>\n",
       "      <td>99</td>\n",
       "      <td>2</td>\n",
       "    </tr>\n",
       "    <tr>\n",
       "      <th>28</th>\n",
       "      <td>ACACTCTTTCCCTACACGACGCTCTTCCGATCTCCAATCGTCTTGG...</td>\n",
       "      <td>GTCTTGG</td>\n",
       "      <td>CTTGATC</td>\n",
       "      <td>99</td>\n",
       "      <td>1</td>\n",
       "    </tr>\n",
       "  </tbody>\n",
       "</table>\n",
       "</div>"
      ],
      "text/plain": [
       "                                             sequence    r1_id    r2_id  \\\n",
       "3   ACACTCTTTCCCTACACGACGCTCTTCCGATCTAAGACGCTGGTTG...  CTGGTTG  GTATCCT   \n",
       "13  ACACTCTTTCCCTACACGACGCTCTTCCGATCTGTGACTAATCAGG...  AATCAGG  CAACCAG   \n",
       "19  ACACTCTTTCCCTACACGACGCTCTTCCGATCTGATGTCGGAATTC...  GGAATTC  GATACCA   \n",
       "21  ACACTCTTTCCCTACACGACGCTCTTCCGATCTGAGAACAAGGTCG...  AAGGTCG  CGATCAA   \n",
       "28  ACACTCTTTCCCTACACGACGCTCTTCCGATCTCCAATCGTCTTGG...  GTCTTGG  CTTGATC   \n",
       "\n",
       "   length  counts  \n",
       "3      99       2  \n",
       "13     99       1  \n",
       "19     99       1  \n",
       "21     99       2  \n",
       "28     99       1  "
      ]
     },
     "execution_count": 47,
     "metadata": {},
     "output_type": "execute_result"
    }
   ],
   "source": [
    "index_names = sampled_seqs[sampled_seqs['counts'] == 0].index\n",
    "\n",
    "sampled_seqs.drop(index_names, inplace=True)\n",
    "\n",
    "print(f'the length of sample_seqs is {len(sampled_seqs)}')\n",
    "print(sampled_seqs['counts'].sum())\n",
    "sampled_seqs.head()"
   ]
  }
 ],
 "metadata": {
  "kernelspec": {
   "display_name": "Python 3",
   "language": "python",
   "name": "python3"
  },
  "language_info": {
   "codemirror_mode": {
    "name": "ipython",
    "version": 3
   },
   "file_extension": ".py",
   "mimetype": "text/x-python",
   "name": "python",
   "nbconvert_exporter": "python",
   "pygments_lexer": "ipython3",
   "version": "3.8.6"
  }
 },
 "nbformat": 4,
 "nbformat_minor": 4
}
