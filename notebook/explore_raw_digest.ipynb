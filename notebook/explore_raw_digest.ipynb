{
 "cells": [
  {
   "cell_type": "markdown",
   "metadata": {},
   "source": [
    "## TODO:  \n",
    "- allow for total reads or coverage approach\n",
    "- for total reads, a per chromosome (fastq entry) estimate of progress will be made\n",
    "- calculate coverage as total reads x coverage value = total reads"
   ]
  },
  {
   "cell_type": "code",
   "execution_count": 1,
   "metadata": {},
   "outputs": [],
   "source": [
    "import matplotlib as plt\n",
    "import numpy as np\n",
    "import pandas as pd\n",
    "import random\n",
    "import seaborn as sns\n",
    "\n",
    "%matplotlib inline"
   ]
  },
  {
   "cell_type": "code",
   "execution_count": 2,
   "metadata": {},
   "outputs": [
    {
     "data": {
      "text/html": [
       "<div>\n",
       "<style scoped>\n",
       "    .dataframe tbody tr th:only-of-type {\n",
       "        vertical-align: middle;\n",
       "    }\n",
       "\n",
       "    .dataframe tbody tr th {\n",
       "        vertical-align: top;\n",
       "    }\n",
       "\n",
       "    .dataframe thead th {\n",
       "        text-align: right;\n",
       "    }\n",
       "</style>\n",
       "<table border=\"1\" class=\"dataframe\">\n",
       "  <thead>\n",
       "    <tr style=\"text-align: right;\">\n",
       "      <th></th>\n",
       "      <th>sequence</th>\n",
       "      <th>r1_id</th>\n",
       "      <th>r2_id</th>\n",
       "      <th>length</th>\n",
       "      <th>fragment_length</th>\n",
       "    </tr>\n",
       "  </thead>\n",
       "  <tbody>\n",
       "    <tr>\n",
       "      <th>0</th>\n",
       "      <td>ACACTCTTTCCCTACACGACGCTCTTCCGATCTCACGTAGTCTTGG...</td>\n",
       "      <td>GTCTTGG</td>\n",
       "      <td>GATCAAG</td>\n",
       "      <td>102</td>\n",
       "      <td>1</td>\n",
       "    </tr>\n",
       "    <tr>\n",
       "      <th>1</th>\n",
       "      <td>ACACTCTTTCCCTACACGACGCTCTTCCGATCTAGGAGTAATCAGG...</td>\n",
       "      <td>AATCAGG</td>\n",
       "      <td>TCACCAC</td>\n",
       "      <td>102</td>\n",
       "      <td>1</td>\n",
       "    </tr>\n",
       "    <tr>\n",
       "      <th>2</th>\n",
       "      <td>ACACTCTTTCCCTACACGACGCTCTTCCGATCTTGGCTTGGAATTC...</td>\n",
       "      <td>GGAATTC</td>\n",
       "      <td>GCACGAAC</td>\n",
       "      <td>103</td>\n",
       "      <td>1</td>\n",
       "    </tr>\n",
       "    <tr>\n",
       "      <th>3</th>\n",
       "      <td>ACACTCTTTCCCTACACGACGCTCTTCCGATCTTACCTCAGGATAC...</td>\n",
       "      <td>AGGATAC</td>\n",
       "      <td>TAACGCC</td>\n",
       "      <td>103</td>\n",
       "      <td>2</td>\n",
       "    </tr>\n",
       "    <tr>\n",
       "      <th>4</th>\n",
       "      <td>ACACTCTTTCCCTACACGACGCTCTTCCGATCTTGATCGTTGATCG...</td>\n",
       "      <td>TTGATCG</td>\n",
       "      <td>AGGATAC</td>\n",
       "      <td>104</td>\n",
       "      <td>3</td>\n",
       "    </tr>\n",
       "  </tbody>\n",
       "</table>\n",
       "</div>"
      ],
      "text/plain": [
       "                                            sequence    r1_id     r2_id  \\\n",
       "0  ACACTCTTTCCCTACACGACGCTCTTCCGATCTCACGTAGTCTTGG...  GTCTTGG   GATCAAG   \n",
       "1  ACACTCTTTCCCTACACGACGCTCTTCCGATCTAGGAGTAATCAGG...  AATCAGG   TCACCAC   \n",
       "2  ACACTCTTTCCCTACACGACGCTCTTCCGATCTTGGCTTGGAATTC...  GGAATTC  GCACGAAC   \n",
       "3  ACACTCTTTCCCTACACGACGCTCTTCCGATCTTACCTCAGGATAC...  AGGATAC   TAACGCC   \n",
       "4  ACACTCTTTCCCTACACGACGCTCTTCCGATCTTGATCGTTGATCG...  TTGATCG   AGGATAC   \n",
       "\n",
       "   length  fragment_length  \n",
       "0     102                1  \n",
       "1     102                1  \n",
       "2     103                1  \n",
       "3     103                2  \n",
       "4     104                3  "
      ]
     },
     "execution_count": 2,
     "metadata": {},
     "output_type": "execute_result"
    }
   ],
   "source": [
    "df = pd.read_csv('../samples/raw_digest_df.csv')\n",
    "df.head()"
   ]
  },
  {
   "cell_type": "code",
   "execution_count": 3,
   "metadata": {},
   "outputs": [
    {
     "data": {
      "text/plain": [
       "<AxesSubplot:>"
      ]
     },
     "execution_count": 3,
     "metadata": {},
     "output_type": "execute_result"
    },
    {
     "data": {
      "image/png": "[encoded data removed]",
      "text/plain": [
       "<Figure size 432x288 with 1 Axes>"
      ]
     },
     "metadata": {
      "needs_background": "light"
     },
     "output_type": "display_data"
    }
   ],
   "source": [
    "read_count = len(df)\n",
    "df['length'].hist(bins=25)"
   ]
  },
  {
   "cell_type": "markdown",
   "metadata": {},
   "source": [
    "### define mean and sd (simulates size selection e.g., Blue-Pippin)"
   ]
  },
  {
   "cell_type": "code",
   "execution_count": 4,
   "metadata": {},
   "outputs": [],
   "source": [
    "mean = 400\n",
    "sd = 100\n",
    "#total_reads = read_count * 20\n",
    "total_reads = 300000"
   ]
  },
  {
   "cell_type": "code",
   "execution_count": 5,
   "metadata": {},
   "outputs": [
    {
     "name": "stdout",
     "output_type": "stream",
     "text": [
      "[395, 362, 444, 584, 337, 517, 401, 637, 344, 331, 482, 434, 527, 230, 465, 362, 489, 175, 111, 422, 192, 344, 202, 303, 319, 524, 365, 465, 416, 350, 525, 418, 397, 608, 461, 250, 467, 205, 430, 566, 401, 465, 449, 394, 423, 405, 491, 339, 414, 506]\n"
     ]
    },
    {
     "data": {
      "text/plain": [
       "array([[<AxesSubplot:title={'center':'0'}>]], dtype=object)"
      ]
     },
     "execution_count": 5,
     "metadata": {},
     "output_type": "execute_result"
    },
    {
     "data": {
      "image/png": "[encoded data removed]",
      "text/plain": [
       "<Figure size 432x288 with 1 Axes>"
      ]
     },
     "metadata": {
      "needs_background": "light"
     },
     "output_type": "display_data"
    }
   ],
   "source": [
    "draw_ls = np.random.normal(loc=mean,scale=sd,size=total_reads)\n",
    "draw_ls = [round(i) for i in draw_ls]\n",
    "print(draw_ls[:50])\n",
    "\n",
    "draw_dt = {}\n",
    "\n",
    "for i in range(max(min(df['length']), min(draw_ls)), min(max(df['length']), max(draw_ls))+1):\n",
    "    draw_dt[i] = draw_ls.count(i)\n",
    "\n",
    "tmp_df = pd.DataFrame(draw_ls)\n",
    "tmp_df.hist(bins=sd)"
   ]
  },
  {
   "cell_type": "markdown",
   "metadata": {},
   "source": [
    "### sort df by length"
   ]
  },
  {
   "cell_type": "code",
   "execution_count": 6,
   "metadata": {
    "scrolled": true
   },
   "outputs": [
    {
     "data": {
      "text/html": [
       "<div>\n",
       "<style scoped>\n",
       "    .dataframe tbody tr th:only-of-type {\n",
       "        vertical-align: middle;\n",
       "    }\n",
       "\n",
       "    .dataframe tbody tr th {\n",
       "        vertical-align: top;\n",
       "    }\n",
       "\n",
       "    .dataframe thead th {\n",
       "        text-align: right;\n",
       "    }\n",
       "</style>\n",
       "<table border=\"1\" class=\"dataframe\">\n",
       "  <thead>\n",
       "    <tr style=\"text-align: right;\">\n",
       "      <th></th>\n",
       "      <th>sequence</th>\n",
       "      <th>r1_id</th>\n",
       "      <th>r2_id</th>\n",
       "      <th>length</th>\n",
       "      <th>fragment_length</th>\n",
       "    </tr>\n",
       "  </thead>\n",
       "  <tbody>\n",
       "    <tr>\n",
       "      <th>0</th>\n",
       "      <td>ACACTCTTTCCCTACACGACGCTCTTCCGATCTCACGTAGTCTTGG...</td>\n",
       "      <td>GTCTTGG</td>\n",
       "      <td>GATCAAG</td>\n",
       "      <td>102</td>\n",
       "      <td>1</td>\n",
       "    </tr>\n",
       "    <tr>\n",
       "      <th>1</th>\n",
       "      <td>ACACTCTTTCCCTACACGACGCTCTTCCGATCTAGGAGTAATCAGG...</td>\n",
       "      <td>AATCAGG</td>\n",
       "      <td>TCACCAC</td>\n",
       "      <td>102</td>\n",
       "      <td>1</td>\n",
       "    </tr>\n",
       "    <tr>\n",
       "      <th>2</th>\n",
       "      <td>ACACTCTTTCCCTACACGACGCTCTTCCGATCTTGGCTTGGAATTC...</td>\n",
       "      <td>GGAATTC</td>\n",
       "      <td>GCACGAAC</td>\n",
       "      <td>103</td>\n",
       "      <td>1</td>\n",
       "    </tr>\n",
       "    <tr>\n",
       "      <th>3</th>\n",
       "      <td>ACACTCTTTCCCTACACGACGCTCTTCCGATCTTACCTCAGGATAC...</td>\n",
       "      <td>AGGATAC</td>\n",
       "      <td>TAACGCC</td>\n",
       "      <td>103</td>\n",
       "      <td>2</td>\n",
       "    </tr>\n",
       "    <tr>\n",
       "      <th>4</th>\n",
       "      <td>ACACTCTTTCCCTACACGACGCTCTTCCGATCTTGATCGTTGATCG...</td>\n",
       "      <td>TTGATCG</td>\n",
       "      <td>AGGATAC</td>\n",
       "      <td>104</td>\n",
       "      <td>3</td>\n",
       "    </tr>\n",
       "  </tbody>\n",
       "</table>\n",
       "</div>"
      ],
      "text/plain": [
       "                                            sequence    r1_id     r2_id  \\\n",
       "0  ACACTCTTTCCCTACACGACGCTCTTCCGATCTCACGTAGTCTTGG...  GTCTTGG   GATCAAG   \n",
       "1  ACACTCTTTCCCTACACGACGCTCTTCCGATCTAGGAGTAATCAGG...  AATCAGG   TCACCAC   \n",
       "2  ACACTCTTTCCCTACACGACGCTCTTCCGATCTTGGCTTGGAATTC...  GGAATTC  GCACGAAC   \n",
       "3  ACACTCTTTCCCTACACGACGCTCTTCCGATCTTACCTCAGGATAC...  AGGATAC   TAACGCC   \n",
       "4  ACACTCTTTCCCTACACGACGCTCTTCCGATCTTGATCGTTGATCG...  TTGATCG   AGGATAC   \n",
       "\n",
       "   length  fragment_length  \n",
       "0     102                1  \n",
       "1     102                1  \n",
       "2     103                1  \n",
       "3     103                2  \n",
       "4     104                3  "
      ]
     },
     "execution_count": 6,
     "metadata": {},
     "output_type": "execute_result"
    }
   ],
   "source": [
    "df.sort_values(['length'], ascending=[True], inplace=True)\n",
    "df.reset_index(inplace=True, drop=True)\n",
    "df.head()"
   ]
  },
  {
   "cell_type": "markdown",
   "metadata": {},
   "source": [
    "### sample actual reads (good for visual, but data object can be large)"
   ]
  },
  {
   "cell_type": "code",
   "execution_count": 22,
   "metadata": {},
   "outputs": [
    {
     "name": "stdout",
     "output_type": "stream",
     "text": [
      "the length of sample_seqs is 236341\n"
     ]
    }
   ],
   "source": [
    "sampled_seqs = pd.DataFrame(columns=['sequence', 'r1_id', 'r2_id', 'length'])\n",
    "\n",
    "for length, draws in draw_dt.items():\n",
    "    tmp_df =  df.loc[df['length'] == length]\n",
    "    if len(tmp_df) == 0:\n",
    "        continue\n",
    "    sampled_df = tmp_df.sample(n=draws, replace=True)\n",
    "    sampled_seqs = pd.concat([sampled_seqs, sampled_df])\n",
    "\n",
    "print(f'the length of sample_seqs is {len(sampled_seqs)}')"
   ]
  },
  {
   "cell_type": "code",
   "execution_count": 20,
   "metadata": {
    "scrolled": false
   },
   "outputs": [
    {
     "data": {
      "text/plain": [
       "<AxesSubplot:>"
      ]
     },
     "execution_count": 20,
     "metadata": {},
     "output_type": "execute_result"
    },
    {
     "data": {
      "image/png": "[encoded data removed]",
      "text/plain": [
       "<Figure size 432x288 with 1 Axes>"
      ]
     },
     "metadata": {
      "needs_background": "light"
     },
     "output_type": "display_data"
    }
   ],
   "source": [
    "sampled_seqs['length'].hist(bins=sd)"
   ]
  },
  {
   "cell_type": "markdown",
   "metadata": {},
   "source": [
    "### sample idices (more compact)"
   ]
  },
  {
   "cell_type": "code",
   "execution_count": 21,
   "metadata": {
    "scrolled": true
   },
   "outputs": [
    {
     "name": "stdout",
     "output_type": "stream",
     "text": [
      "the length of sample_seqs is 1485\n",
      "236341\n"
     ]
    }
   ],
   "source": [
    "sampled_seqs = pd.DataFrame(columns=['sequence', 'r1_id', 'r2_id', 'length'])\n",
    "counts = []\n",
    "\n",
    "for length, draws in draw_dt.items():\n",
    "    tmp_df =  df.loc[df['length'] == length]\n",
    "    if len(tmp_df) == 0:\n",
    "        continue\n",
    "    indices = [i for i in range(len(tmp_df))]\n",
    "    sampled_idx = random.choices(indices, k=draws)\n",
    "    counts += [sampled_idx.count(idx) for idx in indices]\n",
    "    #tmp_df['counts'] = new_col\n",
    "    sampled_seqs = pd.concat([sampled_seqs, tmp_df])\n",
    "\n",
    "sampled_seqs['counts'] = counts\n",
    "\n",
    "print(f'the length of sample_seqs is {len(sampled_seqs)}')\n",
    "print(sampled_seqs['counts'].sum())"
   ]
  },
  {
   "cell_type": "markdown",
   "metadata": {},
   "source": [
    "### drop the unused reads"
   ]
  },
  {
   "cell_type": "code",
   "execution_count": null,
   "metadata": {},
   "outputs": [],
   "source": [
    "index_names = sampled_seqs[sampled_seqs['counts'] == 0].index\n",
    "\n",
    "sampled_seqs.drop(index_names, inplace=True)\n",
    "\n",
    "print(f'the length of sample_seqs is {len(sampled_seqs)}')\n",
    "print(sampled_seqs['counts'].sum())\n",
    "sampled_seqs.head()"
   ]
  }
 ],
 "metadata": {
  "kernelspec": {
   "display_name": "Python 3",
   "language": "python",
   "name": "python3"
  },
  "language_info": {
   "codemirror_mode": {
    "name": "ipython",
    "version": 3
   },
   "file_extension": ".py",
   "mimetype": "text/x-python",
   "name": "python",
   "nbconvert_exporter": "python",
   "pygments_lexer": "ipython3",
   "version": "3.8.6"
  }
 },
 "nbformat": 4,
 "nbformat_minor": 4
}
