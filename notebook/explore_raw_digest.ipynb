{
 "cells": [
  {
   "cell_type": "markdown",
   "metadata": {},
   "source": [
    "## TODO:  \n",
    "- allow for total reads or coverage approach\n",
    "- for total reads, a per chromosome (fastq entry) estimate of progress will be made\n",
    "- calculate coverage as total reads x coverage value = total reads"
   ]
  },
  {
   "cell_type": "code",
   "execution_count": 1,
   "metadata": {},
   "outputs": [],
   "source": [
    "import matplotlib as plt\n",
    "import numpy as np\n",
    "import pandas as pd\n",
    "import random\n",
    "import seaborn as sns\n",
    "\n",
    "%matplotlib inline"
   ]
  },
  {
   "cell_type": "code",
   "execution_count": 2,
   "metadata": {},
   "outputs": [
    {
     "data": {
      "text/html": [
       "<div>\n",
       "<style scoped>\n",
       "    .dataframe tbody tr th:only-of-type {\n",
       "        vertical-align: middle;\n",
       "    }\n",
       "\n",
       "    .dataframe tbody tr th {\n",
       "        vertical-align: top;\n",
       "    }\n",
       "\n",
       "    .dataframe thead th {\n",
       "        text-align: right;\n",
       "    }\n",
       "</style>\n",
       "<table border=\"1\" class=\"dataframe\">\n",
       "  <thead>\n",
       "    <tr style=\"text-align: right;\">\n",
       "      <th></th>\n",
       "      <th>seq</th>\n",
       "      <th>start</th>\n",
       "      <th>end</th>\n",
       "      <th>strand</th>\n",
       "      <th>length</th>\n",
       "      <th>length_w_adapter</th>\n",
       "      <th>r1_id</th>\n",
       "      <th>r2_id</th>\n",
       "    </tr>\n",
       "  </thead>\n",
       "  <tbody>\n",
       "    <tr>\n",
       "      <th>0</th>\n",
       "      <td>ATGTTGGTATGGGAGGAACAATATATGTACCATTTTTTAAAATCGA...</td>\n",
       "      <td>153</td>\n",
       "      <td>776</td>\n",
       "      <td>+</td>\n",
       "      <td>621</td>\n",
       "      <td>621</td>\n",
       "      <td>na</td>\n",
       "      <td>na</td>\n",
       "    </tr>\n",
       "    <tr>\n",
       "      <th>1</th>\n",
       "      <td>ATGAAATAAATTTAATTGAGCTTATTAGCTGGTTACCAGAAGGTAA...</td>\n",
       "      <td>772</td>\n",
       "      <td>1403</td>\n",
       "      <td>+</td>\n",
       "      <td>629</td>\n",
       "      <td>629</td>\n",
       "      <td>na</td>\n",
       "      <td>na</td>\n",
       "    </tr>\n",
       "    <tr>\n",
       "      <th>2</th>\n",
       "      <td>ATGTATAATAACAAATTACTATAGACAACTTTGACTATTTTTATAA...</td>\n",
       "      <td>1399</td>\n",
       "      <td>1567</td>\n",
       "      <td>+</td>\n",
       "      <td>166</td>\n",
       "      <td>166</td>\n",
       "      <td>na</td>\n",
       "      <td>na</td>\n",
       "    </tr>\n",
       "    <tr>\n",
       "      <th>3</th>\n",
       "      <td>ATGGTAGCACAAGAACCCCACAATCTCATAAAAGGAATGTGAAAAG...</td>\n",
       "      <td>1563</td>\n",
       "      <td>1737</td>\n",
       "      <td>+</td>\n",
       "      <td>172</td>\n",
       "      <td>172</td>\n",
       "      <td>na</td>\n",
       "      <td>na</td>\n",
       "    </tr>\n",
       "    <tr>\n",
       "      <th>4</th>\n",
       "      <td>ATGACCATTACTCGCCTACTAGGTTACTCTTATATTTGATCTTCTA...</td>\n",
       "      <td>1733</td>\n",
       "      <td>2634</td>\n",
       "      <td>+</td>\n",
       "      <td>899</td>\n",
       "      <td>899</td>\n",
       "      <td>na</td>\n",
       "      <td>na</td>\n",
       "    </tr>\n",
       "  </tbody>\n",
       "</table>\n",
       "</div>"
      ],
      "text/plain": [
       "                                                 seq  start   end strand  \\\n",
       "0  ATGTTGGTATGGGAGGAACAATATATGTACCATTTTTTAAAATCGA...    153   776      +   \n",
       "1  ATGAAATAAATTTAATTGAGCTTATTAGCTGGTTACCAGAAGGTAA...    772  1403      +   \n",
       "2  ATGTATAATAACAAATTACTATAGACAACTTTGACTATTTTTATAA...   1399  1567      +   \n",
       "3  ATGGTAGCACAAGAACCCCACAATCTCATAAAAGGAATGTGAAAAG...   1563  1737      +   \n",
       "4  ATGACCATTACTCGCCTACTAGGTTACTCTTATATTTGATCTTCTA...   1733  2634      +   \n",
       "\n",
       "   length  length_w_adapter r1_id r2_id  \n",
       "0     621               621    na    na  \n",
       "1     629               629    na    na  \n",
       "2     166               166    na    na  \n",
       "3     172               172    na    na  \n",
       "4     899               899    na    na  "
      ]
     },
     "execution_count": 2,
     "metadata": {},
     "output_type": "execute_result"
    }
   ],
   "source": [
    "#df = pd.read_csv('../raw_data/samples/raw_digest_df.csv')\n",
    "df = pd.read_csv('../raw_data/samples/raw_digest_chr_1.fna.csv')\n",
    "df.head()"
   ]
  },
  {
   "cell_type": "code",
   "execution_count": 3,
   "metadata": {},
   "outputs": [
    {
     "data": {
      "text/plain": [
       "<AxesSubplot:>"
      ]
     },
     "execution_count": 3,
     "metadata": {},
     "output_type": "execute_result"
    },
    {
     "data": {
      "image/png": "[encoded data removed]",
      "text/plain": [
       "<Figure size 432x288 with 1 Axes>"
      ]
     },
     "metadata": {
      "needs_background": "light"
     },
     "output_type": "display_data"
    }
   ],
   "source": [
    "read_count = len(df)\n",
    "df['length'].hist(bins=25)"
   ]
  },
  {
   "cell_type": "code",
   "execution_count": 4,
   "metadata": {},
   "outputs": [
    {
     "data": {
      "image/png": "[encoded data removed]",
      "text/plain": [
       "<Figure size 432x288 with 1 Axes>"
      ]
     },
     "metadata": {
      "needs_background": "light"
     },
     "output_type": "display_data"
    }
   ],
   "source": [
    "ax = df['length'].hist(bins=25)\n",
    "fig = ax.get_figure()\n",
    "fig.savefig('./raw_digest.pdf')"
   ]
  },
  {
   "cell_type": "markdown",
   "metadata": {},
   "source": [
    "### define mean and sd (simulates size selection e.g., Blue-Pippin)"
   ]
  },
  {
   "cell_type": "code",
   "execution_count": 5,
   "metadata": {},
   "outputs": [],
   "source": [
    "mean = 400\n",
    "sd = 100\n",
    "#total_reads = read_count * 20\n",
    "total_reads = 300000"
   ]
  },
  {
   "cell_type": "code",
   "execution_count": 6,
   "metadata": {},
   "outputs": [
    {
     "name": "stdout",
     "output_type": "stream",
     "text": [
      "[182, 446, 231, 513, 370, 333, 313, 632, 488, 229, 328, 410, 372, 416, 439, 376, 431, 428, 167, 518, 378, 524, 478, 374, 402, 389, 462, 396, 292, 283, 295, 571, 452, 257, 333, 305, 439, 401, 389, 547, 429, 268, 298, 416, 405, 384, 283, 306, 299, 339]\n"
     ]
    },
    {
     "data": {
      "text/plain": [
       "array([[<AxesSubplot:title={'center':'0'}>]], dtype=object)"
      ]
     },
     "execution_count": 6,
     "metadata": {},
     "output_type": "execute_result"
    },
    {
     "data": {
      "image/png": "[encoded data removed]",
      "text/plain": [
       "<Figure size 432x288 with 1 Axes>"
      ]
     },
     "metadata": {
      "needs_background": "light"
     },
     "output_type": "display_data"
    }
   ],
   "source": [
    "draw_ls = np.random.normal(loc=mean,scale=sd,size=total_reads)\n",
    "draw_ls = [round(i) for i in draw_ls]\n",
    "print(draw_ls[:50])\n",
    "\n",
    "draw_dt = {}\n",
    "\n",
    "for i in range(max(min(df['length']), min(draw_ls)), min(max(df['length']), max(draw_ls))+1):\n",
    "    draw_dt[i] = draw_ls.count(i)\n",
    "\n",
    "tmp_df = pd.DataFrame(draw_ls)\n",
    "tmp_df.hist(bins=sd)"
   ]
  },
  {
   "cell_type": "markdown",
   "metadata": {},
   "source": [
    "### sort df by length"
   ]
  },
  {
   "cell_type": "code",
   "execution_count": 7,
   "metadata": {
    "scrolled": true
   },
   "outputs": [
    {
     "data": {
      "text/html": [
       "<div>\n",
       "<style scoped>\n",
       "    .dataframe tbody tr th:only-of-type {\n",
       "        vertical-align: middle;\n",
       "    }\n",
       "\n",
       "    .dataframe tbody tr th {\n",
       "        vertical-align: top;\n",
       "    }\n",
       "\n",
       "    .dataframe thead th {\n",
       "        text-align: right;\n",
       "    }\n",
       "</style>\n",
       "<table border=\"1\" class=\"dataframe\">\n",
       "  <thead>\n",
       "    <tr style=\"text-align: right;\">\n",
       "      <th></th>\n",
       "      <th>seq</th>\n",
       "      <th>start</th>\n",
       "      <th>end</th>\n",
       "      <th>strand</th>\n",
       "      <th>length</th>\n",
       "      <th>length_w_adapter</th>\n",
       "      <th>r1_id</th>\n",
       "      <th>r2_id</th>\n",
       "    </tr>\n",
       "  </thead>\n",
       "  <tbody>\n",
       "    <tr>\n",
       "      <th>0</th>\n",
       "      <td>ATGCAT</td>\n",
       "      <td>26589243</td>\n",
       "      <td>26589251</td>\n",
       "      <td>-</td>\n",
       "      <td>6</td>\n",
       "      <td>6</td>\n",
       "      <td>na</td>\n",
       "      <td>na</td>\n",
       "    </tr>\n",
       "    <tr>\n",
       "      <th>1</th>\n",
       "      <td>ATGCAT</td>\n",
       "      <td>27775279</td>\n",
       "      <td>27775287</td>\n",
       "      <td>-</td>\n",
       "      <td>6</td>\n",
       "      <td>6</td>\n",
       "      <td>na</td>\n",
       "      <td>na</td>\n",
       "    </tr>\n",
       "    <tr>\n",
       "      <th>2</th>\n",
       "      <td>ATGCAT</td>\n",
       "      <td>15527248</td>\n",
       "      <td>15527256</td>\n",
       "      <td>+</td>\n",
       "      <td>6</td>\n",
       "      <td>6</td>\n",
       "      <td>na</td>\n",
       "      <td>na</td>\n",
       "    </tr>\n",
       "    <tr>\n",
       "      <th>3</th>\n",
       "      <td>ATGCAT</td>\n",
       "      <td>15514382</td>\n",
       "      <td>15514390</td>\n",
       "      <td>+</td>\n",
       "      <td>6</td>\n",
       "      <td>6</td>\n",
       "      <td>na</td>\n",
       "      <td>na</td>\n",
       "    </tr>\n",
       "    <tr>\n",
       "      <th>4</th>\n",
       "      <td>ATGCAT</td>\n",
       "      <td>15506144</td>\n",
       "      <td>15506152</td>\n",
       "      <td>+</td>\n",
       "      <td>6</td>\n",
       "      <td>6</td>\n",
       "      <td>na</td>\n",
       "      <td>na</td>\n",
       "    </tr>\n",
       "  </tbody>\n",
       "</table>\n",
       "</div>"
      ],
      "text/plain": [
       "      seq     start       end strand  length  length_w_adapter r1_id r2_id\n",
       "0  ATGCAT  26589243  26589251      -       6                 6    na    na\n",
       "1  ATGCAT  27775279  27775287      -       6                 6    na    na\n",
       "2  ATGCAT  15527248  15527256      +       6                 6    na    na\n",
       "3  ATGCAT  15514382  15514390      +       6                 6    na    na\n",
       "4  ATGCAT  15506144  15506152      +       6                 6    na    na"
      ]
     },
     "execution_count": 7,
     "metadata": {},
     "output_type": "execute_result"
    }
   ],
   "source": [
    "df.sort_values(['length'], ascending=[True], inplace=True)\n",
    "df.reset_index(inplace=True, drop=True)\n",
    "df.head()"
   ]
  },
  {
   "cell_type": "markdown",
   "metadata": {},
   "source": [
    "### sample actual reads (good for visual, but data object can be large)"
   ]
  },
  {
   "cell_type": "code",
   "execution_count": 8,
   "metadata": {},
   "outputs": [
    {
     "name": "stdout",
     "output_type": "stream",
     "text": [
      "the length of sample_seqs is 299988\n"
     ]
    }
   ],
   "source": [
    "sampled_seqs = pd.DataFrame(columns=['sequence', 'r1_id', 'r2_id', 'length'])\n",
    "\n",
    "for length, draws in draw_dt.items():\n",
    "    tmp_df =  df.loc[df['length'] == length]\n",
    "    if len(tmp_df) == 0:\n",
    "        continue\n",
    "    sampled_df = tmp_df.sample(n=draws, replace=True)\n",
    "    sampled_seqs = pd.concat([sampled_seqs, sampled_df])\n",
    "\n",
    "print(f'the length of sample_seqs is {len(sampled_seqs)}')"
   ]
  },
  {
   "cell_type": "code",
   "execution_count": 9,
   "metadata": {
    "scrolled": true
   },
   "outputs": [
    {
     "data": {
      "text/plain": [
       "<AxesSubplot:>"
      ]
     },
     "execution_count": 9,
     "metadata": {},
     "output_type": "execute_result"
    },
    {
     "data": {
      "image/png": "[encoded data removed]",
      "text/plain": [
       "<Figure size 432x288 with 1 Axes>"
      ]
     },
     "metadata": {
      "needs_background": "light"
     },
     "output_type": "display_data"
    }
   ],
   "source": [
    "sampled_seqs['length'].hist(bins=sd)"
   ]
  },
  {
   "cell_type": "markdown",
   "metadata": {},
   "source": [
    "### sample reads using intersection of fragment/sampling distributions\n",
    "automatically size to include all fragments in mean + sd range  \n",
    "this mimics real gel size selection as all of the target fragments should be included near the mean while the shorter fragments, which are likely to be very abundant, will be represented as a fraction"
   ]
  },
  {
   "cell_type": "code",
   "execution_count": 10,
   "metadata": {
    "scrolled": true
   },
   "outputs": [],
   "source": [
    "# try creating draw_ls until mean + 2sd are not hindered by number of draws\n",
    "# grow sample size by 10 percent each iteration\n",
    "\n",
    "total_reads = 10\n",
    "target = 2*sd\n",
    "keep_going = True\n",
    "\n",
    "while keep_going is True:\n",
    "    keep_going = False\n",
    "    draw_ls = np.random.normal(loc=mean,scale=sd,size=total_reads)\n",
    "    draw_ls = [round(i) for i in draw_ls]\n",
    "    for i in range(mean, mean + target):\n",
    "        len_count = df[df.length == i].shape[0]\n",
    "        if len_count > draw_ls.count(i):\n",
    "            total_reads = round(total_reads*1.1)\n",
    "            keep_going = True\n",
    "            break"
   ]
  },
  {
   "cell_type": "code",
   "execution_count": 11,
   "metadata": {},
   "outputs": [
    {
     "name": "stdout",
     "output_type": "stream",
     "text": [
      "184602\n"
     ]
    }
   ],
   "source": [
    "print(total_reads)"
   ]
  },
  {
   "cell_type": "code",
   "execution_count": 12,
   "metadata": {},
   "outputs": [],
   "source": [
    "draw_dt = {}\n",
    "for i in range(min(draw_ls), max(draw_ls)+1):\n",
    "    draw_counts = draw_ls.count(i)\n",
    "    data_counts = df[df.length == i].shape[0]\n",
    "    draw_dt[i] = min(draw_counts, data_counts)"
   ]
  },
  {
   "cell_type": "code",
   "execution_count": 13,
   "metadata": {},
   "outputs": [],
   "source": [
    "#draw_dt = {}\n",
    "\n",
    "#for i in range(max(min(df['length']), min(draw_ls)), min(max(df['length']), max(draw_ls))+1):\n",
    "#    draw_dt[i] = draw_ls.count(i)"
   ]
  },
  {
   "cell_type": "code",
   "execution_count": 14,
   "metadata": {},
   "outputs": [
    {
     "name": "stdout",
     "output_type": "stream",
     "text": [
      "the length of sample_seqs is 78127\n"
     ]
    }
   ],
   "source": [
    "sampled_seqs = pd.DataFrame(columns=['sequence', 'r1_id', 'r2_id', 'length'])\n",
    "\n",
    "for length, draws in draw_dt.items():\n",
    "    tmp_df =  df.loc[df['length'] == length]\n",
    "    if len(tmp_df) == 0:\n",
    "        continue\n",
    "    sampled_df = tmp_df.sample(n=draws, replace=True)\n",
    "    sampled_seqs = pd.concat([sampled_seqs, sampled_df])\n",
    "\n",
    "print(f'the length of sample_seqs is {len(sampled_seqs)}')"
   ]
  },
  {
   "cell_type": "markdown",
   "metadata": {},
   "source": [
    "### original fragments"
   ]
  },
  {
   "cell_type": "code",
   "execution_count": 15,
   "metadata": {},
   "outputs": [
    {
     "data": {
      "text/plain": [
       "<AxesSubplot:>"
      ]
     },
     "execution_count": 15,
     "metadata": {},
     "output_type": "execute_result"
    },
    {
     "data": {
      "image/png": "[encoded data removed]",
      "text/plain": [
       "<Figure size 432x288 with 1 Axes>"
      ]
     },
     "metadata": {
      "needs_background": "light"
     },
     "output_type": "display_data"
    }
   ],
   "source": [
    "df['length'].hist(bins=sd)"
   ]
  },
  {
   "cell_type": "markdown",
   "metadata": {},
   "source": [
    "### original fragments (in range of 100 to 700)"
   ]
  },
  {
   "cell_type": "code",
   "execution_count": 16,
   "metadata": {},
   "outputs": [
    {
     "data": {
      "text/plain": [
       "<AxesSubplot:>"
      ]
     },
     "execution_count": 16,
     "metadata": {},
     "output_type": "execute_result"
    },
    {
     "data": {
      "image/png": "[encoded data removed]",
      "text/plain": [
       "<Figure size 432x288 with 1 Axes>"
      ]
     },
     "metadata": {
      "needs_background": "light"
     },
     "output_type": "display_data"
    }
   ],
   "source": [
    "df['length'].hist(range=[100, 700], bins=50)"
   ]
  },
  {
   "cell_type": "markdown",
   "metadata": {},
   "source": [
    "### sampling distribution"
   ]
  },
  {
   "cell_type": "code",
   "execution_count": 17,
   "metadata": {},
   "outputs": [
    {
     "data": {
      "text/plain": [
       "array([[<AxesSubplot:title={'center':'0'}>]], dtype=object)"
      ]
     },
     "execution_count": 17,
     "metadata": {},
     "output_type": "execute_result"
    },
    {
     "data": {
      "image/png": "[encoded data removed]",
      "text/plain": [
       "<Figure size 432x288 with 1 Axes>"
      ]
     },
     "metadata": {
      "needs_background": "light"
     },
     "output_type": "display_data"
    }
   ],
   "source": [
    "tmp_df = pd.DataFrame(draw_ls)\n",
    "tmp_df.hist(range=[100, 700], bins=50)"
   ]
  },
  {
   "cell_type": "markdown",
   "metadata": {},
   "source": [
    "### reads actually sampled (intersection)"
   ]
  },
  {
   "cell_type": "code",
   "execution_count": 18,
   "metadata": {
    "scrolled": true
   },
   "outputs": [
    {
     "data": {
      "text/plain": [
       "<AxesSubplot:>"
      ]
     },
     "execution_count": 18,
     "metadata": {},
     "output_type": "execute_result"
    },
    {
     "data": {
      "image/png": "[encoded data removed]",
      "text/plain": [
       "<Figure size 432x288 with 1 Axes>"
      ]
     },
     "metadata": {
      "needs_background": "light"
     },
     "output_type": "display_data"
    }
   ],
   "source": [
    "sampled_seqs['length'].hist(range=[100, 700], bins=50)"
   ]
  },
  {
   "cell_type": "markdown",
   "metadata": {},
   "source": [
    "### sample idices (more compact)"
   ]
  },
  {
   "cell_type": "code",
   "execution_count": 19,
   "metadata": {
    "scrolled": true
   },
   "outputs": [
    {
     "name": "stdout",
     "output_type": "stream",
     "text": [
      "the length of sample_seqs is 236178\n",
      "78127\n"
     ]
    }
   ],
   "source": [
    "sampled_seqs = pd.DataFrame(columns=['sequence', 'r1_id', 'r2_id', 'length'])\n",
    "counts = []\n",
    "\n",
    "for length, draws in draw_dt.items():\n",
    "    tmp_df =  df.loc[df['length'] == length]\n",
    "    if len(tmp_df) == 0:\n",
    "        continue\n",
    "    indices = [i for i in range(len(tmp_df))]\n",
    "    sampled_idx = random.choices(indices, k=draws)\n",
    "    counts += [sampled_idx.count(idx) for idx in indices]\n",
    "    #tmp_df['counts'] = new_col\n",
    "    sampled_seqs = pd.concat([sampled_seqs, tmp_df])\n",
    "\n",
    "sampled_seqs['counts'] = counts\n",
    "\n",
    "print(f'the length of sample_seqs is {len(sampled_seqs)}')\n",
    "print(sampled_seqs['counts'].sum())"
   ]
  },
  {
   "cell_type": "markdown",
   "metadata": {},
   "source": [
    "### drop the unused reads"
   ]
  },
  {
   "cell_type": "code",
   "execution_count": 20,
   "metadata": {
    "scrolled": true
   },
   "outputs": [
    {
     "name": "stdout",
     "output_type": "stream",
     "text": [
      "the length of sample_seqs is 52587\n",
      "78127\n"
     ]
    },
    {
     "data": {
      "text/html": [
       "<div>\n",
       "<style scoped>\n",
       "    .dataframe tbody tr th:only-of-type {\n",
       "        vertical-align: middle;\n",
       "    }\n",
       "\n",
       "    .dataframe tbody tr th {\n",
       "        vertical-align: top;\n",
       "    }\n",
       "\n",
       "    .dataframe thead th {\n",
       "        text-align: right;\n",
       "    }\n",
       "</style>\n",
       "<table border=\"1\" class=\"dataframe\">\n",
       "  <thead>\n",
       "    <tr style=\"text-align: right;\">\n",
       "      <th></th>\n",
       "      <th>sequence</th>\n",
       "      <th>r1_id</th>\n",
       "      <th>r2_id</th>\n",
       "      <th>length</th>\n",
       "      <th>seq</th>\n",
       "      <th>start</th>\n",
       "      <th>end</th>\n",
       "      <th>strand</th>\n",
       "      <th>length_w_adapter</th>\n",
       "      <th>counts</th>\n",
       "    </tr>\n",
       "  </thead>\n",
       "  <tbody>\n",
       "    <tr>\n",
       "      <th>3647</th>\n",
       "      <td>NaN</td>\n",
       "      <td>na</td>\n",
       "      <td>na</td>\n",
       "      <td>7</td>\n",
       "      <td>ATGCCAT</td>\n",
       "      <td>30819350.0</td>\n",
       "      <td>30819359.0</td>\n",
       "      <td>+</td>\n",
       "      <td>7.0</td>\n",
       "      <td>1</td>\n",
       "    </tr>\n",
       "    <tr>\n",
       "      <th>11633</th>\n",
       "      <td>NaN</td>\n",
       "      <td>na</td>\n",
       "      <td>na</td>\n",
       "      <td>12</td>\n",
       "      <td>ATGAATATACAT</td>\n",
       "      <td>12759355.0</td>\n",
       "      <td>12759369.0</td>\n",
       "      <td>-</td>\n",
       "      <td>12.0</td>\n",
       "      <td>1</td>\n",
       "    </tr>\n",
       "    <tr>\n",
       "      <th>12084</th>\n",
       "      <td>NaN</td>\n",
       "      <td>na</td>\n",
       "      <td>na</td>\n",
       "      <td>13</td>\n",
       "      <td>ATGACAATTACAT</td>\n",
       "      <td>12519324.0</td>\n",
       "      <td>12519339.0</td>\n",
       "      <td>-</td>\n",
       "      <td>13.0</td>\n",
       "      <td>1</td>\n",
       "    </tr>\n",
       "    <tr>\n",
       "      <th>13789</th>\n",
       "      <td>NaN</td>\n",
       "      <td>na</td>\n",
       "      <td>na</td>\n",
       "      <td>14</td>\n",
       "      <td>ATGAACTCGCCCAT</td>\n",
       "      <td>15181136.0</td>\n",
       "      <td>15181152.0</td>\n",
       "      <td>+</td>\n",
       "      <td>14.0</td>\n",
       "      <td>1</td>\n",
       "    </tr>\n",
       "    <tr>\n",
       "      <th>15160</th>\n",
       "      <td>NaN</td>\n",
       "      <td>na</td>\n",
       "      <td>na</td>\n",
       "      <td>15</td>\n",
       "      <td>ATGGATTTGAGGCAT</td>\n",
       "      <td>21719795.0</td>\n",
       "      <td>21719812.0</td>\n",
       "      <td>-</td>\n",
       "      <td>15.0</td>\n",
       "      <td>1</td>\n",
       "    </tr>\n",
       "  </tbody>\n",
       "</table>\n",
       "</div>"
      ],
      "text/plain": [
       "      sequence r1_id r2_id length              seq       start         end  \\\n",
       "3647       NaN    na    na      7          ATGCCAT  30819350.0  30819359.0   \n",
       "11633      NaN    na    na     12     ATGAATATACAT  12759355.0  12759369.0   \n",
       "12084      NaN    na    na     13    ATGACAATTACAT  12519324.0  12519339.0   \n",
       "13789      NaN    na    na     14   ATGAACTCGCCCAT  15181136.0  15181152.0   \n",
       "15160      NaN    na    na     15  ATGGATTTGAGGCAT  21719795.0  21719812.0   \n",
       "\n",
       "      strand  length_w_adapter  counts  \n",
       "3647       +               7.0       1  \n",
       "11633      -              12.0       1  \n",
       "12084      -              13.0       1  \n",
       "13789      +              14.0       1  \n",
       "15160      -              15.0       1  "
      ]
     },
     "execution_count": 20,
     "metadata": {},
     "output_type": "execute_result"
    }
   ],
   "source": [
    "index_names = sampled_seqs[sampled_seqs['counts'] == 0].index\n",
    "\n",
    "sampled_seqs.drop(index_names, inplace=True)\n",
    "\n",
    "print(f'the length of sample_seqs is {len(sampled_seqs)}')\n",
    "print(sampled_seqs['counts'].sum())\n",
    "sampled_seqs.head()"
   ]
  },
  {
   "cell_type": "markdown",
   "metadata": {},
   "source": [
    "### create sampling distribution by expanding sampled_seqs dataframe"
   ]
  },
  {
   "cell_type": "code",
   "execution_count": 25,
   "metadata": {},
   "outputs": [
    {
     "name": "stdout",
     "output_type": "stream",
     "text": [
      "78127\n"
     ]
    }
   ],
   "source": [
    "histogram_seqs = pd.DataFrame(columns=['length'])\n",
    "length_ls = []\n",
    "\n",
    "for idx, row in sampled_seqs.iterrows():\n",
    "    length_ls.extend([row['length'] for i in range(row['counts'])])\n",
    "\n",
    "histogram_seqs['length'] = length_ls\n",
    "\n",
    "print(len(histogram_seqs))"
   ]
  },
  {
   "cell_type": "code",
   "execution_count": 26,
   "metadata": {},
   "outputs": [
    {
     "data": {
      "text/plain": [
       "<AxesSubplot:>"
      ]
     },
     "execution_count": 26,
     "metadata": {},
     "output_type": "execute_result"
    },
    {
     "data": {
      "image/png": "[encoded data removed]",
      "text/plain": [
       "<Figure size 432x288 with 1 Axes>"
      ]
     },
     "metadata": {
      "needs_background": "light"
     },
     "output_type": "display_data"
    }
   ],
   "source": [
    "histogram_seqs['length'].hist(range=[100, 700], bins=50)"
   ]
  }
 ],
 "metadata": {
  "kernelspec": {
   "display_name": "Python 3",
   "language": "python",
   "name": "python3"
  },
  "language_info": {
   "codemirror_mode": {
    "name": "ipython",
    "version": 3
   },
   "file_extension": ".py",
   "mimetype": "text/x-python",
   "name": "python",
   "nbconvert_exporter": "python",
   "pygments_lexer": "ipython3",
   "version": "3.8.6"
  }
 },
 "nbformat": 4,
 "nbformat_minor": 4
}
