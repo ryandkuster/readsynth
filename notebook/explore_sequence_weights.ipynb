{
 "cells": [
  {
   "cell_type": "code",
   "execution_count": 1,
   "metadata": {},
   "outputs": [],
   "source": [
    "import pandas as pd"
   ]
  },
  {
   "cell_type": "code",
   "execution_count": 2,
   "metadata": {},
   "outputs": [],
   "source": [
    "df = pd.DataFrame()"
   ]
  },
  {
   "cell_type": "code",
   "execution_count": 3,
   "metadata": {},
   "outputs": [],
   "source": [
    "start = [45,45,60,70,900,900]\n",
    "end = [59,59,75,80,950,950]\n",
    "length = [15,15,16,11,51,51]\n",
    "strand = [\"+\",\"-\",\"+\",\"-\",\"+\",\"-\"]"
   ]
  },
  {
   "cell_type": "code",
   "execution_count": 4,
   "metadata": {},
   "outputs": [],
   "source": [
    "df['start'] = start\n",
    "df['end'] = end\n",
    "df['length'] = length\n",
    "df['strand'] = strand"
   ]
  },
  {
   "cell_type": "code",
   "execution_count": 5,
   "metadata": {},
   "outputs": [
    {
     "data": {
      "text/html": [
       "<div>\n",
       "<style scoped>\n",
       "    .dataframe tbody tr th:only-of-type {\n",
       "        vertical-align: middle;\n",
       "    }\n",
       "\n",
       "    .dataframe tbody tr th {\n",
       "        vertical-align: top;\n",
       "    }\n",
       "\n",
       "    .dataframe thead th {\n",
       "        text-align: right;\n",
       "    }\n",
       "</style>\n",
       "<table border=\"1\" class=\"dataframe\">\n",
       "  <thead>\n",
       "    <tr style=\"text-align: right;\">\n",
       "      <th></th>\n",
       "      <th>start</th>\n",
       "      <th>end</th>\n",
       "      <th>length</th>\n",
       "      <th>strand</th>\n",
       "    </tr>\n",
       "  </thead>\n",
       "  <tbody>\n",
       "    <tr>\n",
       "      <th>0</th>\n",
       "      <td>45</td>\n",
       "      <td>59</td>\n",
       "      <td>15</td>\n",
       "      <td>+</td>\n",
       "    </tr>\n",
       "    <tr>\n",
       "      <th>1</th>\n",
       "      <td>45</td>\n",
       "      <td>59</td>\n",
       "      <td>15</td>\n",
       "      <td>-</td>\n",
       "    </tr>\n",
       "    <tr>\n",
       "      <th>2</th>\n",
       "      <td>60</td>\n",
       "      <td>75</td>\n",
       "      <td>16</td>\n",
       "      <td>+</td>\n",
       "    </tr>\n",
       "    <tr>\n",
       "      <th>3</th>\n",
       "      <td>70</td>\n",
       "      <td>80</td>\n",
       "      <td>11</td>\n",
       "      <td>-</td>\n",
       "    </tr>\n",
       "    <tr>\n",
       "      <th>4</th>\n",
       "      <td>900</td>\n",
       "      <td>950</td>\n",
       "      <td>51</td>\n",
       "      <td>+</td>\n",
       "    </tr>\n",
       "    <tr>\n",
       "      <th>5</th>\n",
       "      <td>900</td>\n",
       "      <td>950</td>\n",
       "      <td>51</td>\n",
       "      <td>-</td>\n",
       "    </tr>\n",
       "  </tbody>\n",
       "</table>\n",
       "</div>"
      ],
      "text/plain": [
       "   start  end  length strand\n",
       "0     45   59      15      +\n",
       "1     45   59      15      -\n",
       "2     60   75      16      +\n",
       "3     70   80      11      -\n",
       "4    900  950      51      +\n",
       "5    900  950      51      -"
      ]
     },
     "execution_count": 5,
     "metadata": {},
     "output_type": "execute_result"
    }
   ],
   "source": [
    "df"
   ]
  },
  {
   "cell_type": "code",
   "execution_count": 6,
   "metadata": {},
   "outputs": [
    {
     "name": "stdout",
     "output_type": "stream",
     "text": [
      "[0.5, 0.5, 0.7272727272727273, 0.6470588235294118, 0.5, 0.5]\n"
     ]
    }
   ],
   "source": [
    "def count_pos(df):\n",
    "    pos_dt = {}\n",
    "    for idx, row in df.iterrows():\n",
    "        for i in range(row['start'], row['end']+1):\n",
    "            if i in pos_dt:\n",
    "                pos_dt[i] += 1\n",
    "            else:\n",
    "                pos_dt[i] = 1\n",
    "                \n",
    "    return pos_dt\n",
    "\n",
    "\n",
    "def add_pos_weight(pos_dt, df):\n",
    "    weight_ls = []\n",
    "    for idx, row in df.iterrows():\n",
    "        frag_total = 0\n",
    "        for i in range(row['start'], row['end']+1):\n",
    "            frag_total += pos_dt[i]\n",
    "        weight_ls.append(row['length']/frag_total)\n",
    "\n",
    "    df['weight'] = weight_\n",
    "    return df\n",
    "        \n",
    "        \n",
    "pos_dt = count_pos(df)\n",
    "\n",
    "df = add_pos_weight(pos_dt, df)\n",
    "\n",
    "\n"
   ]
  }
 ],
 "metadata": {
  "kernelspec": {
   "display_name": "Python 3",
   "language": "python",
   "name": "python3"
  },
  "language_info": {
   "codemirror_mode": {
    "name": "ipython",
    "version": 3
   },
   "file_extension": ".py",
   "mimetype": "text/x-python",
   "name": "python",
   "nbconvert_exporter": "python",
   "pygments_lexer": "ipython3",
   "version": "3.8.6"
  }
 },
 "nbformat": 4,
 "nbformat_minor": 4
}
