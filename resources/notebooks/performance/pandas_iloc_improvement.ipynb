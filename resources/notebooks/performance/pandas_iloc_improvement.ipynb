{
 "cells": [
  {
   "cell_type": "code",
   "execution_count": 1,
   "metadata": {},
   "outputs": [],
   "source": [
    "import numpy as np\n",
    "import os\n",
    "import pandas as pd\n",
    "import random\n",
    "import sys\n",
    "\n",
    "import time"
   ]
  },
  {
   "cell_type": "code",
   "execution_count": 2,
   "metadata": {},
   "outputs": [
    {
     "name": "stdout",
     "output_type": "stream",
     "text": [
      "      seq    start      end      m1      m2  internal  length  reverse\n",
      "0  AATTCT  3535543  3535547    TTAA  GAATTC         0      10        1\n",
      "1  AATTCT  2561058  2561062    TTAA  GAATTC         0      10        1\n",
      "2  AATTCT  2407284  2407290  GAATTC    TTAA         0      10        0\n",
      "3  AATTCT   919313   919319  GAATTC    TTAA         0      10        0\n",
      "4  AATTCT  3863925  3863929    TTAA  GAATTC         0      10        1\n",
      "{0: 722500, 1: 108375, 2: 16256, 3: 2438, 4: 366, 5: 55, 6: 8, 7: 1, 8: 0, 9: 0, 10: 0, 11: 0, 12: 0, 13: 0, 14: 0, 15: 0, 16: 0}\n",
      "      seq    start      end      m1      m2  internal  length  reverse  counts\n",
      "0  AATTCT  3535543  3535547    TTAA  GAATTC         0      10        1  722500\n",
      "1  AATTCT  2561058  2561062    TTAA  GAATTC         0      10        1  722500\n",
      "2  AATTCT  2407284  2407290  GAATTC    TTAA         0      10        0  722500\n",
      "3  AATTCT   919313   919319  GAATTC    TTAA         0      10        0  722500\n",
      "4  AATTCT  3863925  3863929    TTAA  GAATTC         0      10        1  722500\n",
      "0.12425708770751953\n"
     ]
    }
   ],
   "source": [
    "def main(digest_file, maxi, cut_prob, n):\n",
    "\n",
    "    df = pd.read_csv(digest_file)\n",
    "    internal_max = df['internal'].max()\n",
    "    print(df.head())\n",
    "    \n",
    "    count_dt = count_dict(internal_max, cut_prob, n)\n",
    "    print(count_dt)\n",
    "    \n",
    "    # get set of all unique restriction site positions\n",
    "    df = apply_approach(df, count_dt)\n",
    "    print(df.head())\n",
    "\n",
    "#     dup_file = os.path.join(proj, 'copies_' + os.path.basename(args.genome) + '.csv')\n",
    "#     df.drop(df[df['copies'] == 0].index, inplace = True)\n",
    "#     df = df.reset_index(drop=True)\n",
    "#     df.to_csv(dup_file, index=None)\n",
    "\n",
    "#     return dup_file\n",
    "\n",
    "\n",
    "def apply_approach(df, count_dt):\n",
    "    df['counts'] = df.apply(\n",
    "        lambda row: get_counts(count_dt, internal=row['internal']), axis=1)\n",
    "    \n",
    "    return df\n",
    "\n",
    "    \n",
    "def get_counts(count_dt, internal):\n",
    "    return count_dt[internal]\n",
    "\n",
    "\n",
    "def count_dict(internal_max, cut_prob, n):\n",
    "    count_dt = {}\n",
    "\n",
    "    for i in range(internal_max+1):\n",
    "        frequency = (cut_prob**2) * ((1-cut_prob)**i)\n",
    "        count_dt[i] = round(frequency * n)\n",
    "\n",
    "    return count_dt\n",
    "\n",
    "\n",
    "start = time.time()\n",
    "maxi = 358 + 600\n",
    "cut_prob = 0.85\n",
    "n = 1000000\n",
    "digest_file = '/Users/ryankuster/github/readsynth/tests/test_project3/output/raw_digest_GCF_000005845.2_ASM584v2_genomic.fna.csv'\n",
    "main(digest_file, maxi, cut_prob, n)\n",
    "print(time.time() - start)"
   ]
  }
 ],
 "metadata": {
  "kernelspec": {
   "display_name": "Python 3",
   "language": "python",
   "name": "python3"
  },
  "language_info": {
   "codemirror_mode": {
    "name": "ipython",
    "version": 3
   },
   "file_extension": ".py",
   "mimetype": "text/x-python",
   "name": "python",
   "nbconvert_exporter": "python",
   "pygments_lexer": "ipython3",
   "version": "3.8.6"
  }
 },
 "nbformat": 4,
 "nbformat_minor": 4
}
