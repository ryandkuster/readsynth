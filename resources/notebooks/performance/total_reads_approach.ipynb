{
 "cells": [
  {
   "cell_type": "markdown",
   "metadata": {},
   "source": [
    "Assuming we have a finite number of reads, how will the organisms at different abundances be represented?  \n",
    "For example, assume 2 organisms at the following abundances based on cell copy number:\n",
    "\n",
    "||abundance (haploid genomes)|\n",
    "|:-|:-:|\n",
    "|*B. subtilis*|250|\n",
    "|*E. coli*|500|\n",
    "\n",
    "Where *B. subtilis* contributes 250 haploid cells and *E. coli* contributes 500 haploid cells."
   ]
  },
  {
   "cell_type": "markdown",
   "metadata": {},
   "source": [
    "**Working from the beginning community digest to flow-cell binding, how can a discrete number of reads be split between these two organisms?**"
   ]
  },
  {
   "cell_type": "markdown",
   "metadata": {},
   "source": [
    "### Digestion\n",
    "\n",
    "Assuming infinite fragments and no size preference, the probability of a given fragment being produced in a restriction enzyme digest can be estimated by considering the joint probability of the digestion occuring on both terminal ends and not occuring in any internal cut sites, if present.\n",
    "\n",
    "$P(fragment) = P(cut)^2 * (1-P(cut)^{internals})$\n",
    "\n",
    "This assumes independence of cut events and assigns a probability to each fragment within the anticipated range of fragment lengths. The summed probabilities of all fragments of this set approximate the number of reads produced from one haploid genome, again within the anticipated range of fragment lengths (typically between 1bp and (mean + 6sd)bp)."
   ]
  },
  {
   "cell_type": "markdown",
   "metadata": {},
   "source": [
    "### Merging organisms\n",
    "\n",
    "Previously, the independence of site digestion within an individual organism's genome has been assumed. As each genome is digested separately *in-silico*, it is also assumed the total fragments produced by one genome will be independent from another and dependent on genome size and motif frequency.\n",
    "\n",
    "In order to combine the separate organisms together, we must consider the partial contribution of each organism towards the total input abundance. To do this, we first multiply the existing per-fragment probabilities by the percent composition. Then, we create a summary dictionary for each fragment length across all organisms in our community that uses cumulative probability as a weight. This summary object encompasses the fragment length distribution we would expect if all samples were prepared together as a mixture.\n",
    "\n",
    "Following a size-selection rule, such as the intersection of a defined distribution of fragments, we then calculate the frequency of each fragment length as a per-length probability density. These density values are applied to the original digested fragment probabilities for each individual organism."
   ]
  },
  {
   "cell_type": "code",
   "execution_count": 2,
   "metadata": {},
   "outputs": [],
   "source": [
    "import pandas as pd\n",
    "import numpy as np\n",
    "import matplotlib.pyplot as plt\n",
    "import seaborn as sns"
   ]
  },
  {
   "cell_type": "code",
   "execution_count": 1,
   "metadata": {},
   "outputs": [],
   "source": [
    "df_b = pd.read_csv('../tests/test_project6/B_output/copies_Bacillus_subtilis_complete_genome.fasta.csv')\n",
    "df_e = pd.read_csv('../tests/test_project6/E_output/copies_Escherichia_coli_complete_genome.fasta.csv')"
   ]
  },
  {
   "cell_type": "code",
   "execution_count": 2,
   "metadata": {
    "scrolled": false
   },
   "outputs": [
    {
     "data": {
      "image/png": "[encoded data removed]",
      "text/plain": [
       "<Figure size 432x288 with 1 Axes>"
      ]
     },
     "metadata": {
      "needs_background": "light"
     },
     "output_type": "display_data"
    }
   ],
   "source": [
    "fragments_freq_b = {}\n",
    "\n",
    "for i in range(0, max(df_b['length'])+1):\n",
    "    fragments_freq_b[i] = df_b[df_b['length'] == i]['probability'].sum()\n",
    "\n",
    "fragments_freq_e = {}\n",
    "\n",
    "for i in range(0, max(df_e['length'])+1):\n",
    "    fragments_freq_e[i] = df_e[df_e['length'] == i]['probability'].sum()\n",
    "\n",
    "fragments_freq = {i:fragments_freq_b[i]+fragments_freq_e[i] for i in range(0, 701)}\n",
    "\n",
    "plt.hist(fragments_freq.keys(), weights=fragments_freq.values(), density=False, histtype='bar', color='purple', bins=100, label='comb')\n",
    "plt.hist(fragments_freq_b.keys(), weights=fragments_freq_b.values(), density=False, histtype='bar', bins=100, label='b_sub')\n",
    "plt.hist(fragments_freq_e.keys(), weights=fragments_freq_e.values(), density=False, histtype='bar', color='red', bins=100, label='e_col')\n",
    "plt.legend()\n",
    "plt.show()"
   ]
  },
  {
   "cell_type": "code",
   "execution_count": 13,
   "metadata": {
    "scrolled": true
   },
   "outputs": [
    {
     "data": {
      "text/plain": [
       "<AxesSubplot:xlabel='0', ylabel='Count'>"
      ]
     },
     "execution_count": 13,
     "metadata": {},
     "output_type": "execute_result"
    },
    {
     "data": {
      "image/png": "[encoded data removed]",
      "text/plain": [
       "<Figure size 432x288 with 1 Axes>"
      ]
     },
     "metadata": {
      "needs_background": "light"
     },
     "output_type": "display_data"
    }
   ],
   "source": [
    "test_df1 = pd.DataFrame(fragments_freq_b.items())\n",
    "test_df1['names'] = 'B'\n",
    "test_df2 = pd.DataFrame(fragments_freq_e.items())\n",
    "test_df2['names'] = 'E'\n",
    "test_df = pd.concat([test_df1, test_df2], axis=0)\n",
    "\n",
    "sns.histplot(data=test_df, x=test_df[0], hue=test_df['names'], weights=test_df[1], palette=\"viridis\", multiple=\"stack\", bins=50, element=\"step\")\n",
    "# sns.histplot(data=test_df, x=test_df[0], hue=test_df['names'], weights=test_df[1], palette=\"viridis\", multiple=\"stack\", bins=100, element=\"step\")"
   ]
  },
  {
   "cell_type": "code",
   "execution_count": 3,
   "metadata": {},
   "outputs": [
    {
     "data": {
      "text/plain": [
       "array([0.33333333, 0.66666667])"
      ]
     },
     "execution_count": 3,
     "metadata": {},
     "output_type": "execute_result"
    }
   ],
   "source": [
    "abundances = np.array([250, 500])\n",
    "abundances = abundances / abundances.sum()\n",
    "abundances"
   ]
  },
  {
   "cell_type": "code",
   "execution_count": 4,
   "metadata": {
    "scrolled": false
   },
   "outputs": [
    {
     "data": {
      "image/png": "[encoded data removed]",
      "text/plain": [
       "<Figure size 432x288 with 1 Axes>"
      ]
     },
     "metadata": {
      "needs_background": "light"
     },
     "output_type": "display_data"
    }
   ],
   "source": [
    "df_b['probability'] = df_b['probability'] * abundances[0]\n",
    "df_e['probability'] = df_e['probability'] * abundances[1]\n",
    "\n",
    "\n",
    "fragments_freq_b = {}\n",
    "\n",
    "for i in range(0, max(df_b['length'])+1):\n",
    "    fragments_freq_b[i] = df_b[df_b['length'] == i]['probability'].sum()\n",
    "\n",
    "fragments_freq_e = {}\n",
    "\n",
    "for i in range(0, max(df_e['length'])+1):\n",
    "    fragments_freq_e[i] = df_e[df_e['length'] == i]['probability'].sum()\n",
    "\n",
    "fragments_freq = {i:fragments_freq_b[i]+fragments_freq_e[i] for i in range(0, 701)}\n",
    "\n",
    "plt.hist(fragments_freq.keys(), weights=fragments_freq.values(), density=False, histtype='bar', color='purple', bins=100, label='comb')\n",
    "plt.hist(fragments_freq_e.keys(), weights=fragments_freq_e.values(), density=False, histtype='bar', color='red', bins=100, label='e_col')\n",
    "plt.hist(fragments_freq_b.keys(), weights=fragments_freq_b.values(), density=False, histtype='bar', bins=100, label='b_sub')\n",
    "plt.legend()\n",
    "plt.show()"
   ]
  },
  {
   "cell_type": "code",
   "execution_count": 12,
   "metadata": {},
   "outputs": [],
   "source": [
    "def gauss_pdf(mean, sd, x):\n",
    "    '''\n",
    "    return the probability density of x from a normal distribution\n",
    "    note: the sum of pdf for all points x = 1\n",
    "    '''\n",
    "    pdf = (1/sd*np.sqrt(2*np.pi))*np.exp((-1/2)*((x-mean)/sd)**2)\n",
    "    return pdf\n",
    "\n",
    "def get_draw_dict(mean, sd, len_dt, scale_by):\n",
    "    '''\n",
    "    create a dictionary of draw numbers\n",
    "    '''\n",
    "    draw_dt = {}\n",
    "\n",
    "    for x in range(0, mean + 6*sd + 1):\n",
    "        draw_counts = gauss_pdf(mean, sd, x)*scale_by\n",
    "        data_counts = len_dt[x]\n",
    "        draw_dt[x] = min(draw_counts, data_counts)*0.65 #TODO average recovery\n",
    "\n",
    "    return draw_dt"
   ]
  },
  {
   "cell_type": "code",
   "execution_count": 11,
   "metadata": {},
   "outputs": [
    {
     "ename": "NameError",
     "evalue": "name 'fragments_freq' is not defined",
     "output_type": "error",
     "traceback": [
      "\u001b[0;31m---------------------------------------------------------------------------\u001b[0m",
      "\u001b[0;31mNameError\u001b[0m                                 Traceback (most recent call last)",
      "\u001b[0;32m<ipython-input-11-5f67042dd42c>\u001b[0m in \u001b[0;36m<module>\u001b[0;34m\u001b[0m\n\u001b[1;32m     20\u001b[0m     \u001b[0;32mreturn\u001b[0m \u001b[0mdraw_dt\u001b[0m\u001b[0;34m\u001b[0m\u001b[0;34m\u001b[0m\u001b[0m\n\u001b[1;32m     21\u001b[0m \u001b[0;34m\u001b[0m\u001b[0m\n\u001b[0;32m---> 22\u001b[0;31m \u001b[0mlen_dt\u001b[0m \u001b[0;34m=\u001b[0m \u001b[0mfragments_freq\u001b[0m\u001b[0;34m\u001b[0m\u001b[0;34m\u001b[0m\u001b[0m\n\u001b[0m\u001b[1;32m     23\u001b[0m \u001b[0ma\u001b[0m \u001b[0;34m=\u001b[0m \u001b[0;34m[\u001b[0m\u001b[0mlen_dt\u001b[0m\u001b[0;34m[\u001b[0m\u001b[0mi\u001b[0m\u001b[0;34m]\u001b[0m \u001b[0;32mfor\u001b[0m \u001b[0mi\u001b[0m \u001b[0;32min\u001b[0m \u001b[0mrange\u001b[0m\u001b[0;34m(\u001b[0m\u001b[0;36m400\u001b[0m\u001b[0;34m,\u001b[0m \u001b[0;34m(\u001b[0m\u001b[0;36m500\u001b[0m\u001b[0;34m+\u001b[0m\u001b[0;34m(\u001b[0m\u001b[0;36m500\u001b[0m\u001b[0;34m-\u001b[0m\u001b[0;36m400\u001b[0m\u001b[0;34m)\u001b[0m\u001b[0;34m)\u001b[0m\u001b[0;34m+\u001b[0m\u001b[0;36m1\u001b[0m\u001b[0;34m)\u001b[0m\u001b[0;34m]\u001b[0m\u001b[0;34m\u001b[0m\u001b[0;34m\u001b[0m\u001b[0m\n\u001b[1;32m     24\u001b[0m \u001b[0mavg_upper\u001b[0m \u001b[0;34m=\u001b[0m \u001b[0msum\u001b[0m\u001b[0;34m(\u001b[0m\u001b[0ma\u001b[0m\u001b[0;34m)\u001b[0m\u001b[0;34m/\u001b[0m\u001b[0mlen\u001b[0m\u001b[0;34m(\u001b[0m\u001b[0ma\u001b[0m\u001b[0;34m)\u001b[0m\u001b[0;34m\u001b[0m\u001b[0;34m\u001b[0m\u001b[0m\n",
      "\u001b[0;31mNameError\u001b[0m: name 'fragments_freq' is not defined"
     ]
    }
   ],
   "source": [
    "len_dt = fragments_freq\n",
    "a = [len_dt[i] for i in range(400, (500+(500-400))+1)]\n",
    "avg_upper = sum(a)/len(a)\n",
    "scale_by = avg_upper/gauss_pdf(400, 50, 500)\n",
    "draw_dt = get_draw_dict(400, 50, len_dt, scale_by)"
   ]
  },
  {
   "cell_type": "code",
   "execution_count": 6,
   "metadata": {},
   "outputs": [
    {
     "data": {
      "image/png": "[encoded data removed]",
      "text/plain": [
       "<Figure size 432x288 with 1 Axes>"
      ]
     },
     "metadata": {
      "needs_background": "light"
     },
     "output_type": "display_data"
    }
   ],
   "source": [
    "plt.hist(fragments_freq.keys(), weights=fragments_freq.values(), density=False, histtype='bar', color='purple', bins=100, stacked=True)\n",
    "plt.hist(draw_dt.keys(), weights=draw_dt.values(), density=False, histtype='bar', color='red', bins=100, stacked=True)\n",
    "plt.show()"
   ]
  },
  {
   "cell_type": "code",
   "execution_count": 7,
   "metadata": {
    "scrolled": false
   },
   "outputs": [
    {
     "name": "stderr",
     "output_type": "stream",
     "text": [
      "<ipython-input-7-680c85dcfedb>:4: RuntimeWarning: invalid value encountered in double_scalars\n",
      "  fragment_comps[i] = draw_dt[i] / fragments_freq[i]\n"
     ]
    },
    {
     "data": {
      "image/png": "[encoded data removed]",
      "text/plain": [
       "<Figure size 432x288 with 1 Axes>"
      ]
     },
     "metadata": {
      "needs_background": "light"
     },
     "output_type": "display_data"
    }
   ],
   "source": [
    "fragment_comps = {}\n",
    "\n",
    "for i in range(0, 701):\n",
    "    fragment_comps[i] = draw_dt[i] / fragments_freq[i]\n",
    "\n",
    "plt.hist(fragment_comps.keys(), weights=fragment_comps.values(), density=False, histtype='bar', color='purple', bins=100, stacked=True)\n",
    "plt.show()"
   ]
  },
  {
   "cell_type": "code",
   "execution_count": 8,
   "metadata": {},
   "outputs": [
    {
     "data": {
      "text/html": [
       "<div>\n",
       "<style scoped>\n",
       "    .dataframe tbody tr th:only-of-type {\n",
       "        vertical-align: middle;\n",
       "    }\n",
       "\n",
       "    .dataframe tbody tr th {\n",
       "        vertical-align: top;\n",
       "    }\n",
       "\n",
       "    .dataframe thead th {\n",
       "        text-align: right;\n",
       "    }\n",
       "</style>\n",
       "<table border=\"1\" class=\"dataframe\">\n",
       "  <thead>\n",
       "    <tr style=\"text-align: right;\">\n",
       "      <th></th>\n",
       "      <th>seq</th>\n",
       "      <th>start</th>\n",
       "      <th>end</th>\n",
       "      <th>m1</th>\n",
       "      <th>m2</th>\n",
       "      <th>internal</th>\n",
       "      <th>length</th>\n",
       "      <th>reverse</th>\n",
       "      <th>probability</th>\n",
       "      <th>test</th>\n",
       "    </tr>\n",
       "  </thead>\n",
       "  <tbody>\n",
       "    <tr>\n",
       "      <th>2378</th>\n",
       "      <td>CATGGATCCAGTATCAGGGATTCAAAACCGAAATCGACAAACACAT...</td>\n",
       "      <td>1128114</td>\n",
       "      <td>1128608</td>\n",
       "      <td>CATG</td>\n",
       "      <td>GAATTC</td>\n",
       "      <td>0</td>\n",
       "      <td>500</td>\n",
       "      <td>0</td>\n",
       "      <td>0.375000</td>\n",
       "      <td>0.243750</td>\n",
       "    </tr>\n",
       "    <tr>\n",
       "      <th>2379</th>\n",
       "      <td>CATGCTCAACGCGGTACTCGCTCTGGTAATTCGCGTTGTAAATAGC...</td>\n",
       "      <td>1798608</td>\n",
       "      <td>1799102</td>\n",
       "      <td>CATG</td>\n",
       "      <td>GAATTC</td>\n",
       "      <td>3</td>\n",
       "      <td>500</td>\n",
       "      <td>0</td>\n",
       "      <td>0.005859</td>\n",
       "      <td>0.003809</td>\n",
       "    </tr>\n",
       "  </tbody>\n",
       "</table>\n",
       "</div>"
      ],
      "text/plain": [
       "                                                    seq    start      end  \\\n",
       "2378  CATGGATCCAGTATCAGGGATTCAAAACCGAAATCGACAAACACAT...  1128114  1128608   \n",
       "2379  CATGCTCAACGCGGTACTCGCTCTGGTAATTCGCGTTGTAAATAGC...  1798608  1799102   \n",
       "\n",
       "        m1      m2  internal  length  reverse  probability      test  \n",
       "2378  CATG  GAATTC         0     500        0     0.375000  0.243750  \n",
       "2379  CATG  GAATTC         3     500        0     0.005859  0.003809  "
      ]
     },
     "execution_count": 8,
     "metadata": {},
     "output_type": "execute_result"
    }
   ],
   "source": [
    "df_e['test'] = df_e['length'].map(fragment_comps)\n",
    "df_e['test'] = df_e['test'] * df_e['probability']\n",
    "\n",
    "df_e[df_e['length']==500]"
   ]
  },
  {
   "cell_type": "code",
   "execution_count": 9,
   "metadata": {},
   "outputs": [
    {
     "data": {
      "image/png": "[encoded data removed]",
      "text/plain": [
       "<Figure size 432x288 with 1 Axes>"
      ]
     },
     "metadata": {
      "needs_background": "light"
     },
     "output_type": "display_data"
    }
   ],
   "source": [
    "plt.hist(df_e['length'], weights=df_e['test'], density=False, histtype='bar', color='red', bins=100, stacked=True)\n",
    "plt.show()"
   ]
  },
  {
   "cell_type": "code",
   "execution_count": 10,
   "metadata": {},
   "outputs": [
    {
     "data": {
      "text/html": [
       "<div>\n",
       "<style scoped>\n",
       "    .dataframe tbody tr th:only-of-type {\n",
       "        vertical-align: middle;\n",
       "    }\n",
       "\n",
       "    .dataframe tbody tr th {\n",
       "        vertical-align: top;\n",
       "    }\n",
       "\n",
       "    .dataframe thead th {\n",
       "        text-align: right;\n",
       "    }\n",
       "</style>\n",
       "<table border=\"1\" class=\"dataframe\">\n",
       "  <thead>\n",
       "    <tr style=\"text-align: right;\">\n",
       "      <th></th>\n",
       "      <th>seq</th>\n",
       "      <th>start</th>\n",
       "      <th>end</th>\n",
       "      <th>m1</th>\n",
       "      <th>m2</th>\n",
       "      <th>internal</th>\n",
       "      <th>length</th>\n",
       "      <th>reverse</th>\n",
       "      <th>probability</th>\n",
       "      <th>test</th>\n",
       "    </tr>\n",
       "  </thead>\n",
       "  <tbody>\n",
       "    <tr>\n",
       "      <th>4660</th>\n",
       "      <td>CATGATGGCTCCCATCAGAAGATGCCAGGCATTCATATGAATGATA...</td>\n",
       "      <td>786444</td>\n",
       "      <td>786940</td>\n",
       "      <td>GAATTC</td>\n",
       "      <td>CATG</td>\n",
       "      <td>2</td>\n",
       "      <td>500</td>\n",
       "      <td>1</td>\n",
       "      <td>0.011719</td>\n",
       "      <td>0.007617</td>\n",
       "    </tr>\n",
       "    <tr>\n",
       "      <th>4661</th>\n",
       "      <td>CATGGCGTTTACCGCGCTTTCCGTTTGTGCGATATGCTTGGCCAGA...</td>\n",
       "      <td>2612276</td>\n",
       "      <td>2612770</td>\n",
       "      <td>CATG</td>\n",
       "      <td>GAATTC</td>\n",
       "      <td>4</td>\n",
       "      <td>500</td>\n",
       "      <td>0</td>\n",
       "      <td>0.000732</td>\n",
       "      <td>0.000476</td>\n",
       "    </tr>\n",
       "    <tr>\n",
       "      <th>4662</th>\n",
       "      <td>CATGTTGCTTACCGAACCATACCGGAGTGTATAGATGCGGCAGTTG...</td>\n",
       "      <td>1393979</td>\n",
       "      <td>1394475</td>\n",
       "      <td>GAATTC</td>\n",
       "      <td>CATG</td>\n",
       "      <td>3</td>\n",
       "      <td>500</td>\n",
       "      <td>1</td>\n",
       "      <td>0.002930</td>\n",
       "      <td>0.001904</td>\n",
       "    </tr>\n",
       "    <tr>\n",
       "      <th>4663</th>\n",
       "      <td>CATGCTGCCGTTACGAGATCAGTGAGAGGAATCAAAGAGACACAAA...</td>\n",
       "      <td>551429</td>\n",
       "      <td>551923</td>\n",
       "      <td>CATG</td>\n",
       "      <td>GAATTC</td>\n",
       "      <td>1</td>\n",
       "      <td>500</td>\n",
       "      <td>0</td>\n",
       "      <td>0.046875</td>\n",
       "      <td>0.030469</td>\n",
       "    </tr>\n",
       "    <tr>\n",
       "      <th>4664</th>\n",
       "      <td>CATGCTCCGGCGCCCTCCTGACATGTTTGTATTCACTTTCTAACTC...</td>\n",
       "      <td>3284688</td>\n",
       "      <td>3285182</td>\n",
       "      <td>CATG</td>\n",
       "      <td>GAATTC</td>\n",
       "      <td>1</td>\n",
       "      <td>500</td>\n",
       "      <td>0</td>\n",
       "      <td>0.046875</td>\n",
       "      <td>0.030469</td>\n",
       "    </tr>\n",
       "    <tr>\n",
       "      <th>4665</th>\n",
       "      <td>CATGATCTTCAAGTAAAACAACTTACTCCAAATATTTGTAAGAACA...</td>\n",
       "      <td>1841508</td>\n",
       "      <td>1842002</td>\n",
       "      <td>CATG</td>\n",
       "      <td>GAATTC</td>\n",
       "      <td>1</td>\n",
       "      <td>500</td>\n",
       "      <td>0</td>\n",
       "      <td>0.046875</td>\n",
       "      <td>0.030469</td>\n",
       "    </tr>\n",
       "    <tr>\n",
       "      <th>4666</th>\n",
       "      <td>CATGACTTTTGGTAGCTTATAAAAAGAACTCCCTTCAACTGCTGCT...</td>\n",
       "      <td>3315262</td>\n",
       "      <td>3315756</td>\n",
       "      <td>CATG</td>\n",
       "      <td>GAATTC</td>\n",
       "      <td>2</td>\n",
       "      <td>500</td>\n",
       "      <td>0</td>\n",
       "      <td>0.011719</td>\n",
       "      <td>0.007617</td>\n",
       "    </tr>\n",
       "    <tr>\n",
       "      <th>4667</th>\n",
       "      <td>CATGCGGGGTGACACCACAAGCCGTGGCTATGAATGTAAAACCTGA...</td>\n",
       "      <td>3236631</td>\n",
       "      <td>3237125</td>\n",
       "      <td>CATG</td>\n",
       "      <td>GAATTC</td>\n",
       "      <td>3</td>\n",
       "      <td>500</td>\n",
       "      <td>0</td>\n",
       "      <td>0.002930</td>\n",
       "      <td>0.001904</td>\n",
       "    </tr>\n",
       "    <tr>\n",
       "      <th>4668</th>\n",
       "      <td>CATGCTCAGCGATATGTTCTGCATATTGTGCAGGCGGTGTATTTTC...</td>\n",
       "      <td>3902680</td>\n",
       "      <td>3903174</td>\n",
       "      <td>CATG</td>\n",
       "      <td>GAATTC</td>\n",
       "      <td>3</td>\n",
       "      <td>500</td>\n",
       "      <td>0</td>\n",
       "      <td>0.002930</td>\n",
       "      <td>0.001904</td>\n",
       "    </tr>\n",
       "    <tr>\n",
       "      <th>4669</th>\n",
       "      <td>CATGGATGCCTGATATGGGAATGGATAAAGCGGCCTCTGCAGGAAA...</td>\n",
       "      <td>3247295</td>\n",
       "      <td>3247789</td>\n",
       "      <td>CATG</td>\n",
       "      <td>GAATTC</td>\n",
       "      <td>0</td>\n",
       "      <td>500</td>\n",
       "      <td>0</td>\n",
       "      <td>0.187500</td>\n",
       "      <td>0.121875</td>\n",
       "    </tr>\n",
       "    <tr>\n",
       "      <th>4670</th>\n",
       "      <td>CATGTGTTTCACCTCCTAAGATACAACCTGTAGCACAGTGTCTTAA...</td>\n",
       "      <td>1242731</td>\n",
       "      <td>1243227</td>\n",
       "      <td>GAATTC</td>\n",
       "      <td>CATG</td>\n",
       "      <td>1</td>\n",
       "      <td>500</td>\n",
       "      <td>1</td>\n",
       "      <td>0.046875</td>\n",
       "      <td>0.030469</td>\n",
       "    </tr>\n",
       "    <tr>\n",
       "      <th>4671</th>\n",
       "      <td>CATGTTTATTTTTCTGTAATTTGTTCCTCCGACGTAATTTCCGCGA...</td>\n",
       "      <td>2804345</td>\n",
       "      <td>2804839</td>\n",
       "      <td>CATG</td>\n",
       "      <td>GAATTC</td>\n",
       "      <td>3</td>\n",
       "      <td>500</td>\n",
       "      <td>0</td>\n",
       "      <td>0.002930</td>\n",
       "      <td>0.001904</td>\n",
       "    </tr>\n",
       "  </tbody>\n",
       "</table>\n",
       "</div>"
      ],
      "text/plain": [
       "                                                    seq    start      end  \\\n",
       "4660  CATGATGGCTCCCATCAGAAGATGCCAGGCATTCATATGAATGATA...   786444   786940   \n",
       "4661  CATGGCGTTTACCGCGCTTTCCGTTTGTGCGATATGCTTGGCCAGA...  2612276  2612770   \n",
       "4662  CATGTTGCTTACCGAACCATACCGGAGTGTATAGATGCGGCAGTTG...  1393979  1394475   \n",
       "4663  CATGCTGCCGTTACGAGATCAGTGAGAGGAATCAAAGAGACACAAA...   551429   551923   \n",
       "4664  CATGCTCCGGCGCCCTCCTGACATGTTTGTATTCACTTTCTAACTC...  3284688  3285182   \n",
       "4665  CATGATCTTCAAGTAAAACAACTTACTCCAAATATTTGTAAGAACA...  1841508  1842002   \n",
       "4666  CATGACTTTTGGTAGCTTATAAAAAGAACTCCCTTCAACTGCTGCT...  3315262  3315756   \n",
       "4667  CATGCGGGGTGACACCACAAGCCGTGGCTATGAATGTAAAACCTGA...  3236631  3237125   \n",
       "4668  CATGCTCAGCGATATGTTCTGCATATTGTGCAGGCGGTGTATTTTC...  3902680  3903174   \n",
       "4669  CATGGATGCCTGATATGGGAATGGATAAAGCGGCCTCTGCAGGAAA...  3247295  3247789   \n",
       "4670  CATGTGTTTCACCTCCTAAGATACAACCTGTAGCACAGTGTCTTAA...  1242731  1243227   \n",
       "4671  CATGTTTATTTTTCTGTAATTTGTTCCTCCGACGTAATTTCCGCGA...  2804345  2804839   \n",
       "\n",
       "          m1      m2  internal  length  reverse  probability      test  \n",
       "4660  GAATTC    CATG         2     500        1     0.011719  0.007617  \n",
       "4661    CATG  GAATTC         4     500        0     0.000732  0.000476  \n",
       "4662  GAATTC    CATG         3     500        1     0.002930  0.001904  \n",
       "4663    CATG  GAATTC         1     500        0     0.046875  0.030469  \n",
       "4664    CATG  GAATTC         1     500        0     0.046875  0.030469  \n",
       "4665    CATG  GAATTC         1     500        0     0.046875  0.030469  \n",
       "4666    CATG  GAATTC         2     500        0     0.011719  0.007617  \n",
       "4667    CATG  GAATTC         3     500        0     0.002930  0.001904  \n",
       "4668    CATG  GAATTC         3     500        0     0.002930  0.001904  \n",
       "4669    CATG  GAATTC         0     500        0     0.187500  0.121875  \n",
       "4670  GAATTC    CATG         1     500        1     0.046875  0.030469  \n",
       "4671    CATG  GAATTC         3     500        0     0.002930  0.001904  "
      ]
     },
     "execution_count": 10,
     "metadata": {},
     "output_type": "execute_result"
    }
   ],
   "source": [
    "df_b['test'] = df_b['length'].map(fragment_comps)\n",
    "df_b['test'] = df_b['test'] * df_b['probability']\n",
    "\n",
    "df_b[df_b['length']==500]"
   ]
  },
  {
   "cell_type": "code",
   "execution_count": 11,
   "metadata": {},
   "outputs": [
    {
     "data": {
      "image/png": "[encoded data removed]",
      "text/plain": [
       "<Figure size 432x288 with 1 Axes>"
      ]
     },
     "metadata": {
      "needs_background": "light"
     },
     "output_type": "display_data"
    }
   ],
   "source": [
    "plt.hist(df_b['length'], weights=df_b['test'], density=False, histtype='bar', color='blue', bins=100, stacked=True)\n",
    "plt.show()"
   ]
  },
  {
   "cell_type": "code",
   "execution_count": 12,
   "metadata": {},
   "outputs": [],
   "source": [
    "new_fragments_freq_b = {}\n",
    "\n",
    "for i in range(0, max(df_b['length'])+1):\n",
    "    new_fragments_freq_b[i] = df_b[df_b['length'] == i]['test'].sum()\n",
    "\n",
    "new_fragments_freq_e = {}\n",
    "\n",
    "for i in range(0, max(df_e['length'])+1):\n",
    "    new_fragments_freq_e[i] = df_e[df_e['length'] == i]['test'].sum()\n",
    "\n",
    "new_fragments_freq = {i:new_fragments_freq_b[i]+new_fragments_freq_e[i] for i in range(0, 701)}"
   ]
  },
  {
   "cell_type": "code",
   "execution_count": 13,
   "metadata": {
    "scrolled": true
   },
   "outputs": [
    {
     "data": {
      "image/png": "[encoded data removed]",
      "text/plain": [
       "<Figure size 432x288 with 1 Axes>"
      ]
     },
     "metadata": {
      "needs_background": "light"
     },
     "output_type": "display_data"
    }
   ],
   "source": [
    "plt.hist(fragments_freq.keys(), weights=fragments_freq.values(), density=False, histtype='bar', color='purple', bins=100, stacked=True)\n",
    "plt.hist(new_fragments_freq.keys(), weights=new_fragments_freq.values(), density=False, histtype='bar', color='red', bins=100, stacked=True)\n",
    "plt.hist(draw_dt.keys(), weights=draw_dt.values(), density=False, histtype='bar', color='white', bins=100, stacked=True, alpha=0.75)\n",
    "plt.show()"
   ]
  },
  {
   "cell_type": "markdown",
   "metadata": {},
   "source": [
    "Now, to distribute n total reads across the two organisms:"
   ]
  },
  {
   "cell_type": "code",
   "execution_count": 14,
   "metadata": {},
   "outputs": [
    {
     "data": {
      "text/plain": [
       "154.27333951952448"
      ]
     },
     "execution_count": 14,
     "metadata": {},
     "output_type": "execute_result"
    }
   ],
   "source": [
    "sum(draw_dt.values())"
   ]
  },
  {
   "cell_type": "code",
   "execution_count": 15,
   "metadata": {},
   "outputs": [
    {
     "data": {
      "text/plain": [
       "2592800.55287438"
      ]
     },
     "execution_count": 15,
     "metadata": {},
     "output_type": "execute_result"
    }
   ],
   "source": [
    "n = 400000000\n",
    "adjustment = n / sum(draw_dt.values())\n",
    "adjustment"
   ]
  },
  {
   "cell_type": "code",
   "execution_count": 16,
   "metadata": {},
   "outputs": [
    {
     "data": {
      "text/html": [
       "<div>\n",
       "<style scoped>\n",
       "    .dataframe tbody tr th:only-of-type {\n",
       "        vertical-align: middle;\n",
       "    }\n",
       "\n",
       "    .dataframe tbody tr th {\n",
       "        vertical-align: top;\n",
       "    }\n",
       "\n",
       "    .dataframe thead th {\n",
       "        text-align: right;\n",
       "    }\n",
       "</style>\n",
       "<table border=\"1\" class=\"dataframe\">\n",
       "  <thead>\n",
       "    <tr style=\"text-align: right;\">\n",
       "      <th></th>\n",
       "      <th>seq</th>\n",
       "      <th>start</th>\n",
       "      <th>end</th>\n",
       "      <th>m1</th>\n",
       "      <th>m2</th>\n",
       "      <th>internal</th>\n",
       "      <th>length</th>\n",
       "      <th>reverse</th>\n",
       "      <th>probability</th>\n",
       "      <th>test</th>\n",
       "    </tr>\n",
       "  </thead>\n",
       "  <tbody>\n",
       "    <tr>\n",
       "      <th>2378</th>\n",
       "      <td>CATGGATCCAGTATCAGGGATTCAAAACCGAAATCGACAAACACAT...</td>\n",
       "      <td>1128114</td>\n",
       "      <td>1128608</td>\n",
       "      <td>CATG</td>\n",
       "      <td>GAATTC</td>\n",
       "      <td>0</td>\n",
       "      <td>500</td>\n",
       "      <td>0</td>\n",
       "      <td>0.375000</td>\n",
       "      <td>631995.0</td>\n",
       "    </tr>\n",
       "    <tr>\n",
       "      <th>2379</th>\n",
       "      <td>CATGCTCAACGCGGTACTCGCTCTGGTAATTCGCGTTGTAAATAGC...</td>\n",
       "      <td>1798608</td>\n",
       "      <td>1799102</td>\n",
       "      <td>CATG</td>\n",
       "      <td>GAATTC</td>\n",
       "      <td>3</td>\n",
       "      <td>500</td>\n",
       "      <td>0</td>\n",
       "      <td>0.005859</td>\n",
       "      <td>9875.0</td>\n",
       "    </tr>\n",
       "  </tbody>\n",
       "</table>\n",
       "</div>"
      ],
      "text/plain": [
       "                                                    seq    start      end  \\\n",
       "2378  CATGGATCCAGTATCAGGGATTCAAAACCGAAATCGACAAACACAT...  1128114  1128608   \n",
       "2379  CATGCTCAACGCGGTACTCGCTCTGGTAATTCGCGTTGTAAATAGC...  1798608  1799102   \n",
       "\n",
       "        m1      m2  internal  length  reverse  probability      test  \n",
       "2378  CATG  GAATTC         0     500        0     0.375000  631995.0  \n",
       "2379  CATG  GAATTC         3     500        0     0.005859    9875.0  "
      ]
     },
     "execution_count": 16,
     "metadata": {},
     "output_type": "execute_result"
    }
   ],
   "source": [
    "df_e['test'] = df_e['length'].map(fragment_comps)\n",
    "df_e['test'] = round(df_e['test'] * df_e['probability'] * adjustment)\n",
    "\n",
    "df_e[df_e['length']==500]"
   ]
  },
  {
   "cell_type": "code",
   "execution_count": 17,
   "metadata": {
    "scrolled": false
   },
   "outputs": [
    {
     "data": {
      "text/html": [
       "<div>\n",
       "<style scoped>\n",
       "    .dataframe tbody tr th:only-of-type {\n",
       "        vertical-align: middle;\n",
       "    }\n",
       "\n",
       "    .dataframe tbody tr th {\n",
       "        vertical-align: top;\n",
       "    }\n",
       "\n",
       "    .dataframe thead th {\n",
       "        text-align: right;\n",
       "    }\n",
       "</style>\n",
       "<table border=\"1\" class=\"dataframe\">\n",
       "  <thead>\n",
       "    <tr style=\"text-align: right;\">\n",
       "      <th></th>\n",
       "      <th>seq</th>\n",
       "      <th>start</th>\n",
       "      <th>end</th>\n",
       "      <th>m1</th>\n",
       "      <th>m2</th>\n",
       "      <th>internal</th>\n",
       "      <th>length</th>\n",
       "      <th>reverse</th>\n",
       "      <th>probability</th>\n",
       "      <th>test</th>\n",
       "    </tr>\n",
       "  </thead>\n",
       "  <tbody>\n",
       "    <tr>\n",
       "      <th>4660</th>\n",
       "      <td>CATGATGGCTCCCATCAGAAGATGCCAGGCATTCATATGAATGATA...</td>\n",
       "      <td>786444</td>\n",
       "      <td>786940</td>\n",
       "      <td>GAATTC</td>\n",
       "      <td>CATG</td>\n",
       "      <td>2</td>\n",
       "      <td>500</td>\n",
       "      <td>1</td>\n",
       "      <td>0.011719</td>\n",
       "      <td>19750.0</td>\n",
       "    </tr>\n",
       "    <tr>\n",
       "      <th>4661</th>\n",
       "      <td>CATGGCGTTTACCGCGCTTTCCGTTTGTGCGATATGCTTGGCCAGA...</td>\n",
       "      <td>2612276</td>\n",
       "      <td>2612770</td>\n",
       "      <td>CATG</td>\n",
       "      <td>GAATTC</td>\n",
       "      <td>4</td>\n",
       "      <td>500</td>\n",
       "      <td>0</td>\n",
       "      <td>0.000732</td>\n",
       "      <td>1234.0</td>\n",
       "    </tr>\n",
       "    <tr>\n",
       "      <th>4662</th>\n",
       "      <td>CATGTTGCTTACCGAACCATACCGGAGTGTATAGATGCGGCAGTTG...</td>\n",
       "      <td>1393979</td>\n",
       "      <td>1394475</td>\n",
       "      <td>GAATTC</td>\n",
       "      <td>CATG</td>\n",
       "      <td>3</td>\n",
       "      <td>500</td>\n",
       "      <td>1</td>\n",
       "      <td>0.002930</td>\n",
       "      <td>4937.0</td>\n",
       "    </tr>\n",
       "    <tr>\n",
       "      <th>4663</th>\n",
       "      <td>CATGCTGCCGTTACGAGATCAGTGAGAGGAATCAAAGAGACACAAA...</td>\n",
       "      <td>551429</td>\n",
       "      <td>551923</td>\n",
       "      <td>CATG</td>\n",
       "      <td>GAATTC</td>\n",
       "      <td>1</td>\n",
       "      <td>500</td>\n",
       "      <td>0</td>\n",
       "      <td>0.046875</td>\n",
       "      <td>78999.0</td>\n",
       "    </tr>\n",
       "    <tr>\n",
       "      <th>4664</th>\n",
       "      <td>CATGCTCCGGCGCCCTCCTGACATGTTTGTATTCACTTTCTAACTC...</td>\n",
       "      <td>3284688</td>\n",
       "      <td>3285182</td>\n",
       "      <td>CATG</td>\n",
       "      <td>GAATTC</td>\n",
       "      <td>1</td>\n",
       "      <td>500</td>\n",
       "      <td>0</td>\n",
       "      <td>0.046875</td>\n",
       "      <td>78999.0</td>\n",
       "    </tr>\n",
       "    <tr>\n",
       "      <th>4665</th>\n",
       "      <td>CATGATCTTCAAGTAAAACAACTTACTCCAAATATTTGTAAGAACA...</td>\n",
       "      <td>1841508</td>\n",
       "      <td>1842002</td>\n",
       "      <td>CATG</td>\n",
       "      <td>GAATTC</td>\n",
       "      <td>1</td>\n",
       "      <td>500</td>\n",
       "      <td>0</td>\n",
       "      <td>0.046875</td>\n",
       "      <td>78999.0</td>\n",
       "    </tr>\n",
       "    <tr>\n",
       "      <th>4666</th>\n",
       "      <td>CATGACTTTTGGTAGCTTATAAAAAGAACTCCCTTCAACTGCTGCT...</td>\n",
       "      <td>3315262</td>\n",
       "      <td>3315756</td>\n",
       "      <td>CATG</td>\n",
       "      <td>GAATTC</td>\n",
       "      <td>2</td>\n",
       "      <td>500</td>\n",
       "      <td>0</td>\n",
       "      <td>0.011719</td>\n",
       "      <td>19750.0</td>\n",
       "    </tr>\n",
       "    <tr>\n",
       "      <th>4667</th>\n",
       "      <td>CATGCGGGGTGACACCACAAGCCGTGGCTATGAATGTAAAACCTGA...</td>\n",
       "      <td>3236631</td>\n",
       "      <td>3237125</td>\n",
       "      <td>CATG</td>\n",
       "      <td>GAATTC</td>\n",
       "      <td>3</td>\n",
       "      <td>500</td>\n",
       "      <td>0</td>\n",
       "      <td>0.002930</td>\n",
       "      <td>4937.0</td>\n",
       "    </tr>\n",
       "    <tr>\n",
       "      <th>4668</th>\n",
       "      <td>CATGCTCAGCGATATGTTCTGCATATTGTGCAGGCGGTGTATTTTC...</td>\n",
       "      <td>3902680</td>\n",
       "      <td>3903174</td>\n",
       "      <td>CATG</td>\n",
       "      <td>GAATTC</td>\n",
       "      <td>3</td>\n",
       "      <td>500</td>\n",
       "      <td>0</td>\n",
       "      <td>0.002930</td>\n",
       "      <td>4937.0</td>\n",
       "    </tr>\n",
       "    <tr>\n",
       "      <th>4669</th>\n",
       "      <td>CATGGATGCCTGATATGGGAATGGATAAAGCGGCCTCTGCAGGAAA...</td>\n",
       "      <td>3247295</td>\n",
       "      <td>3247789</td>\n",
       "      <td>CATG</td>\n",
       "      <td>GAATTC</td>\n",
       "      <td>0</td>\n",
       "      <td>500</td>\n",
       "      <td>0</td>\n",
       "      <td>0.187500</td>\n",
       "      <td>315998.0</td>\n",
       "    </tr>\n",
       "    <tr>\n",
       "      <th>4670</th>\n",
       "      <td>CATGTGTTTCACCTCCTAAGATACAACCTGTAGCACAGTGTCTTAA...</td>\n",
       "      <td>1242731</td>\n",
       "      <td>1243227</td>\n",
       "      <td>GAATTC</td>\n",
       "      <td>CATG</td>\n",
       "      <td>1</td>\n",
       "      <td>500</td>\n",
       "      <td>1</td>\n",
       "      <td>0.046875</td>\n",
       "      <td>78999.0</td>\n",
       "    </tr>\n",
       "    <tr>\n",
       "      <th>4671</th>\n",
       "      <td>CATGTTTATTTTTCTGTAATTTGTTCCTCCGACGTAATTTCCGCGA...</td>\n",
       "      <td>2804345</td>\n",
       "      <td>2804839</td>\n",
       "      <td>CATG</td>\n",
       "      <td>GAATTC</td>\n",
       "      <td>3</td>\n",
       "      <td>500</td>\n",
       "      <td>0</td>\n",
       "      <td>0.002930</td>\n",
       "      <td>4937.0</td>\n",
       "    </tr>\n",
       "  </tbody>\n",
       "</table>\n",
       "</div>"
      ],
      "text/plain": [
       "                                                    seq    start      end  \\\n",
       "4660  CATGATGGCTCCCATCAGAAGATGCCAGGCATTCATATGAATGATA...   786444   786940   \n",
       "4661  CATGGCGTTTACCGCGCTTTCCGTTTGTGCGATATGCTTGGCCAGA...  2612276  2612770   \n",
       "4662  CATGTTGCTTACCGAACCATACCGGAGTGTATAGATGCGGCAGTTG...  1393979  1394475   \n",
       "4663  CATGCTGCCGTTACGAGATCAGTGAGAGGAATCAAAGAGACACAAA...   551429   551923   \n",
       "4664  CATGCTCCGGCGCCCTCCTGACATGTTTGTATTCACTTTCTAACTC...  3284688  3285182   \n",
       "4665  CATGATCTTCAAGTAAAACAACTTACTCCAAATATTTGTAAGAACA...  1841508  1842002   \n",
       "4666  CATGACTTTTGGTAGCTTATAAAAAGAACTCCCTTCAACTGCTGCT...  3315262  3315756   \n",
       "4667  CATGCGGGGTGACACCACAAGCCGTGGCTATGAATGTAAAACCTGA...  3236631  3237125   \n",
       "4668  CATGCTCAGCGATATGTTCTGCATATTGTGCAGGCGGTGTATTTTC...  3902680  3903174   \n",
       "4669  CATGGATGCCTGATATGGGAATGGATAAAGCGGCCTCTGCAGGAAA...  3247295  3247789   \n",
       "4670  CATGTGTTTCACCTCCTAAGATACAACCTGTAGCACAGTGTCTTAA...  1242731  1243227   \n",
       "4671  CATGTTTATTTTTCTGTAATTTGTTCCTCCGACGTAATTTCCGCGA...  2804345  2804839   \n",
       "\n",
       "          m1      m2  internal  length  reverse  probability      test  \n",
       "4660  GAATTC    CATG         2     500        1     0.011719   19750.0  \n",
       "4661    CATG  GAATTC         4     500        0     0.000732    1234.0  \n",
       "4662  GAATTC    CATG         3     500        1     0.002930    4937.0  \n",
       "4663    CATG  GAATTC         1     500        0     0.046875   78999.0  \n",
       "4664    CATG  GAATTC         1     500        0     0.046875   78999.0  \n",
       "4665    CATG  GAATTC         1     500        0     0.046875   78999.0  \n",
       "4666    CATG  GAATTC         2     500        0     0.011719   19750.0  \n",
       "4667    CATG  GAATTC         3     500        0     0.002930    4937.0  \n",
       "4668    CATG  GAATTC         3     500        0     0.002930    4937.0  \n",
       "4669    CATG  GAATTC         0     500        0     0.187500  315998.0  \n",
       "4670  GAATTC    CATG         1     500        1     0.046875   78999.0  \n",
       "4671    CATG  GAATTC         3     500        0     0.002930    4937.0  "
      ]
     },
     "execution_count": 17,
     "metadata": {},
     "output_type": "execute_result"
    }
   ],
   "source": [
    "df_b['test'] = df_b['length'].map(fragment_comps)\n",
    "df_b['test'] = round(df_b['test'] * df_b['probability'] * adjustment)\n",
    "\n",
    "df_b[df_b['length']==500]"
   ]
  },
  {
   "cell_type": "code",
   "execution_count": 18,
   "metadata": {},
   "outputs": [],
   "source": [
    "new_fragments_freq_b = {}\n",
    "\n",
    "for i in range(0, max(df_b['length'])+1):\n",
    "    new_fragments_freq_b[i] = df_b[df_b['length'] == i]['test'].sum()\n",
    "\n",
    "new_fragments_freq_e = {}\n",
    "\n",
    "for i in range(0, max(df_e['length'])+1):\n",
    "    new_fragments_freq_e[i] = df_e[df_e['length'] == i]['test'].sum()\n",
    "\n",
    "new_fragments_freq = {i:new_fragments_freq_b[i]+new_fragments_freq_e[i] for i in range(0, 701)}"
   ]
  },
  {
   "cell_type": "code",
   "execution_count": 19,
   "metadata": {
    "scrolled": true
   },
   "outputs": [
    {
     "data": {
      "image/png": "[encoded data removed]",
      "text/plain": [
       "<Figure size 432x288 with 1 Axes>"
      ]
     },
     "metadata": {
      "needs_background": "light"
     },
     "output_type": "display_data"
    }
   ],
   "source": [
    "plt.hist(new_fragments_freq.keys(), weights=new_fragments_freq.values(), density=False, histtype='bar', color='red', bins=100, stacked=True)\n",
    "plt.show()"
   ]
  },
  {
   "cell_type": "markdown",
   "metadata": {},
   "source": [
    "After rounding, how far are the total reads from the target?"
   ]
  },
  {
   "cell_type": "code",
   "execution_count": 24,
   "metadata": {},
   "outputs": [
    {
     "name": "stdout",
     "output_type": "stream",
     "text": [
      "43 reads away from target of 400,000,000\n"
     ]
    }
   ],
   "source": [
    "print(f'{round(n - sum(new_fragments_freq.values())):,} reads away from target of {n:,}')"
   ]
  },
  {
   "cell_type": "markdown",
   "metadata": {},
   "source": [
    "In percent:"
   ]
  },
  {
   "cell_type": "code",
   "execution_count": 22,
   "metadata": {},
   "outputs": [
    {
     "name": "stdout",
     "output_type": "stream",
     "text": [
      "1.075e-05 % off target\n"
     ]
    }
   ],
   "source": [
    "print(f'{((n - sum(new_fragments_freq.values()))/n)*100} % off target')"
   ]
  },
  {
   "cell_type": "markdown",
   "metadata": {},
   "source": [
    "After implementing the approach outlined above, the 18 ATCC and Zymo organisms were simulated under the following conditions:\n",
    "- -m1 hhai\n",
    "- -m2 msei\n",
    "- -l 150\n",
    "- -n 12000000\n",
    "- -mean 400\n",
    "- -up_bound 500\n",
    "- -cut_prob 0.75\n",
    "- -o output\n",
    "- -genome rel_path_metagenome.csv\n",
    "- -a1 ~/github/read_simulation/raw_data/adapters/kuster_ddRADseq/for_hhai.txt\n",
    "- -a2 ~/github/read_simulation/raw_data/adapters/kuster_ddRADseq/rev_msei.txt\n",
    "\n",
    "The *rel_path_metagenome.csv* file has each organism comprising 1/18 of the total solution."
   ]
  },
  {
   "cell_type": "code",
   "execution_count": 64,
   "metadata": {
    "scrolled": false
   },
   "outputs": [
    {
     "name": "stdout",
     "output_type": "stream",
     "text": [
      "10\n"
     ]
    },
    {
     "name": "stderr",
     "output_type": "stream",
     "text": [
      "No handles with labels found to put in legend.\n"
     ]
    },
    {
     "data": {
      "image/png": "[encoded data removed]",
      "text/plain": [
       "<Figure size 432x288 with 1 Axes>"
      ]
     },
     "metadata": {
      "needs_background": "light"
     },
     "output_type": "display_data"
    },
    {
     "name": "stdout",
     "output_type": "stream",
     "text": [
      "20\n"
     ]
    },
    {
     "name": "stderr",
     "output_type": "stream",
     "text": [
      "No handles with labels found to put in legend.\n"
     ]
    },
    {
     "data": {
      "image/png": "[encoded data removed]",
      "text/plain": [
       "<Figure size 432x288 with 1 Axes>"
      ]
     },
     "metadata": {
      "needs_background": "light"
     },
     "output_type": "display_data"
    },
    {
     "name": "stdout",
     "output_type": "stream",
     "text": [
      "30\n"
     ]
    },
    {
     "name": "stderr",
     "output_type": "stream",
     "text": [
      "No handles with labels found to put in legend.\n"
     ]
    },
    {
     "data": {
      "image/png": "[encoded data removed]",
      "text/plain": [
       "<Figure size 432x288 with 1 Axes>"
      ]
     },
     "metadata": {
      "needs_background": "light"
     },
     "output_type": "display_data"
    },
    {
     "name": "stdout",
     "output_type": "stream",
     "text": [
      "40\n"
     ]
    },
    {
     "name": "stderr",
     "output_type": "stream",
     "text": [
      "No handles with labels found to put in legend.\n"
     ]
    },
    {
     "data": {
      "image/png": "[encoded data removed]",
      "text/plain": [
       "<Figure size 432x288 with 1 Axes>"
      ]
     },
     "metadata": {
      "needs_background": "light"
     },
     "output_type": "display_data"
    },
    {
     "name": "stdout",
     "output_type": "stream",
     "text": [
      "50\n"
     ]
    },
    {
     "name": "stderr",
     "output_type": "stream",
     "text": [
      "No handles with labels found to put in legend.\n"
     ]
    },
    {
     "data": {
      "image/png": "[encoded data removed]",
      "text/plain": [
       "<Figure size 432x288 with 1 Axes>"
      ]
     },
     "metadata": {
      "needs_background": "light"
     },
     "output_type": "display_data"
    },
    {
     "name": "stdout",
     "output_type": "stream",
     "text": [
      "60\n"
     ]
    },
    {
     "name": "stderr",
     "output_type": "stream",
     "text": [
      "No handles with labels found to put in legend.\n"
     ]
    },
    {
     "data": {
      "image/png": "[encoded data removed]",
      "text/plain": [
       "<Figure size 432x288 with 1 Axes>"
      ]
     },
     "metadata": {
      "needs_background": "light"
     },
     "output_type": "display_data"
    },
    {
     "name": "stdout",
     "output_type": "stream",
     "text": [
      "70\n"
     ]
    },
    {
     "name": "stderr",
     "output_type": "stream",
     "text": [
      "No handles with labels found to put in legend.\n"
     ]
    },
    {
     "data": {
      "image/png": "[encoded data removed]",
      "text/plain": [
       "<Figure size 432x288 with 1 Axes>"
      ]
     },
     "metadata": {
      "needs_background": "light"
     },
     "output_type": "display_data"
    },
    {
     "name": "stdout",
     "output_type": "stream",
     "text": [
      "80\n"
     ]
    },
    {
     "name": "stderr",
     "output_type": "stream",
     "text": [
      "No handles with labels found to put in legend.\n"
     ]
    },
    {
     "data": {
      "image/png": "[encoded data removed]",
      "text/plain": [
       "<Figure size 432x288 with 1 Axes>"
      ]
     },
     "metadata": {
      "needs_background": "light"
     },
     "output_type": "display_data"
    },
    {
     "name": "stdout",
     "output_type": "stream",
     "text": [
      "90\n"
     ]
    },
    {
     "name": "stderr",
     "output_type": "stream",
     "text": [
      "No handles with labels found to put in legend.\n"
     ]
    },
    {
     "data": {
      "image/png": "[encoded data removed]",
      "text/plain": [
       "<Figure size 432x288 with 1 Axes>"
      ]
     },
     "metadata": {
      "needs_background": "light"
     },
     "output_type": "display_data"
    }
   ],
   "source": [
    "total_freqs = pd.read_csv('../tests/test_metagenome0/test.csv')\n",
    "for bin_test in range(10, 100, 10):\n",
    "    print(bin_test)\n",
    "    sns.histplot(data=total_freqs, x=total_freqs['length'], hue=total_freqs['name'], weights=total_freqs['test'], palette=\"viridis\", multiple=\"stack\", bins=bin_test, element=\"step\")\n",
    "    plt.legend(bbox_to_anchor=(1.05, 1), loc=2, borderaxespad=0.)\n",
    "    plt.show()"
   ]
  },
  {
   "cell_type": "code",
   "execution_count": 57,
   "metadata": {},
   "outputs": [
    {
     "data": {
      "text/plain": [
       "435"
      ]
     },
     "execution_count": 57,
     "metadata": {},
     "output_type": "execute_result"
    }
   ],
   "source": [
    "total_freqs = total_freqs.dropna()\n",
    "total_freqs = total_freqs[total_freqs['test'] > 0]\n",
    "total_freqs['length'].max() - total_freqs['length'].min()"
   ]
  },
  {
   "cell_type": "code",
   "execution_count": 13,
   "metadata": {},
   "outputs": [],
   "source": [
    "import cProfile\n",
    "import pstats"
   ]
  },
  {
   "cell_type": "code",
   "execution_count": 26,
   "metadata": {},
   "outputs": [
    {
     "name": "stdout",
     "output_type": "stream",
     "text": [
      "         4 function calls in 0.000 seconds\n",
      "\n",
      "   Random listing order was used\n",
      "\n",
      "   ncalls  tottime  percall  cumtime  percall filename:lineno(function)\n",
      "        1    0.000    0.000    0.000    0.000 {built-in method builtins.exec}\n",
      "        1    0.000    0.000    0.000    0.000 {method 'disable' of '_lsprof.Profiler' objects}\n",
      "        1    0.000    0.000    0.000    0.000 <ipython-input-12-5436b7e68527>:1(gauss_pdf)\n",
      "        1    0.000    0.000    0.000    0.000 <string>:1(<module>)\n",
      "\n",
      "\n"
     ]
    },
    {
     "data": {
      "text/plain": [
       "<pstats.Stats at 0x1311003a0>"
      ]
     },
     "execution_count": 26,
     "metadata": {},
     "output_type": "execute_result"
    }
   ],
   "source": [
    "profile = cProfile.Profile()\n",
    "func_to_test = '''gauss_pdf(500, 50, 525)'''\n",
    "profile.run(func_to_test)\n",
    "ps = pstats.Stats(profile)\n",
    "ps.print_stats()"
   ]
  },
  {
   "cell_type": "markdown",
   "metadata": {},
   "source": [
    "```\n",
    "546     import cProfile, pstats #TODO #TODO\n",
    "547     profiler = cProfile.Profile() #TODO #TODO #TODO\n",
    "548     profiler.enable() #TODO #TODO #TODO\n",
    " \n",
    "\n",
    "CODE\n",
    "\n",
    "\n",
    "553     profiler.disable() #TODO #TODO\n",
    "554     stats = pstats.Stats(profiler).sort_stats('ncalls') #TODO\n",
    "555     stats.print_stats() #TODO\n",
    "556     sys.exit()  #TODO #TODO #TODO #TODO #TODO #TODO\n",
    "\n",
    "\n",
    "```"
   ]
  }
 ],
 "metadata": {
  "kernelspec": {
   "display_name": "Python 3",
   "language": "python",
   "name": "python3"
  },
  "language_info": {
   "codemirror_mode": {
    "name": "ipython",
    "version": 3
   },
   "file_extension": ".py",
   "mimetype": "text/x-python",
   "name": "python",
   "nbconvert_exporter": "python",
   "pygments_lexer": "ipython3",
   "version": "3.8.6"
  }
 },
 "nbformat": 4,
 "nbformat_minor": 4
}
