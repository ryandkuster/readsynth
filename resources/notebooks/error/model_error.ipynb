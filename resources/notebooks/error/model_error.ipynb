{
 "cells": [
  {
   "cell_type": "code",
   "execution_count": 1,
   "metadata": {},
   "outputs": [],
   "source": [
    "import numpy as np\n",
    "import random\n",
    "import sys\n",
    "np.set_printoptions(threshold=sys.maxsize)"
   ]
  },
  {
   "cell_type": "code",
   "execution_count": 2,
   "metadata": {},
   "outputs": [
    {
     "name": "stdout",
     "output_type": "stream",
     "text": [
      "{'L': 0, 'M': 1, 'H': 2}\n",
      "[[22.  2.  0.]\n",
      " [ 5. 22.  3.]\n",
      " [ 0.  5. 22.]]\n",
      "[[0.91666667 0.08333333 0.        ]\n",
      " [0.16666667 0.73333333 0.1       ]\n",
      " [0.         0.18518519 0.81481481]]\n"
     ]
    }
   ],
   "source": [
    "def generate_score(seq_len, scores):\n",
    "    s = ''\n",
    "    for i in range(seq_len):\n",
    "        s += random.choice(scores)\n",
    "    return s\n",
    "\n",
    "\n",
    "def count_scores(score_seq, count_mx, scores_dt):\n",
    "    for idx, i in enumerate(score_seq[:-1]):\n",
    "        a, b = scores_dt[score_seq[idx]], scores_dt[score_seq[idx+1]]\n",
    "        count_mx[a, b] += 1\n",
    "\n",
    "    return count_mx\n",
    "\n",
    "\n",
    "def transition_matrix(count_mx):\n",
    "    trans_mx = []\n",
    "    \n",
    "    for i in count_mx:\n",
    "        new_row = i / i.sum()\n",
    "        trans_mx.append(new_row.tolist())\n",
    "\n",
    "    trans_mx = np.array(trans_mx)\n",
    "    \n",
    "    return trans_mx\n",
    "\n",
    "\n",
    "scores = '''LMH''' # this is a highly simplified scoring system for testing purposes\n",
    "scores_dt = {char:idx for idx, char in enumerate(scores)}\n",
    "print(scores_dt)\n",
    "\n",
    "seq_len = 250\n",
    "n = 3\n",
    "\n",
    "random_scores = []\n",
    "for i in range(n):\n",
    "    random_scores.append(generate_score(seq_len, scores))\n",
    "count_mx = np.zeros([len(scores), len(scores)])\n",
    "\n",
    "\n",
    "random_scores = ['HHHHHHHHMMMMLLLLLL', 'HHHHHMMMHHHHMMMMMMMLLLMLLLLLL', 'MMHHHHHHHMMMHHHMMMMMMLLLLMMMMLLLLLLLL']\n",
    "\n",
    "\n",
    "for score_seq in random_scores:\n",
    "    count_mx = count_scores(score_seq, count_mx, scores_dt)\n",
    "print(count_mx)\n",
    "trans_mx = transition_matrix(count_mx)\n",
    "print(trans_mx)"
   ]
  },
  {
   "cell_type": "code",
   "execution_count": 3,
   "metadata": {},
   "outputs": [
    {
     "data": {
      "text/plain": [
       "array(['M', 'M', 'H', 'H', 'H', 'H', 'H', 'H', 'H', 'H', 'H', 'H', 'H',\n",
       "       'H', 'H', 'H', 'H', 'H', 'H', 'H', 'H', 'H', 'H', 'H', 'H', 'H',\n",
       "       'H', 'H', 'H', 'H'], dtype='<U1')"
      ]
     },
     "execution_count": 3,
     "metadata": {},
     "output_type": "execute_result"
    }
   ],
   "source": [
    "init_char = 'H'\n",
    "\n",
    "np.random.choice(['H','M','L'], 30, p=[0.91666667, 0.08333333, 0.])"
   ]
  },
  {
   "cell_type": "code",
   "execution_count": 45,
   "metadata": {},
   "outputs": [
    {
     "ename": "KeyError",
     "evalue": "'H'",
     "output_type": "error",
     "traceback": [
      "\u001b[0;31m---------------------------------------------------------------------------\u001b[0m",
      "\u001b[0;31mKeyError\u001b[0m                                  Traceback (most recent call last)",
      "\u001b[0;32m<ipython-input-45-7a6b8b78fde8>\u001b[0m in \u001b[0;36m<module>\u001b[0;34m\u001b[0m\n\u001b[1;32m      8\u001b[0m \u001b[0mscore\u001b[0m \u001b[0;34m=\u001b[0m \u001b[0;34m'H'\u001b[0m\u001b[0;34m\u001b[0m\u001b[0;34m\u001b[0m\u001b[0m\n\u001b[1;32m      9\u001b[0m \u001b[0mnext_s\u001b[0m \u001b[0;34m=\u001b[0m \u001b[0mlist\u001b[0m\u001b[0;34m(\u001b[0m\u001b[0mscores_dt\u001b[0m\u001b[0;34m.\u001b[0m\u001b[0mkeys\u001b[0m\u001b[0;34m(\u001b[0m\u001b[0;34m)\u001b[0m\u001b[0;34m)\u001b[0m\u001b[0;34m\u001b[0m\u001b[0;34m\u001b[0m\u001b[0m\n\u001b[0;32m---> 10\u001b[0;31m \u001b[0mscore\u001b[0m \u001b[0;34m=\u001b[0m \u001b[0msimulate_error\u001b[0m\u001b[0;34m(\u001b[0m\u001b[0mscores_dt\u001b[0m\u001b[0;34m,\u001b[0m \u001b[0mtrans_mx\u001b[0m\u001b[0;34m,\u001b[0m \u001b[0mscore\u001b[0m\u001b[0;34m,\u001b[0m \u001b[0;36m30\u001b[0m\u001b[0;34m,\u001b[0m \u001b[0mnext_s\u001b[0m\u001b[0;34m)\u001b[0m\u001b[0;34m\u001b[0m\u001b[0;34m\u001b[0m\u001b[0m\n\u001b[0m",
      "\u001b[0;32m<ipython-input-45-7a6b8b78fde8>\u001b[0m in \u001b[0;36msimulate_error\u001b[0;34m(scores_dt, trans_mx, score, len_scores, next_s)\u001b[0m\n\u001b[1;32m      1\u001b[0m \u001b[0;32mdef\u001b[0m \u001b[0msimulate_error\u001b[0m\u001b[0;34m(\u001b[0m\u001b[0mscores_dt\u001b[0m\u001b[0;34m,\u001b[0m \u001b[0mtrans_mx\u001b[0m\u001b[0;34m,\u001b[0m \u001b[0mscore\u001b[0m\u001b[0;34m,\u001b[0m \u001b[0mlen_scores\u001b[0m\u001b[0;34m,\u001b[0m \u001b[0mnext_s\u001b[0m\u001b[0;34m)\u001b[0m\u001b[0;34m:\u001b[0m\u001b[0;34m\u001b[0m\u001b[0;34m\u001b[0m\u001b[0m\n\u001b[1;32m      2\u001b[0m     \u001b[0;32mfor\u001b[0m \u001b[0mi\u001b[0m \u001b[0;32min\u001b[0m \u001b[0mrange\u001b[0m\u001b[0;34m(\u001b[0m\u001b[0mlen_scores\u001b[0m\u001b[0;34m)\u001b[0m\u001b[0;34m:\u001b[0m\u001b[0;34m\u001b[0m\u001b[0;34m\u001b[0m\u001b[0m\n\u001b[0;32m----> 3\u001b[0;31m         \u001b[0mnext_p\u001b[0m \u001b[0;34m=\u001b[0m \u001b[0mtrans_mx\u001b[0m\u001b[0;34m[\u001b[0m\u001b[0mscores_dt\u001b[0m\u001b[0;34m[\u001b[0m\u001b[0mscore\u001b[0m\u001b[0;34m[\u001b[0m\u001b[0;34m-\u001b[0m\u001b[0;36m1\u001b[0m\u001b[0;34m]\u001b[0m\u001b[0;34m]\u001b[0m\u001b[0;34m]\u001b[0m\u001b[0;34m\u001b[0m\u001b[0;34m\u001b[0m\u001b[0m\n\u001b[0m\u001b[1;32m      4\u001b[0m         \u001b[0mscore\u001b[0m \u001b[0;34m+=\u001b[0m \u001b[0mnp\u001b[0m\u001b[0;34m.\u001b[0m\u001b[0mrandom\u001b[0m\u001b[0;34m.\u001b[0m\u001b[0mchoice\u001b[0m\u001b[0;34m(\u001b[0m\u001b[0mnext_s\u001b[0m\u001b[0;34m,\u001b[0m \u001b[0;36m1\u001b[0m\u001b[0;34m,\u001b[0m \u001b[0mp\u001b[0m\u001b[0;34m=\u001b[0m\u001b[0mnext_p\u001b[0m\u001b[0;34m)\u001b[0m\u001b[0;34m[\u001b[0m\u001b[0;36m0\u001b[0m\u001b[0;34m]\u001b[0m\u001b[0;34m\u001b[0m\u001b[0;34m\u001b[0m\u001b[0m\n\u001b[1;32m      5\u001b[0m \u001b[0;34m\u001b[0m\u001b[0m\n",
      "\u001b[0;31mKeyError\u001b[0m: 'H'"
     ]
    }
   ],
   "source": [
    "def simulate_error(scores_dt, trans_mx, score, len_scores, next_s):\n",
    "    for i in range(len_scores):\n",
    "        next_p = trans_mx[scores_dt[score[-1]]]\n",
    "        score += np.random.choice(next_s, 1, p=next_p)[0]\n",
    "        \n",
    "    return score\n",
    "\n",
    "score = 'H'\n",
    "next_s = list(scores_dt.keys())\n",
    "score = simulate_error(scores_dt, trans_mx, score, 30, next_s)"
   ]
  },
  {
   "cell_type": "code",
   "execution_count": 5,
   "metadata": {
    "scrolled": true
   },
   "outputs": [
    {
     "name": "stdout",
     "output_type": "stream",
     "text": [
      "{'!': 0, '\"': 1, '#': 2, '$': 3, '%': 4, '&': 5, \"'\": 6, '(': 7, ')': 8, '*': 9, '+': 10, ',': 11, '-': 12, '.': 13, '/': 14, '0': 15, '1': 16, '2': 17, '3': 18, '4': 19, '5': 20, '6': 21, '7': 22, '8': 23, '9': 24, ':': 25, ';': 26, '<': 27, '=': 28, '>': 29, '?': 30, '@': 31, 'A': 32, 'B': 33, 'C': 34, 'D': 35, 'E': 36, 'F': 37, 'G': 38, 'H': 39, 'I': 40, 'J': 41}\n",
      "1.0013909320045544\n"
     ]
    }
   ],
   "source": [
    "def sniff_data(example_file, scores, scores_dt):\n",
    "    count_mx = np.zeros([len(scores), len(scores)])\n",
    "    i = 0\n",
    "    with open(example_file) as f:\n",
    "        for line in f:\n",
    "            i += 1\n",
    "            if i % 4 == 0:\n",
    "                line = line.rstrip()\n",
    "                count_mx = count_scores(line, count_mx, scores_dt)\n",
    "            if i % 40000 == 0:\n",
    "                print((i/3994444)*100)\n",
    "                break # stop the file iteration early\n",
    "                \n",
    "    return count_mx\n",
    "    \n",
    "scores = '''!\"#$%&'()*+,-./0123456789:;<=>?@ABCDEFGHIJ'''\n",
    "scores_dt = {char:idx for idx, char in enumerate(scores)}\n",
    "print(scores_dt)\n",
    "\n",
    "example_file = '../tests/test_error_model1/simulated_R1.fastq'\n",
    "count_mx = sniff_data(example_file, scores, scores_dt)"
   ]
  },
  {
   "cell_type": "code",
   "execution_count": 6,
   "metadata": {
    "scrolled": true
   },
   "outputs": [
    {
     "data": {
      "text/plain": [
       "array([ 0,  1,  3,  4,  5,  6,  7,  8,  9, 10, 11, 12, 14, 15, 16, 17, 18,\n",
       "       19, 20, 21, 23, 24, 25, 26, 28, 29, 30, 31, 33, 34, 35, 36, 37, 39,\n",
       "       41])"
      ]
     },
     "execution_count": 6,
     "metadata": {},
     "output_type": "execute_result"
    }
   ],
   "source": [
    "keep_scores = np.where(~count_mx.any(axis=0))[0]\n",
    "keep_scores"
   ]
  },
  {
   "cell_type": "code",
   "execution_count": 7,
   "metadata": {},
   "outputs": [],
   "source": [
    "count_mx = np.delete(count_mx, keep_scores, axis=1)\n",
    "count_mx = np.delete(count_mx, keep_scores, axis=0)"
   ]
  },
  {
   "cell_type": "code",
   "execution_count": 8,
   "metadata": {},
   "outputs": [
    {
     "data": {
      "text/plain": [
       "{'#': 0, '.': 1, '7': 2, '<': 3, 'A': 4, 'G': 5, 'I': 6}"
      ]
     },
     "execution_count": 8,
     "metadata": {},
     "output_type": "execute_result"
    }
   ],
   "source": [
    "scores_dt = [k for k,v in scores_dt.items() if v not in keep_scores]\n",
    "scores_dt = {k:idx for idx, k in enumerate(scores_dt)}\n",
    "scores_dt"
   ]
  },
  {
   "cell_type": "code",
   "execution_count": 9,
   "metadata": {},
   "outputs": [],
   "source": [
    "np.savetxt('count_mx.csv', count_mx, delimiter=',')"
   ]
  },
  {
   "cell_type": "code",
   "execution_count": 50,
   "metadata": {},
   "outputs": [
    {
     "name": "stdout",
     "output_type": "stream",
     "text": [
      "[[7.21476510e-01 1.00671141e-02 3.35570470e-03 2.65100671e-01\n",
      "  0.00000000e+00 0.00000000e+00 0.00000000e+00]\n",
      " [1.63327971e-05 3.43780879e-01 1.04562567e-01 2.40230946e-01\n",
      "  1.47664818e-01 1.63744457e-01 0.00000000e+00]\n",
      " [0.00000000e+00 3.31260383e-01 1.90271329e-01 4.86433531e-02\n",
      "  2.79805767e-01 1.50019168e-01 0.00000000e+00]\n",
      " [3.02201756e-04 2.42221902e-01 1.60742553e-02 2.07123327e-01\n",
      "  1.90257591e-01 3.44020722e-01 0.00000000e+00]\n",
      " [1.54964281e-05 1.05752791e-01 1.76969209e-02 3.92886106e-02\n",
      "  2.15333199e-01 6.21613385e-01 2.99597609e-04]\n",
      " [1.24861820e-05 2.83028449e-02 2.36654769e-03 1.17644806e-02\n",
      "  8.25270034e-02 6.38040568e-01 2.36986069e-01]\n",
      " [2.27437878e-06 3.24212695e-03 2.11517227e-04 1.93208478e-03\n",
      "  1.71852061e-02 3.00811612e-01 6.76615179e-01]]\n"
     ]
    }
   ],
   "source": [
    "trans_mx = transition_matrix(count_mx)\n",
    "print(trans_mx)"
   ]
  },
  {
   "cell_type": "code",
   "execution_count": 71,
   "metadata": {},
   "outputs": [
    {
     "name": "stdout",
     "output_type": "stream",
     "text": [
      "IIGA...A..GIGGGGIIGGIGGGGIIIGGAGGIIIGGGGIIIGGGGGGGG.AGGGAAGGGGG<.AGGGGGGGGIIIGGGAGGIIIIGGGIIGGIIGGGGIGGIIIIIGIIGIIIIGGGIGIIIII.<GIIIIIIIIIIAAGGGGGGIIII\n",
      "0.007457117414474487\n"
     ]
    }
   ],
   "source": [
    "import time\n",
    "\n",
    "score = 'I'\n",
    "count = 0\n",
    "\n",
    "start = time.time()\n",
    "while count < 10000:\n",
    "    count += 1\n",
    "    score = 'I'\n",
    "    next_s = list(scores_dt.keys())\n",
    "    score = simulate_error(scores_dt, trans_mx, score, 150, next_s)\n",
    "print(score)\n",
    "print((time.time() - start)/10000)"
   ]
  }
 ],
 "metadata": {
  "kernelspec": {
   "display_name": "Python 3",
   "language": "python",
   "name": "python3"
  },
  "language_info": {
   "codemirror_mode": {
    "name": "ipython",
    "version": 3
   },
   "file_extension": ".py",
   "mimetype": "text/x-python",
   "name": "python",
   "nbconvert_exporter": "python",
   "pygments_lexer": "ipython3",
   "version": "3.8.6"
  }
 },
 "nbformat": 4,
 "nbformat_minor": 4
}
